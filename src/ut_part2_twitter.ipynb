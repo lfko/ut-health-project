{
 "nbformat": 4,
 "nbformat_minor": 2,
 "metadata": {
  "language_info": {
   "name": "python",
   "codemirror_mode": {
    "name": "ipython",
    "version": 3
   },
   "version": "3.7.4"
  },
  "orig_nbformat": 2,
  "file_extension": ".py",
  "mimetype": "text/x-python",
  "name": "python",
  "npconvert_exporter": "python",
  "pygments_lexer": "ipython3",
  "version": 3
 },
 "cells": [
  {
   "cell_type": "code",
   "execution_count": 69,
   "metadata": {},
   "outputs": [],
   "source": [
    "import pandas as pd\n",
    "import json\n",
    "import nltk\n",
    "from tinydb import TinyDB\n",
    "import requests\n",
    "from bs4 import BeautifulSoup\n",
    "from urllib.request import urlopen\n",
    "\n",
    "workDir = '/home/lefko/git/ut-health-project'\n",
    "dbfile = workDir + '/db/tweets.json'"
   ]
  },
  {
   "cell_type": "code",
   "execution_count": 72,
   "metadata": {},
   "outputs": [],
   "source": [
    "def getCitiesPerState(state):\n",
    "    '''\n",
    "        @param state must begin with an uppercase letter\n",
    "        scrape the list of cities and towns in the respective state\n",
    "    '''\n",
    "    raise DeprecationWarning('Not working, sadly.')\n",
    "    cities = []\n",
    "    url = 'https://en.wikipedia.org/wiki/List_of_cities_and_towns_in_' + state\n",
    "    print('url to scrape:', url)\n",
    "    website = requests.get(url)\n",
    "    # load the retrieved site with BS\n",
    "    soup = BeautifulSoup(website.text,'html.parser')\n",
    "    \n",
    "    # cities/towns are stored in an element with class 'wikitable sortable'\n",
    "    cities_table = soup.find_all(\"table\", class_ = \"wikitable sortable\")\n",
    "    print(len(cities_table))\n",
    "    '''\n",
    "    cities_links = cities_table.findAll('a') # city names are links in the table\n",
    "    for link in cities_links:\n",
    "        cities.append(link.get('title'))\n",
    "    '''\n",
    "    return cities\n",
    "\n",
    "def readCitiesFromFile(state):\n",
    "    cities = []\n",
    "    with open(workDir + '/data/cities_' + state + '.txt') as txt:\n",
    "        for line in txt:\n",
    "            cities.append(line.strip().lower())\n",
    "\n",
    "    return pd.DataFrame(cities, columns = ['city'])"
   ]
  },
  {
   "cell_type": "code",
   "execution_count": 73,
   "metadata": {},
   "outputs": [
    {
     "name": "stdout",
     "output_type": "stream",
     "text": "city\n0          acres green\n1              aguilar\n2    air force academy\n3                akron\n4              alamosa\n..                 ...\n349      woodland park\n350           woodmoor\n351               wray\n352              yampa\n353               yuma\n\n[354 rows x 1 columns]\n"
    }
   ],
   "source": [
    "#print(getCitiesPerState('Colorado'))\n",
    "print(readCitiesFromFile('co'))"
   ]
  },
  {
   "cell_type": "code",
   "execution_count": 14,
   "metadata": {},
   "outputs": [
    {
     "name": "stdout",
     "output_type": "stream",
     "text": "12503 tweets loaded!\n"
    }
   ],
   "source": [
    "def accessDB():\n",
    "    db = TinyDB(dbfile)\n",
    "    return db.all()\n",
    "\n",
    "'''\n",
    "    Tweets are saved in a JSON. Read this file and convert it's contents to a pandas dataframe.\n",
    "'''\n",
    "tweets = accessDB()\n",
    "df = pd.DataFrame()\n",
    "\n",
    "for i, tweet in enumerate(tweets):\n",
    "    df = df.append(pd.DataFrame(tweet, index = [i]))\n",
    "\n",
    "print(len(df), 'tweets loaded!')"
   ]
  },
  {
   "cell_type": "code",
   "execution_count": 15,
   "metadata": {},
   "outputs": [
    {
     "name": "stdout",
     "output_type": "stream",
     "text": "id              created             user coords  \\\n0   1208831741235871744  2019-12-22T19:28:40   BroncosFan1959   None   \n1   1208831742947102720  2019-12-22T19:28:41      totallyroze   None   \n2   1208831743194812417  2019-12-22T19:28:41       kwakuadu20   None   \n3   1208831743249268737  2019-12-22T19:28:41      jferrell526   None   \n4   1208831743865884672  2019-12-22T19:28:41       AintSoBad2   None   \n5   1208831745052692480  2019-12-22T19:28:41   momstortellini   None   \n6   1208831746655039493  2019-12-22T19:28:42  michiikomorenos   None   \n7   1208831746822815744  2019-12-22T19:28:42   AguyNamedCaleb   None   \n8   1208831747766534144  2019-12-22T19:28:42       FirstLiked   None   \n9   1208831748634750977  2019-12-22T19:28:42  _anchorsarecool   None   \n10  1208831749268131846  2019-12-22T19:28:42           m0llz_   None   \n11  1208831750199222272  2019-12-22T19:28:42        susiezygy   None   \n12  1208831752426311680  2019-12-22T19:28:43   Angusschuurman   None   \n13  1208831753030234112  2019-12-22T19:28:43    DomGoddess603   None   \n14  1208831753760235521  2019-12-22T19:28:43   carolinaHellal   None   \n\n                         loc  \\\n0           Fort Collins, CO   \n1                       None   \n2                       None   \n3                   Virginia   \n4                   Hrvatska   \n5                       None   \n6                  Class 3E.   \n7              United States   \n8                       None   \n9          wasteland (Texas)   \n10                  england    \n11  No Candidate Bashing!!!!   \n12                      None   \n13        New Hampshire, USA   \n14          Denver, Colorado   \n\n                                                 text  \n0                               @ERuns You know it !!  \n1   @Mia54994090 ill trade ride horse, bee, and ri...  \n2   @SixthFinga @eastsportsman Enjoy the fun alone...  \n3   @AliaTisHere @angelgirl1077 Don't be sorry, Ho...  \n4   I've been sick af for few days and thought abo...  \n5   @NFL_DovKleiman @FieldGulls Drug so nice you g...  \n6   @demonsitaa I’m sick of u miss “i’m posting it...  \n7   @StaggersonJagz ILL STAY OUT OF YOUR ROOM IF Y...  \n8   VIDEO: Suspected drug smugglers saved from dro...  \n9   i stopped the stream early cause im dealing wi...  \n10  Late night munchies Snapchat story is actually...  \n11  @JoyceWhiteVance It's all the hate base. Red m...  \n12  What good stuff is happening Twitterers? \\nToo...  \n13  Ill be so damn happy when #December is over!!!...  \n14  Faux shearling jackets and coated jeans are my...  \n                        id              created             user coords  \\\n12488  1209147175424249856  2019-12-23T16:22:06        V_Broncos   None   \n12489  1209147178750361600  2019-12-23T16:22:06    Steve49776564   None   \n12490  1209147184265826304  2019-12-23T16:22:08     DearJoenessa   None   \n12491  1209147185964535809  2019-12-23T16:22:08    tmj_den_manuf   None   \n12492  1209147198392287232  2019-12-23T16:22:11     wearekakashi   None   \n12493  1209147216729784320  2019-12-23T16:22:15    lordkimmander   None   \n12494  1209147222878650368  2019-12-23T16:22:17         geeeeeby   None   \n12495  1209147246761005059  2019-12-23T16:22:23      lynnemaren1   None   \n12496  1209147267426537472  2019-12-23T16:22:28        jccrocker   None   \n12497  1209147284459405312  2019-12-23T16:22:32      JamesShoup3   None   \n12498  1209147307243032576  2019-12-23T16:22:37  ICouldSewDoThat   None   \n12499  1209147331498524672  2019-12-23T16:22:43      lynnemaren1   None   \n12500  1209147339945992192  2019-12-23T16:22:45  richardsmelissa    NaN   \n12501  1209147369826050048  2019-12-23T16:22:52     wearekakashi   None   \n12502  1209147385210761217  2019-12-23T16:22:56     JMichaelFoto   None   \n\n                       loc                                               text  \n12488  Broncos Country, CO                                           Flu Game  \n12489      Peoria, Arizona  As 750 Historians Call for Trump’s Impeachment...  \n12490                 None  “ You’re a different kind of species, because ...  \n12491           Denver, CO  This job is now open at Presbyterian/St. Luke'...  \n12492            Worldwide  @wellezumleben @travelingmitch Same! We want t...  \n12493                 None  missed connection: to the sweet bearded lumber...  \n12494              she/her                                      10 spots left  \n12495                 None       @gtconway3d Whose that lady in the portrait?  \n12496    Oklahoma City, OK  @bills_breakdown @stephietweets It might also ...  \n12497           Deming, NM  Wendy Flora is an amazing person and a better ...  \n12498           Denver, CO  Hello Hot Springs! Last night after arriving o...  \n12499                 None                       @gtconway3d Where’s Melania?  \n12500             Colorado  Just posted a photo @ Denver, Colorado https:/...  \n12501            Worldwide  @CharlesMcCool @SashaEats @travelingmitch @Cel...  \n12502          Pullman, WA  The lies just come easier and easier for @GOPL...  \n"
    }
   ],
   "source": [
    "print(df.head(15))\n",
    "print(df.tail(15))"
   ]
  },
  {
   "cell_type": "code",
   "execution_count": 20,
   "metadata": {},
   "outputs": [
    {
     "name": "stdout",
     "output_type": "stream",
     "text": "heaven', 'san mo', 'München, Germany', 'the Internet', '0121/durham', 'soojin jieun chungha jae', 'Manitoba, Canada', 'South East England', 'childish ', 'Lymm', 'Carolina', 'mass', 'Slumberville', '🌏', 'Atlanta, Georgia... ish', 'Currently in the UK', 'sɹɐʇs ǝɥʇ ʇsɓuoɯɐ', 'Southwest Detroit', '#ProudcitizenoftheworldUKborn', 'aberdare', 'Chicago, Illinois', 'Eastend louisville', 'Detroit', 'skz - vii', 'Vancouver, WA', 'East St. Louis, Ilinois', '강동호. 김홍중. 전정국. 김승훈. 앤니.', 'Las Pinas City, National Capit', 'Northern New England', 'Ibadan', 'Brussels', 'Bokakhat, Assam', 'Izmir, Turkey', 'on an island that hard to find', 'Rock Island, Indian Ocean ', 'Lexington South Carolina', 'PA, United States', 'Valencia, España', 'Georgetown, Ontario, Canada', \"katara's heart.\", 'queer', 'Armylandweeb | Wangxian Lover', 'Deprogramming the West, one mind at a time. ', 'Lancaster, England', '18', 'Cagayan de Oro, Philippines', 'Earth, Solar System', 'In my head', 'Coconut Creek, Florida', \"Lake Livin'~Small Town Indiana\", 'bts aoty', 'Loonaverse ', 'Georgia', 'CODE: K.', 'St Louis, MO', 'i love mya', 'Fanwood, NJ', 'Puerto Rico, USA', 'Lake Country, British Columbia', 'karma • ıstj-a', 'الشرقية, مصر', 'manga spoilers (I read raws) ', 'Griseldas House', 'Middle Earth ', ' Sydney ', 'Good Boy Town', 'El Monofia, Egypt', '🇮🇹', 'A Chicagogetter. ', 'Surrey, England', 'Kirkcaldy, Scotland', \" bangtan's eyes\", 'Brixton, England', 'Somewhere taking L’s', 'UAE.', 'bts  akmu  loona  honeypopcorn', 'Novi, MI', 'Togiak Alaska USA', \"uzui tengen's lap\", 'Lusaka', 'the Future', 'Raleigh-Durham-Chapel Hill', 'In my Switch', 'cutest tonionioni :]', 'Savannah, Georgia', 'Not telling you where I live.', 'Eating', 'Delhi ', '#334.. montgomery-BAMA', 'Ophelia & Co.', 'BHL • CEB', 'Trenches', 'Pensacola, FL', 'Las Vegas and Los Angeles', 'Hasetsu Castle', 'Rochester, New York', 'Cybertron ', 'Newcastle upon Tyne', 'road not taken', 'BigOilogorsk, Russia', 'FS♡SF ', 'Boston, MA  USA', 'brighton ', 'Consett, England', 'moarmy ♡ ', 'Central California', 'al ghusais | angeles | katips', ' 王', 'they/them | 19 | eng+ita |', 'Kilmarnock, Scotland', 'Saint Louis Missouri', 'Shawnee, OK', 'David, Angel, Marcus, Xavier ', 'Palestine/Bahrain', '이기자🛑 IGIJA 🛑', 'In My Duffy 🎒🎒', 'Indiana, U.S.', 'Hengelo, Nederland', 'Holbrook, MA', 'SLAVERY REPARATIONS,USA+FRANCE', 'The 9', 'Nairobi, Kenya.', 'Everywhere, usa', 'vmin land', 'Ramsgate, Kent, United Kingdom', '876', 'Harrow Wealdstone', 'Elland Road Stadium', 'Walking in my destiny', 'Hovedstaden, Danmark', 'In your wildest dreams', 'in my bag.💰💰', 'Rieumes, France', \"𝐁𝐋𝐀𝐂𝐊𝐕𝐄𝐋𝐕𝐄𝐓 ／  \\xa0𝐍𝐒𝐀\\n𝑲𝑶𝑹𝑬𝑨'𝑺 𝑶𝑵𝑬 𝑨𝑵𝑫 𝑶𝑵𝑳𝒀 𝑽𝑰𝑺𝑼𝑨𝑳 𝑮𝑶𝑫𝑫𝑬𝑺𝑺。\\n𝑽𝑬𝑳𝑶𝑼𝑹𝑺 𝑫𝑬𝑼𝑿 𝑭𝑶𝑰𝑺 𝑹𝑶𝑺𝑬  \", 'Parts Unknown, Canada', 'aby.ifi.ava.kun.dean.', 'At the eyepiece', 'btxteez + 5sos | he/him !!', 'ᶠᵃᵏᵉ/ᵖᵃʳᵒᵈʸ ¹⁸⁺', 'Calgary, Alberta', '(fae/faer)', 'Bristol', 'RBF Island ☁️', 'Pacific Northwest', 'Washington, DC/Honolulu, HI', 'Toronto, Canada 🇨🇦\\n', 'away with the fairies ', 'College Park, MD', 'トゥワイス', 'Est. October 22, 2014', 'Dungun, Terengganu', '[ she/her ] + persephone stan❤', '@realjonghyun90 영원히 사랑해 ♡', 'Middlesbrough, England', 'Lawrence, KS', 'ina hood near you 💎', 'Regina, Saskatchewan', 'nmx', 'Traveling Somewhere ... ✨', '  GoodFella  ♓️', 'Galactic Universe Sun ', 'dj', \"Not this 'planet' that's for sure!\", 'Loveland, OH', 'my heart ', 'Blackpool/Catania', \"namkanda's island\", 'Kansas ☃️', 'where feet may fail', 'Stateside (U.S.) ', 'Upstate New York', 'atl ', 'singapore', 'Harare', 'ben solo apologist & love bot ', 'Barcelona, España', 'allah mafia', 'she/that bitch ', 'JM', 'south--korea', 'South West, England', 'Fortuna', 'Discord: ItsPassive#7460', 'Minneapolis, Minnesota', 'Indianapolis', 'Wheaton, MD', \"🌾 ┊ the day's going so slowly\", 'Mainz', 'Minnetonka, MN', 'Chattanooga', 'Australia.', 'Riverview, New Brunswick', 'Москва, Россия', 'England innit', 'Walt Disney World Resort 💕', 'Augury Bay', 'AL', 'Lincoln, NE', 'Gautier, MS', 'Subotica, Serbia', 'Hopeworld', 'La Habra, CA', 'Kuching, Srwk', 'Staines-upon-Thames', 'Kahndaq  Earth 21 / DMV ', 'tw', 'Midwestern Girl, FL Transplant', 'i live at my house', 'West Yorkshire', 'Cicero, IL', '能登 石川県→Adelaide SA', 'Tampa, FL, USA', 'hannah ♡', 'Tylertown,Ms', 'Rhode Island, USA', 'Wichita ks', 'The Colony, TX', 'Phoenix, AZ by way of TX', 'Jacksonville Beach, FL', \"chansoo's beret\", 'Bilbao', 'Virginia ✈️ 573', 'GH, OH ', 'Red State', 'Dimension X', '北嶋徹', 'North Carolina, USA  919', 'Where im at', 'Southern Maryland', 'Baltimore,MD ', '🐚', 'Be nice, spread love💞', 'Birmingham , Alabama', 'Shibuya-ku, Tokyo', \"iKON's Heart 👀\", 'Stratford, CT', 'Napping on a beach 💋', 'DMV via the Bay Area', 'Bandung', 'Corleone, Sicilia', 'Eiji’s legs', 'Sugar Grove, NC', '20 f/a', 'in your bedroom boo🌚🌚', 'Bcn', 'Currently Occupied USA 😥', 'Worthing, England', 'Kanagawa-ken, Japan', 'she/her, nb', 'Moncton, NB', 'sydney, australia', 'Giving to the comunity', 'Sixth Layer of Hell', 'Scarborough', 'Saint Paul, Minnesota', 'PA, Philadelphia', 'West Lafayette, Indiana', 'Cedartown, Ga.', 'OT7 stans in this house bitch', 'Brattleboro VT', 'uNdEr ThE sEa', 'Dreamin’ abt food', 'Norman, OK', \"Not Where I'm Supposed To Be\", 'xv iv', 'dm for fb!', 'Narnia / Omelas', 'Ren | 18 | she/her | AUS', 'toronto', 'earth-616', 'https://www.twitch.tv/enrel_kitsune', 'Big Faggotery Land', \"I'M ANYWHERE & EVERYWHERE\", 'Sinnoh', 'E-1610', 'Pasig City, National Capital R', 'iPhone: 0.000000,0.000000', 'Heavens Arena', 'Warren, Ohio', '*hopefully Kassandra’s bed*', '440', 'somewhere drunk or sumshit', 'PA', 'PL ; RP ; OC', 'Richmond, London', 'eating chan', 'Dharma Yoga Shala', 'Morgantown, WV', 'between a rock n a hard place', 'On the Moon', \"I'm here but I'm really gone\", 'elle', 'Washington, DC suburbs', 'GHANA', 'In your heart', 'Sac: BunnyFNBR #ad', '𝐊𝐀𝐑𝐈𝐍 ♡ ╱ 𝐁𝐔𝐍/𝐁𝐔𝐍𝐒', 'Cambridge uk', 'Ghaziabad, India', 'she/they✨', 'Little Rock, AR', 'nouméa   Nouvelle-Calédonie', 'Croydon, London', 'East London, South Africa', '🔞 | RMVHope', 'South Korea ', 'Merton', '#ProudTexan', 'Mountains ', 'in klaus mikaelson’s heart', 'your local cave', \"Dog's favorite places\", 'ㅤㅤㅤ𝗩𝗔𝗡𝗧𝗛𝗘𝗔 𝗟𝗔𝗧𝗥𝗘𝗟𝗟𝗘。\\nㅤㅤㅤ您可以拨打𝐕𝐀𝐍或𝐓𝐇𝐄𝐀。\\nㅤㅤㅤ她看起来像一朵花，\\nㅤㅤㅤ但她并不像您想的那样柔软。\\nㅤㅤㅤ她的花瓣可能容易掉落，\\nㅤㅤㅤ但是像子弹一样击中。', 'West Sussex', 'Marvel RP', 'mai ♡ read carrd byf', '#emerip ', 'Passing through. Each day closer to Home', 'Croydon ', '901🛫Dallas', 'harlem', 'Witness Protection', 'between corn and bean fields', 'Lets say Japan for now', 'Not Winnipeg', 'Merthyr Tydfil, Wales', 'they/them - 🇨🇦🏳️\\u200d🌈', 'australia | pyrrhics @ ao3', 'Pittsburgh ➡️ D{M}V ', '𝗌𝖺𝗇𝗌𝗂𝗇 • 7.7 • 30.11💍🌌', 'Sibu, Sarawak', 'woolie 💖', 'hw2 h1', 'Gauteng South Africa', 'Unapani Rd, LalDarwaja, Surat ', 'Kedah, Malaysia', 'Coronado, CA', 'Flawda ✈️ Jersey', 'cheed fries', 'Little Rock 🍯', 'UP NORTH .', 'UAE | USA | INDIA', 'VTZ,BLR,MXP,MRS,PNQ,DEL', 'btskz ++', 'コスモス', 'hanging out in the Midwest', 'Bannedmemesland', 'jam', 'Oceania', 'nyc', 'Zion Train ', 'Brighton, England', 'Far Far Away', 'spfc', \"My Mom's House, Texas\", 'bsd/kny/given/hq', 'On a train bound for nowhere', 'Stockbridge,Ga ', 'G.T.A, Can', 'Busan, Republic of Korea', 'Ad Astra ', 'SY:LA', 'Destin, FL', 'Mongolia', 'Sizilien, Italien', 'icon—meyoco ♡ tidoochies ', 'Firmat', 'The Flatlands, Driers Hance', 'stream blue flame', 'Bugscuffel Community AR', 'Weyers Cave, VA', 'South Croydon', 'B Dub', \"Brenda Song's Legs\", 'blinkluv', 'moon', 'Everywhere   ', 'Holladay, UT', 'Washington DC. ', 'Brighton.', 'voetsek', 'Mars  ', 'Wilmington, NC', 'Dhaka 1207, Bangladesh', 'Putrajaya, Malaysia ', 'Shawforth, Lancashire', 'canon hell dot com', 'Mahalapye || Bulawayo ', \"at The BEACH #rundon'twalkaway#keepICEabolishFBI\", 'The Land', 'sweetener ', 'Ghana', 'A hedgehermitage by the sea', 'Clay, NY', '🏳️\\u200d🌈🇫🇮 ults: ateez & bts', '🇳🇱NL artist, living in SWE🇸', 'Ann Arbor, MI', 'Woodville', 'Memphis, Egypt', 'Albuquerque, New Mexico', 'Ikke Norge ', '617', 'Berlin, Germany', 'New Orleans, LA 🛬 Austin TX', '💰', 'Orange Walk, Belize', 'salford ', 'Saint Louis, MO', '💀\\U0001f90d🕊🏳️', 'MANY[Louisiana]', 'Caerphilly, 🏴\\U000e0067\\U000e0062\\U000e0077\\U000e006c\\U000e0073\\U000e007f', 'jr', 'ur ass', 'Forest', 'Louisiana ', 'Baladweyne', 'In your head!! In your heart!!', 'she kinda hot tho 🥵', 'Miami Soon 😘😘😘', 'Moorestown, NJ', 'studying ', 'Sparta', 'Front lines against Globalism', 'Barking, London', 'she/her | 20 | 🏳️\\u200d🌈', '01.06.19', 'r + e // she/her ', 'Suisun City, CA', ' Suburban Scotland ', 'Location: Lagos, Nigeria', 'ÜT: 42.501012,-71.096002', 'ZMB, PH', 'Western Civilisation', 'sechanxiu', 'factsylvania', 'Cumbria UK', 'Sainte-Même, France', 'gw: 50kg cw:53kg / 152.4cm', 'Monroe , LA ', 'Larne', 'Community', 'Cameroon', '19 | he/they', 'Mobile, Alabama', 'Darwen ', 'denmark', 'Gistel, België', 'MySpace ', 'Noble', 'Canton, MA', 'United states', 'moarmy♡oncezy♡atinyland', 'Riverdale, Ga', 'PG County', 'McEwen, Tennessee', \"♍ | 9⃣0⃣'s BABY❗\", 'living a wöndereö life every single day with gugu babies, dear friend also a meanie yet lovely personal superhero.', 'Dublin, OH', '518', '256', 'Behind you!!!! Hahahaha', 'Earth sauce ☾', 'warm climates all around the world', '🇲🇦', 'việt bắc', 'Accra', 'Conquering the universe', 'Sugar Land, TX', 'Scarborough, Ontario', '📍Atlanta📍Tallahassee📍Tampa', 'fifteen ♡ ', 'Cla Co, SC to Chucktown, SC', 'far from u', 'memphis', '42 Obagoliora St. Iba Lagos NG', '4.6 billion miles from pluto ', 'Singapore (snowless hell)', 'sydney australia', 'lily of the valley ', 'Cleveland, TX', 'Xiao Zhan', 'Swindon', 'Switzerland', 'Mississippi | DetroitMI | Kzoo', 'Vanishing Point ', 'Baltimore, 地球, Cape Breton           P(A|B)=P(B|A)P(A)/P(B)', 'cloud 9', 'aurora sage ♡ daniel ray ', 'Canada USA EUROPE', 'Silver Spring MD', 'english lit @ warwick uni', 'Borneo', 'This is a safe place.', 'I’M THAT BITCH', 'Winners Circle- NikeLife', 'Penetanguishene, Ontario', 'Philadelphia,PA', 'South Bend,IN', '18+ ', 'Stream Neotheater by AJR ♡', 'jongin nation', 'Colombo, Sri Lanka', 'Gahanna, OH', 'Cair Paravel', 'Lexington, KY', 'Uniontown, Pa', 'Edinburgh, UK', 'Tempe. AZ', 'Mustafar', 'Quartier sud, Tarkov', 'chennai', '수고했어요 종현아', 'Asia Pacific', 'she/her | 17', 'Not yet uhuru', 'jace | 22 | they/them', 'Warrington, England', 'Anywhere God places me', '+60 🇲🇾🇲🇾', 'lekki lagos', 'ava by feel_1207', 'Where the wild things be at ! ', \"lore's\", 'Frisco, TX', 'Victoria island Lagos ', 'The planet Earth', 'Kilbirnie, Scotland', 'imagination ✧*:･ﾟ✧', '18 | they/them', 'North London, England ', '𝘪𝘯 𝘮𝘺 𝘳𝘰𝘰𝘮.', 'Writer Tag: #Kiyomichiko', 'The cavern, Liverpool! ', 'maine', 'المملكة العربية السعودية', 'In The End Zone', 'DC USA', 'your heart', 'Black & LGBTQ+ lives matter ', '☀️scorpio 🌚capricorn ⬆️taurus', 'Leicester, UK', 'myfreecams search mia_snow ❄️', 'Birmingham, UK', 'St Simons, GA', 'Fort Lauderdale ↔️ Miami FL', 'where', '💎🌍5hinee world', 'TN', 'The Circus', 'mind ya business ❤️', 'Canberra', 'GL 308', 'Queen Witch. Skyler 💙', 'Petit Valley, Trinidad', 'northern California USA', '+24973 ', '18 . they . lesbian', '106 Hartford CT', '🇨🇦: YYZ • Toronto', 'Reading Berkshire ', 'into the void with him', 'SPAIN!', 'the lab .', 'glory United ', 'Bacolod City, Western Visayas', 'OrbitLuv', 'Coventry, United Kingdom', 'Flint,WA', 'E17 London', 'Yoshi Island', 'Germany and Central Indiana', 'Hamilton, Canada', 'new avengers facility', 'Worldwide 🌍', 'babietrinity™', 'Yellowknife', 'dead inside', 'Arlington Va', '-zurf -mrpizza -superkew -kyra', 'Alexandria, Egypt', 'Atlanta, Georgia ', 'London/Birmingham', 'Georgia, Atlanta', 'Too far from the sea', 'Tuscaloosa, AL', 'planet Earth', 'Abuja', 'anywhere with my babies', 'Somewhere Spraying Something🔫', 'twitter for android', 'NY↔️VA', 'N̶o̶n̶-̶d̶α̶t̶ı̶n̶g̶.̶', 'South Wales UK ', 'they/them.', 'NOWHERESVILLE', 'Galicia ', \"'Murica\", 'Niagara Falls, Ontario', 'managed by: @pwopaganda', 'Radio: @WVNN.   GPTV: @waaytv, @WVNN, @FMTalk1065, & @realtalk995.  Online: @YHN.', '🌾👀🌾', 'Leicester/IRE', 'Earth where you from?', 'somewhere in the whole earth', 'Pontefract, England', 'The Earth.', '🇰🇪🇨🇦', 'Oxford, AL', 'Up North. UK.', 'welo danity army carat atiny', 'dumb lesbian town', '134340', 'City of Lights, Pakistan', 'Hieron', 'Denmark, Western Australia', 'snuggling up to a tiddy', 'Rio de Janeiro, Brasil', 'try and find me', 'Peterborough, England', 'Exeter, Devon (UK) ', 'Amsterdam, Netherlands', 'she/they ; 15 | fan account', 'Poole, Dorset', 'Marietta, GA', 'philippines', 'Wilmington, DE', 'ireland', 'she/they ⚢', 'Bozeman, Mont.', 'Rochester, VT', '♡ z', '🍟', 'UNKWN', 'youniverse', 'Antwerpen', 'ɹǝɥ/ǝɥs', ' Heart alive Live awakened.', 'she • 23', 'http://www.canterbury.ac.uk/so', 'MVRKY WXTERS', 'Espoo, Suomi', 'DMV ', 'exeter / university of warwick', 'Tipperary/Limerick', 'rose', 'hsw hmh pjh pwj', 'Montclair, Nj 07042', 'Harlem, NY', 'panromantic, ???sexual', 'ᴍʏ ʜᴏᴍᴇ', 'C P H ╱ S O F', 'Roaming Planet Earth', 'Whittier, CA', 'Washington, DC & Philadelphia', 'Los Angeles,Magsaysay,Palawan', 'Eroda', 'Cork, Ireland', 'Berlin, DE', 'Norway 🇳🇴', 'China', 'Roaming.', 'Nowhere,Everywhere', 'DTX', 'Antioch, CA', 'Today NYC, tomorrow the world', 'missing fromis.', 'LFK ➡️ KC 🇺🇸', 'Orbit', 'FighterZ Lobby', 'New Zealand ♥', 'City of Lights', 'Randers, Danmark', 'In space!', 'San Pasqual, CA', 's/h | 17 | sub | bi | poc | j♡', 'in my house.', 'weymouth, ma', 'Fort Edward, NY', 'Salford, England', 'Indianapolis, Indiana', 'improving.', 'Body TX Heart and Soul NOLA', 'I have no fucking idea, man', 'pls take me to gigs', 'House Targaryen', 'dirty duval ', '8114 | s/h | 18 | jah | ia', 'ph', 'in outer space ', 'Aurora, NE', 'hauula, hi', '18.798096,98.966316', 'Arvada, CO', 'Ardmore, OK', 'Broken Arrow, Ok', 'Denver, Colorado, USA', 'NE Oklahoma USA', 'Peyton Colorado', 'Surving in Gloomy Colorado', 'Fountain, CO', 'Delta, Co', 'Elbert County, CO', 'Fairfield, CT & Leland, MI', 'Aurora, CO', 'Loveland, CO, USA', 'IMAGINATION', 'On the road!', 'Tecamachalco, Puebla', 'Burlington, CO', 'Arizona, California, mexico', 'CENTRAL UTAH', 'in transit.', 'Colorado, USA, Earth', 'Greenwood Village, CO', 'Castle Rock / Parker / Denver', '713📍303', 'Cats don’t belong outside.', 'Wasilla, AK', 'Crested Butte, CO', 'Prescott Valley, AZ', 'Denver CO', 'Peoria Arizona🌵', 'DEN', 'Navajo ReZ ', 'Scottsdale, AZ', 'Small Town, Merica', 'NC & SC, Colorado', 'Miami fl.', 'Windsor, CO', 'South Park', 'AGW is a hoax', 'Taos, New Mexico', 'Castle Rock, CO', 'Danville, IL', 'Jenks, America', 'Los Angeles, CA ➡️ phoenix, AZ', 'Tahlequah, OK', 'Gering, NE', '607 NY ➳ 970 CO 🗺🏔♡ ', 'Macalester Ok', 'Newman Grove, NE', 'Nederland, Colorado', 'Glendale, Arizona', 'Colorado (USA. EEUU)', 'Fort Lauderdale, FL', 'Durango, CO', 'Littleton, CO', '7425 Grandview Ave, Arvada', 'Vail, CO', 'Commerce City, CO', 'ÜT: 39.756357,-104.914021', 'Las Placitas, New Mexico', 'On top of a mountain 🏔', 'Omaha, NE !', 'Vail Colorado', ' Kansas City, Kansas. ', '80012', 'with my dog', 'Buena Vista, CO', 'Loveland, Co ', 'Colorado Springs, Colorado ', 'California|Nebraska', 'Put a Crown on It - Presale ', 'Colorado Springs, CO ', 'North Salt Lake, UT', 'Stillwater, OK', 'Lafayette, CO', 'longmont colorado', 'FoCo', '@CameronMathison on Instagram', 'seneca,mo', 'okay, oklahoma', 'PHX 🔜 Decadence AZ', 'GREELEY', 'Inside Trinity', 'Deming, NM, USA', 'Mogadishu, Somalia', \"Mountain Time, so that's new. \", 'Manitou Springs, Colorado', 'Boulder CO', \"N 35� 9' 0'' / W 106� 34' 0''\", 'Sanad.bahrain', 'Bapchule,Az', 'Copperton,Utah', 'Sauced Up North Denver, CO', 'www.youtube/smhjacq', \"your dad's\", 'c o l o r a d o', 'Jal New Mex', 'Mile High City ', 'Buckeye, Arizona', 'Deming, NM', 'venmo : @Kaitlyn-Sage-3', 'Englewood, CO (4rm Hammy,  LA)', 'Meeker, CO', 'United States of America ', ' Mendon, Utah', '#1 Best Selling Author', 'Denison, IA', 'Colorado Non-Metro', 'Stonebluff, OK', 'Aspen,CO  Southlake,TX ', 'AZ/CA', 'ETX-DTX', 'Peoria', 'Worldwide  LSU NATION ', 'Country ass town, CO', 'TUH-WAH', 'CO', 'Westwood HS (Richland Two)', 'Big Brother House', 'Palm Beach, FL', 'Nashville ✈️ Denver', 'Pueblo, CO', '90210', 'Norman Ok', 'Den, CO // SLC, UT', 'DEN or DCA', 'Columbia, MO', 'Anthem, AZ', 'Selling Houses 🏡', '35.381602,-80.917102', 'BCD | CEB | LAS | ASE', 'KOA NewsRadio Denver', 'Golden, CO', '₪ ø lll •o. One Love Arizona', 'Denver born /Abilene,Tx raised', 'Bosnia and Herzegovina', 'Lawton, OK', '80219', 'Peoria, AZ', 'Longmont, CO', 'Truckee, CA', 'Houston,Texas ', 'Puerto Nueva, Costa Rica', 'Brooklyn & Fleischmanns, NY', 'Denver, CO, USA', 'Gallup, Nm', 'York Nebraska', 'Denver, Colorado USA', 'Coors', 'Thorton, Colorado', 'the mud', 'A Mountain State in USA', 'Stanley, NM', 'San Diego, CA ', 'Encinitas,CA', 'Bakersfield, UT', 'Phoenix', 'Grand Junction, CO', '☁️', 'BellSide 5280🔔', 'Applewood, CO', 'St. George, Utah', 'somewhere w/ Cord', 'Denver, Co', 'ÜT: 32.840453,-79.858545', 'Lincoln, Nebraska', 'tx! yeehaw!', 'Mauriceville, TX', 'Cloud city', 'Whatever USA', 'Washington DC', 'Utah', 'loveland, co', 'Eufaula, OK', 'Steeleville, IL', 'sc: gracieehamlin', 'aco bound', 'Colorado Springs, Colorado', 'Mars', 'Longmont, Colorado', 'Higher Than You ', 'Coruscant', \"Grace & Frankie's Beach House\", 'Johnstown, CO', 'Florida Mountain foothills', 'Loveland, CO', 'Any/Everywhere (Denver=home)', 'Tucson, Arizona', 'From the Bay to AZ', 'the moment', 'Idiocracry', 'Bergen County, NJ', 'Maricopa, AZ', 'AURORA, CO', 'Colorado springs co', 'Madison, WI', 'Sedalia, MO', 'Wahoo, NE', 'Eldorado Springs, CO', 'New Mexico', 'TN 🚘 FL 🚘 CO', 'Westminster, CO', 'Murray, Utah, Middle Earth', 'City Heights, San Diego', 'Loveland❤️FtCollins🍺Boulder⛰', 'Landmark Tattoo', 'Morrison, CO', 'Mesa, AZ', 'My World 💋', 'Albertville, AL', 'Albuquerque, NM  USA', 'Colorado, USA ➡️ Highlands, NJ', 'Grand Lake Oklahoma', 'Denver ✈️ Detroit', 'Oklahoma/USA', 'Arlington, TX', 'The Fort', 'Scottsdale AZ', 'Somewhere in the rockies ', 'Foothills of Colorado', 'Sand Springs, OK', 'in my dreams', 'Colorado ', '📸: danny d the frickin legend', 'The Mountains of Colorado', 'Lakewood, CO', '🌎', 'Nowhere', 'Sydenham ON Canada', 'El Paso, TX', 'Somerton, AZ', 'Nebraska', 'tba', 'Denver, The CO', 'At the gym', 'Tsaile, AZ', 'Baton Rouge, Louisiana', \"Your Mom's House\", 'The West', 'Colorado and beyond!', 'Kearney, NE', 'Woodland Park, CO', 'Broomfield, Colorado, USA', 'Davie, FL', '🦈SHARKS TERRITORY🦈', 'ÜT: 33.541599,-112.266062', 'Oracle, AZ', 'Wheat Ridge, CO', 'Hays, America', 'Rio de Janeiro, Brazil', 'Pueblo colo', 'Lost in Wonderland', 'Salem, MA', 'Omaha', 'Oxford, MS', 'boulder,colorado', 'Littleton, CO ', '7009 N 58th Ave., Glendale, AZ', 'Sebastopol, CA', 'Arizona 🌵☀️', '9140 W 100th Broomfield, CO.', 'wherever  f e e l s  are 💕', 'INSTAGRAM: carlaswenshas', '♟be someone.', 'Peoria, AZ 85345', 'Boulder, Colo.', 'Victorville, CA', 'Aurora, Colorado', 'Hamilton, NY', 'denver, co | she/her', 'Uintah, UT', 'Buena Vista, CO, USA', '903', 'florida state university', 'Venezuela Trains', ' ✶✶✶✶', 'Yuma, AZ', 'Thornton, CO', 'Columbus, NE', 'northern california', 'Boulder, CO via Indy', 'Phoenix ✈️ Guam', 'house of gainz', 'Piedmont, Ok', 'Chalco, NE', 'Pullman, WA', 'Denver, Colorado ', 'Fort Collins & Loveland, CO', 'Ekvnv ~ Earth ', 'Norfolk, VA', 'Sunny Miami', 'colorado, chicago, la', 'Austin,TX', 'PHX', 'Turlock & Santa Barbara, CA', 'aurora, CO', 'Rancho Cucamonga, California ', 'p v a m u ⚡️', 'Tropic, Utah (P.494)', 'Greeley, CO', 'Des Moines | Boston | Portland', 'The Land of Sugar', 'SFO and JFK', 'Santa Fe, NM', 'Broncos Country, CO', 'she/her/hers', 'Seattle', 'Boulder, Colorado', 'oklahoma ', 'Desert Hot Springs, CA', 'Boulder County, Colorado', 'Rock Springs, WY', 'Amarillo, TX', 'Texas ']\n"
    }
   ],
   "source": [
    "# How unique are the users locations?\n",
    "print(df['loc'].unique())\n",
    "print(df['loc'].unique().tolist())"
   ]
  },
  {
   "cell_type": "code",
   "execution_count": null,
   "metadata": {},
   "outputs": [],
   "source": []
  }
 ]
}