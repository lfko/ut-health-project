{
 "nbformat": 4,
 "nbformat_minor": 2,
 "metadata": {
  "language_info": {
   "name": "python",
   "codemirror_mode": {
    "name": "ipython",
    "version": 3
   },
   "version": "3.7.4"
  },
  "orig_nbformat": 2,
  "file_extension": ".py",
  "mimetype": "text/x-python",
  "name": "python",
  "npconvert_exporter": "python",
  "pygments_lexer": "ipython3",
  "version": 3,
  "kernelspec": {
   "name": "python37464bitlficonda5c33be88125242aca6d772c29aa3d2b6",
   "display_name": "Python 3.7.4 64-bit ('lfi': conda)"
  }
 },
 "cells": [
  {
   "cell_type": "code",
   "execution_count": 2,
   "metadata": {},
   "outputs": [
    {
     "data": {
      "text/html": "        <script type=\"text/javascript\">\n        window.PlotlyConfig = {MathJaxConfig: 'local'};\n        if (window.MathJax) {MathJax.Hub.Config({SVG: {font: \"STIX-Web\"}});}\n        if (typeof require !== 'undefined') {\n        require.undef(\"plotly\");\n        requirejs.config({\n            paths: {\n                'plotly': ['https://cdn.plot.ly/plotly-latest.min']\n            }\n        });\n        require(['plotly'], function(Plotly) {\n            window._Plotly = Plotly;\n        });\n        }\n        </script>\n        "
     },
     "metadata": {},
     "output_type": "display_data"
    }
   ],
   "source": [
    "# necessary imports\n",
    "import pandas as pd\n",
    "import os\n",
    "import matplotlib\n",
    "import matplotlib.pyplot as plt\n",
    "import plotly.graph_objects as go # https://plot.ly/python/choropleth-maps/\n",
    "\n",
    "# for enhanced plotting\n",
    "# https://amaral.northwestern.edu/blog/step-step-how-plot-map-slider-represent-time-evolu\n",
    "import plotly\n",
    "import plotly.offline as offline\n",
    "from plotly.graph_objs import *\n",
    "from plotly.offline import download_plotlyjs, init_notebook_mode, plot, iplot\n",
    "\n",
    "# https://python-graph-gallery.com/292-choropleth-map-with-folium/\n",
    "import folium\n",
    "\n",
    "import time\n",
    "import datetime\n",
    "import json\n",
    "\n",
    "init_notebook_mode(connected=True)"
   ]
  },
  {
   "cell_type": "markdown",
   "execution_count": null,
   "metadata": {},
   "outputs": [],
   "source": [
    "Remove from Data:\n",
    "- Parish\n",
    "- Borough\n",
    "- County\n",
    "- Municipality"
   ]
  },
  {
   "cell_type": "code",
   "execution_count": 3,
   "metadata": {},
   "outputs": [],
   "source": [
    "# global properties\n",
    "workDir = '/home/lefko/git/ut-health-project'"
   ]
  },
  {
   "cell_type": "code",
   "execution_count": 5,
   "metadata": {},
   "outputs": [],
   "source": [
    "def loadIndicatorData(dir = '', idct = ''):\n",
    "    df = pd.read_csv(workDir + '/data/' + dir + '/' + idct + '.csv')\n",
    "    if 'geoId' in df.columns:\n",
    "        df = df.drop(columns = ['geoId'], axis = 1) \n",
    "    \n",
    "    return df"
   ]
  },
  {
   "cell_type": "code",
   "execution_count": 6,
   "metadata": {},
   "outputs": [],
   "source": [
    "\n",
    "\n",
    "def plotOnUSMap(locs, values, title, maintext):\n",
    "    '''\n",
    "        needs a 'code' column in the dataframe (e.g. states) -> @param locs\n",
    "    '''\n",
    "    fig = go.Figure(data = go.Choropleth(\n",
    "        locations = locs,\n",
    "        z = values.astype(float),\n",
    "        locationmode = 'USA-states',\n",
    "        colorscale = 'Reds',\n",
    "        colorbar_title = title\n",
    "    ))\n",
    "\n",
    "    fig.update_layout(\n",
    "        title_text = maintext,\n",
    "        geo_scope = 'usa', # limits map scope to USA\n",
    "    )\n",
    "\n",
    "    #fig.show()\n",
    "    return fig\n",
    "\n",
    "def genFoliumMap(title, state_data, cols, mapType = 'states', save = False, my_map=None, color='YlGn'):\n",
    "    # colors: http://colorbrewer2.org/\n",
    "    # Load the shape of the zone (US states)\n",
    "    # Find the original file here: https://github.com/python-visualization/folium/tree/master/examples/data\n",
    "    # You have to download this file and set the directory where you saved it\n",
    "    state_geo = os.path.join(workDir + '/data/', 'us-states.json')\n",
    "    counties_geo = os.path.join(workDir + '/data/', 'us-counties.json')\n",
    "    \n",
    "    # Load the unemployment value of each state\n",
    "    # Find the original file here: https://github.com/python-visualization/folium/tree/master/examples/data\n",
    "    #state_unemployment = os.path.join('./ut-health-project/data/', 'US_Unemployment_Oct2012.csv')\n",
    "    #state_data = pd.read_csv(state_unemployment)\n",
    "    \n",
    "    # Initialize the map:\n",
    "    if(my_map == None):\n",
    "        m = folium.Map(location=[37, -102], zoom_start=5)\n",
    "    else:\n",
    "        print('adding a second layer')\n",
    "        m = my_map\n",
    "        \n",
    "    if(mapType == 'states'):\n",
    "        # Add the color for the chloropleth:\n",
    "        folium.Choropleth(\n",
    "            geo_data=json.load(open(state_geo)),\n",
    "            #name='choropleth',\n",
    "            data=state_data,\n",
    "            columns=cols,\n",
    "            key_on='feature.id',\n",
    "            fill_color=color,\n",
    "            fill_opacity=0.7,\n",
    "            line_opacity=0.2,\n",
    "            legend_name=title,\n",
    "            nan_fill_color='White',\n",
    "            marker_line_color='white',\n",
    "            highlight=True,\n",
    "            z = state_data['value'],\n",
    "            #bins=bins\n",
    "        ).add_to(m)\n",
    "    elif(mapType == 'counties'):\n",
    "        # https://www.fsanmartin.co/folium-choropleth-percentage-of-foreigners-by-us-county/\n",
    "        folium.Choropleth(\n",
    "            geo_data=json.load(open(counties_geo, encoding='ISO-8859-1')),\n",
    "            #name='choropleth',\n",
    "            data=state_data,\n",
    "            columns=cols,\n",
    "            key_on='properties.NAME',\n",
    "            fill_color=color,\n",
    "            fill_opacity=0.7,\n",
    "            line_opacity=0.2,\n",
    "            nan_fill_color='White',\n",
    "            legend_name=title,\n",
    "            #marker_line_color='white',\n",
    "            highlight=True,\n",
    "            z = state_data['value']\n",
    "            #bins=bins\n",
    "        ).add_to(m)\n",
    "\n",
    "    #if(my_map != None):\n",
    "\n",
    "    if(save == True):\n",
    "        # Save to html\n",
    "        #m.save(workDir + '/' + title +'_' + datetime.datetime.fromtimestamp(time.time()).strftime('%Y-%m-%d_%H:%M:%S') + '.html')\n",
    "        #m.save(workDir + '/' + title + '.html')\n",
    "        saveFinalMap(m, title)\n",
    "    else:\n",
    "        return m\n",
    "\n",
    "def addLayerControl(m):\n",
    "    folium.LayerControl(collapsed=False).add_to(m) # we're adding a second layer to the existing map\n",
    "    return m\n",
    "\n",
    "def saveFinalMap(m, title):\n",
    "    m.save(workDir + '/' + title + '.html')\n",
    "\n",
    "def plotOnUSMapWithSlider(df, title, maintext):\n",
    "    data_slider = []\n",
    "    steps = [] # slider steps\n",
    "    years = df.year.unique()\n",
    "\n",
    "    for year in years:\n",
    "        df_per_year = df[(df.year == year)]\n",
    "        data_of_year = dict(\n",
    "            type = 'choropleth',\n",
    "            locations = df_per_year['state_abbr'],\n",
    "            z = df_per_year['value'].astype(float),\n",
    "            colorscale = 'Reds',\n",
    "            colorbar_title = title\n",
    "        )\n",
    "\n",
    "        data_slider.append(data_of_year)\n",
    "\n",
    "    for i in range(len(data_slider)):\n",
    "        step = dict(method='restyle',\n",
    "                    args=['visible', [False] * len(data_slider)],\n",
    "                    label='Year {}'.format(i + 2010)) # label to be displayed for each step (year)\n",
    "        step['args'][1][i] = True\n",
    "        steps.append(step)\n",
    "\n",
    "    sliders = [dict(active=0, pad={\"t\": 1}, steps=steps)]\n",
    "\n",
    "    layout = dict(geo=dict(scope='usa'),\n",
    "              sliders=sliders)\n",
    "\n",
    "    # I create the figure object:\n",
    "    fig = dict(data=data_slider, layout=layout) \n",
    "\n",
    "    return fig"
   ]
  },
  {
   "cell_type": "code",
   "execution_count": 36,
   "metadata": {},
   "outputs": [],
   "source": [
    "# Life Expectancy, USA, Years: 2010, 2014\n",
    "life_expectancy_total_1014 = loadIndicatorData('life-expectancy', 'life-expectancy')\n",
    "life_expectancy_total_1014.head()\n",
    "\n",
    "# Life Expectancy, USA, Years: 1900 - 2017\n",
    "life_expectancy_total = loadIndicatorData('life-expectancy', 'life_expectancy_total')\n",
    "#life_expectancy_total.head(25)"
   ]
  },
  {
   "cell_type": "code",
   "execution_count": 6,
   "metadata": {},
   "outputs": [
    {
     "data": {
      "image/png": "[encoded data removed]",
      "image/svg+xml": "<?xml version=\"1.0\" encoding=\"utf-8\" standalone=\"no\"?>\n<!DOCTYPE svg PUBLIC \"-//W3C//DTD SVG 1.1//EN\"\n  \"http://www.w3.org/Graphics/SVG/1.1/DTD/svg11.dtd\">\n<!-- Created with matplotlib (https://matplotlib.org/) -->\n<svg height=\"262.19625pt\" version=\"1.1\" viewBox=\"0 0 387.914139 262.19625\" width=\"387.914139pt\" xmlns=\"http://www.w3.org/2000/svg\" xmlns:xlink=\"http://www.w3.org/1999/xlink\">\n <defs>\n  <style type=\"text/css\">\n*{stroke-linecap:butt;stroke-linejoin:round;}\n  </style>\n </defs>\n <g id=\"figure_1\">\n  <g id=\"patch_1\">\n   <path d=\"M 0 262.19625 \nL 387.914139 262.19625 \nL 387.914139 0 \nL 0 0 \nz\n\" style=\"fill:none;\"/>\n  </g>\n  <g id=\"axes_1\">\n   <g id=\"patch_2\">\n    <path d=\"M 40.603125 224.64 \nL 375.403125 224.64 \nL 375.403125 7.2 \nL 40.603125 7.2 \nz\n\" style=\"fill:#ffffff;\"/>\n   </g>\n   <g id=\"matplotlib.axis_1\">\n    <g id=\"xtick_1\">\n     <g id=\"line2d_1\">\n      <defs>\n       <path d=\"M 0 0 \nL 0 3.5 \n\" id=\"me683871ec5\" style=\"stroke:#000000;stroke-width:0.8;\"/>\n      </defs>\n      <g>\n       <use style=\"stroke:#000000;stroke-width:0.8;\" x=\"55.821307\" xlink:href=\"#me683871ec5\" y=\"224.64\"/>\n      </g>\n     </g>\n     <g id=\"text_1\">\n      <!-- 1900 -->\n      <defs>\n       <path d=\"M 12.40625 8.296875 \nL 28.515625 8.296875 \nL 28.515625 63.921875 \nL 10.984375 60.40625 \nL 10.984375 69.390625 \nL 28.421875 72.90625 \nL 38.28125 72.90625 \nL 38.28125 8.296875 \nL 54.390625 8.296875 \nL 54.390625 0 \nL 12.40625 0 \nz\n\" id=\"DejaVuSans-49\"/>\n       <path d=\"M 10.984375 1.515625 \nL 10.984375 10.5 \nQ 14.703125 8.734375 18.5 7.8125 \nQ 22.3125 6.890625 25.984375 6.890625 \nQ 35.75 6.890625 40.890625 13.453125 \nQ 46.046875 20.015625 46.78125 33.40625 \nQ 43.953125 29.203125 39.59375 26.953125 \nQ 35.25 24.703125 29.984375 24.703125 \nQ 19.046875 24.703125 12.671875 31.3125 \nQ 6.296875 37.9375 6.296875 49.421875 \nQ 6.296875 60.640625 12.9375 67.421875 \nQ 19.578125 74.21875 30.609375 74.21875 \nQ 43.265625 74.21875 49.921875 64.515625 \nQ 56.59375 54.828125 56.59375 36.375 \nQ 56.59375 19.140625 48.40625 8.859375 \nQ 40.234375 -1.421875 26.421875 -1.421875 \nQ 22.703125 -1.421875 18.890625 -0.6875 \nQ 15.09375 0.046875 10.984375 1.515625 \nz\nM 30.609375 32.421875 \nQ 37.25 32.421875 41.125 36.953125 \nQ 45.015625 41.5 45.015625 49.421875 \nQ 45.015625 57.28125 41.125 61.84375 \nQ 37.25 66.40625 30.609375 66.40625 \nQ 23.96875 66.40625 20.09375 61.84375 \nQ 16.21875 57.28125 16.21875 49.421875 \nQ 16.21875 41.5 20.09375 36.953125 \nQ 23.96875 32.421875 30.609375 32.421875 \nz\n\" id=\"DejaVuSans-57\"/>\n       <path d=\"M 31.78125 66.40625 \nQ 24.171875 66.40625 20.328125 58.90625 \nQ 16.5 51.421875 16.5 36.375 \nQ 16.5 21.390625 20.328125 13.890625 \nQ 24.171875 6.390625 31.78125 6.390625 \nQ 39.453125 6.390625 43.28125 13.890625 \nQ 47.125 21.390625 47.125 36.375 \nQ 47.125 51.421875 43.28125 58.90625 \nQ 39.453125 66.40625 31.78125 66.40625 \nz\nM 31.78125 74.21875 \nQ 44.046875 74.21875 50.515625 64.515625 \nQ 56.984375 54.828125 56.984375 36.375 \nQ 56.984375 17.96875 50.515625 8.265625 \nQ 44.046875 -1.421875 31.78125 -1.421875 \nQ 19.53125 -1.421875 13.0625 8.265625 \nQ 6.59375 17.96875 6.59375 36.375 \nQ 6.59375 54.828125 13.0625 64.515625 \nQ 19.53125 74.21875 31.78125 74.21875 \nz\n\" id=\"DejaVuSans-48\"/>\n      </defs>\n      <g transform=\"translate(43.096307 239.238437)scale(0.1 -0.1)\">\n       <use xlink:href=\"#DejaVuSans-49\"/>\n       <use x=\"63.623047\" xlink:href=\"#DejaVuSans-57\"/>\n       <use x=\"127.246094\" xlink:href=\"#DejaVuSans-48\"/>\n       <use x=\"190.869141\" xlink:href=\"#DejaVuSans-48\"/>\n      </g>\n     </g>\n    </g>\n    <g id=\"xtick_2\">\n     <g id=\"line2d_2\">\n      <g>\n       <use style=\"stroke:#000000;stroke-width:0.8;\" x=\"107.849279\" xlink:href=\"#me683871ec5\" y=\"224.64\"/>\n      </g>\n     </g>\n     <g id=\"text_2\">\n      <!-- 1920 -->\n      <defs>\n       <path d=\"M 19.1875 8.296875 \nL 53.609375 8.296875 \nL 53.609375 0 \nL 7.328125 0 \nL 7.328125 8.296875 \nQ 12.9375 14.109375 22.625 23.890625 \nQ 32.328125 33.6875 34.8125 36.53125 \nQ 39.546875 41.84375 41.421875 45.53125 \nQ 43.3125 49.21875 43.3125 52.78125 \nQ 43.3125 58.59375 39.234375 62.25 \nQ 35.15625 65.921875 28.609375 65.921875 \nQ 23.96875 65.921875 18.8125 64.3125 \nQ 13.671875 62.703125 7.8125 59.421875 \nL 7.8125 69.390625 \nQ 13.765625 71.78125 18.9375 73 \nQ 24.125 74.21875 28.421875 74.21875 \nQ 39.75 74.21875 46.484375 68.546875 \nQ 53.21875 62.890625 53.21875 53.421875 \nQ 53.21875 48.921875 51.53125 44.890625 \nQ 49.859375 40.875 45.40625 35.40625 \nQ 44.1875 33.984375 37.640625 27.21875 \nQ 31.109375 20.453125 19.1875 8.296875 \nz\n\" id=\"DejaVuSans-50\"/>\n      </defs>\n      <g transform=\"translate(95.124279 239.238437)scale(0.1 -0.1)\">\n       <use xlink:href=\"#DejaVuSans-49\"/>\n       <use x=\"63.623047\" xlink:href=\"#DejaVuSans-57\"/>\n       <use x=\"127.246094\" xlink:href=\"#DejaVuSans-50\"/>\n       <use x=\"190.869141\" xlink:href=\"#DejaVuSans-48\"/>\n      </g>\n     </g>\n    </g>\n    <g id=\"xtick_3\">\n     <g id=\"line2d_3\">\n      <g>\n       <use style=\"stroke:#000000;stroke-width:0.8;\" x=\"159.877251\" xlink:href=\"#me683871ec5\" y=\"224.64\"/>\n      </g>\n     </g>\n     <g id=\"text_3\">\n      <!-- 1940 -->\n      <defs>\n       <path d=\"M 37.796875 64.3125 \nL 12.890625 25.390625 \nL 37.796875 25.390625 \nz\nM 35.203125 72.90625 \nL 47.609375 72.90625 \nL 47.609375 25.390625 \nL 58.015625 25.390625 \nL 58.015625 17.1875 \nL 47.609375 17.1875 \nL 47.609375 0 \nL 37.796875 0 \nL 37.796875 17.1875 \nL 4.890625 17.1875 \nL 4.890625 26.703125 \nz\n\" id=\"DejaVuSans-52\"/>\n      </defs>\n      <g transform=\"translate(147.152251 239.238437)scale(0.1 -0.1)\">\n       <use xlink:href=\"#DejaVuSans-49\"/>\n       <use x=\"63.623047\" xlink:href=\"#DejaVuSans-57\"/>\n       <use x=\"127.246094\" xlink:href=\"#DejaVuSans-52\"/>\n       <use x=\"190.869141\" xlink:href=\"#DejaVuSans-48\"/>\n      </g>\n     </g>\n    </g>\n    <g id=\"xtick_4\">\n     <g id=\"line2d_4\">\n      <g>\n       <use style=\"stroke:#000000;stroke-width:0.8;\" x=\"211.905223\" xlink:href=\"#me683871ec5\" y=\"224.64\"/>\n      </g>\n     </g>\n     <g id=\"text_4\">\n      <!-- 1960 -->\n      <defs>\n       <path d=\"M 33.015625 40.375 \nQ 26.375 40.375 22.484375 35.828125 \nQ 18.609375 31.296875 18.609375 23.390625 \nQ 18.609375 15.53125 22.484375 10.953125 \nQ 26.375 6.390625 33.015625 6.390625 \nQ 39.65625 6.390625 43.53125 10.953125 \nQ 47.40625 15.53125 47.40625 23.390625 \nQ 47.40625 31.296875 43.53125 35.828125 \nQ 39.65625 40.375 33.015625 40.375 \nz\nM 52.59375 71.296875 \nL 52.59375 62.3125 \nQ 48.875 64.0625 45.09375 64.984375 \nQ 41.3125 65.921875 37.59375 65.921875 \nQ 27.828125 65.921875 22.671875 59.328125 \nQ 17.53125 52.734375 16.796875 39.40625 \nQ 19.671875 43.65625 24.015625 45.921875 \nQ 28.375 48.1875 33.59375 48.1875 \nQ 44.578125 48.1875 50.953125 41.515625 \nQ 57.328125 34.859375 57.328125 23.390625 \nQ 57.328125 12.15625 50.6875 5.359375 \nQ 44.046875 -1.421875 33.015625 -1.421875 \nQ 20.359375 -1.421875 13.671875 8.265625 \nQ 6.984375 17.96875 6.984375 36.375 \nQ 6.984375 53.65625 15.1875 63.9375 \nQ 23.390625 74.21875 37.203125 74.21875 \nQ 40.921875 74.21875 44.703125 73.484375 \nQ 48.484375 72.75 52.59375 71.296875 \nz\n\" id=\"DejaVuSans-54\"/>\n      </defs>\n      <g transform=\"translate(199.180223 239.238437)scale(0.1 -0.1)\">\n       <use xlink:href=\"#DejaVuSans-49\"/>\n       <use x=\"63.623047\" xlink:href=\"#DejaVuSans-57\"/>\n       <use x=\"127.246094\" xlink:href=\"#DejaVuSans-54\"/>\n       <use x=\"190.869141\" xlink:href=\"#DejaVuSans-48\"/>\n      </g>\n     </g>\n    </g>\n    <g id=\"xtick_5\">\n     <g id=\"line2d_5\">\n      <g>\n       <use style=\"stroke:#000000;stroke-width:0.8;\" x=\"263.933195\" xlink:href=\"#me683871ec5\" y=\"224.64\"/>\n      </g>\n     </g>\n     <g id=\"text_5\">\n      <!-- 1980 -->\n      <defs>\n       <path d=\"M 31.78125 34.625 \nQ 24.75 34.625 20.71875 30.859375 \nQ 16.703125 27.09375 16.703125 20.515625 \nQ 16.703125 13.921875 20.71875 10.15625 \nQ 24.75 6.390625 31.78125 6.390625 \nQ 38.8125 6.390625 42.859375 10.171875 \nQ 46.921875 13.96875 46.921875 20.515625 \nQ 46.921875 27.09375 42.890625 30.859375 \nQ 38.875 34.625 31.78125 34.625 \nz\nM 21.921875 38.8125 \nQ 15.578125 40.375 12.03125 44.71875 \nQ 8.5 49.078125 8.5 55.328125 \nQ 8.5 64.0625 14.71875 69.140625 \nQ 20.953125 74.21875 31.78125 74.21875 \nQ 42.671875 74.21875 48.875 69.140625 \nQ 55.078125 64.0625 55.078125 55.328125 \nQ 55.078125 49.078125 51.53125 44.71875 \nQ 48 40.375 41.703125 38.8125 \nQ 48.828125 37.15625 52.796875 32.3125 \nQ 56.78125 27.484375 56.78125 20.515625 \nQ 56.78125 9.90625 50.3125 4.234375 \nQ 43.84375 -1.421875 31.78125 -1.421875 \nQ 19.734375 -1.421875 13.25 4.234375 \nQ 6.78125 9.90625 6.78125 20.515625 \nQ 6.78125 27.484375 10.78125 32.3125 \nQ 14.796875 37.15625 21.921875 38.8125 \nz\nM 18.3125 54.390625 \nQ 18.3125 48.734375 21.84375 45.5625 \nQ 25.390625 42.390625 31.78125 42.390625 \nQ 38.140625 42.390625 41.71875 45.5625 \nQ 45.3125 48.734375 45.3125 54.390625 \nQ 45.3125 60.0625 41.71875 63.234375 \nQ 38.140625 66.40625 31.78125 66.40625 \nQ 25.390625 66.40625 21.84375 63.234375 \nQ 18.3125 60.0625 18.3125 54.390625 \nz\n\" id=\"DejaVuSans-56\"/>\n      </defs>\n      <g transform=\"translate(251.208195 239.238437)scale(0.1 -0.1)\">\n       <use xlink:href=\"#DejaVuSans-49\"/>\n       <use x=\"63.623047\" xlink:href=\"#DejaVuSans-57\"/>\n       <use x=\"127.246094\" xlink:href=\"#DejaVuSans-56\"/>\n       <use x=\"190.869141\" xlink:href=\"#DejaVuSans-48\"/>\n      </g>\n     </g>\n    </g>\n    <g id=\"xtick_6\">\n     <g id=\"line2d_6\">\n      <g>\n       <use style=\"stroke:#000000;stroke-width:0.8;\" x=\"315.961167\" xlink:href=\"#me683871ec5\" y=\"224.64\"/>\n      </g>\n     </g>\n     <g id=\"text_6\">\n      <!-- 2000 -->\n      <g transform=\"translate(303.236167 239.238437)scale(0.1 -0.1)\">\n       <use xlink:href=\"#DejaVuSans-50\"/>\n       <use x=\"63.623047\" xlink:href=\"#DejaVuSans-48\"/>\n       <use x=\"127.246094\" xlink:href=\"#DejaVuSans-48\"/>\n       <use x=\"190.869141\" xlink:href=\"#DejaVuSans-48\"/>\n      </g>\n     </g>\n    </g>\n    <g id=\"xtick_7\">\n     <g id=\"line2d_7\">\n      <g>\n       <use style=\"stroke:#000000;stroke-width:0.8;\" x=\"367.989139\" xlink:href=\"#me683871ec5\" y=\"224.64\"/>\n      </g>\n     </g>\n     <g id=\"text_7\">\n      <!-- 2020 -->\n      <g transform=\"translate(355.264139 239.238437)scale(0.1 -0.1)\">\n       <use xlink:href=\"#DejaVuSans-50\"/>\n       <use x=\"63.623047\" xlink:href=\"#DejaVuSans-48\"/>\n       <use x=\"127.246094\" xlink:href=\"#DejaVuSans-50\"/>\n       <use x=\"190.869141\" xlink:href=\"#DejaVuSans-48\"/>\n      </g>\n     </g>\n    </g>\n    <g id=\"text_8\">\n     <!-- Year -->\n     <defs>\n      <path d=\"M -0.203125 72.90625 \nL 10.40625 72.90625 \nL 30.609375 42.921875 \nL 50.6875 72.90625 \nL 61.28125 72.90625 \nL 35.5 34.71875 \nL 35.5 0 \nL 25.59375 0 \nL 25.59375 34.71875 \nz\n\" id=\"DejaVuSans-89\"/>\n      <path d=\"M 56.203125 29.59375 \nL 56.203125 25.203125 \nL 14.890625 25.203125 \nQ 15.484375 15.921875 20.484375 11.0625 \nQ 25.484375 6.203125 34.421875 6.203125 \nQ 39.59375 6.203125 44.453125 7.46875 \nQ 49.3125 8.734375 54.109375 11.28125 \nL 54.109375 2.78125 \nQ 49.265625 0.734375 44.1875 -0.34375 \nQ 39.109375 -1.421875 33.890625 -1.421875 \nQ 20.796875 -1.421875 13.15625 6.1875 \nQ 5.515625 13.8125 5.515625 26.8125 \nQ 5.515625 40.234375 12.765625 48.109375 \nQ 20.015625 56 32.328125 56 \nQ 43.359375 56 49.78125 48.890625 \nQ 56.203125 41.796875 56.203125 29.59375 \nz\nM 47.21875 32.234375 \nQ 47.125 39.59375 43.09375 43.984375 \nQ 39.0625 48.390625 32.421875 48.390625 \nQ 24.90625 48.390625 20.390625 44.140625 \nQ 15.875 39.890625 15.1875 32.171875 \nz\n\" id=\"DejaVuSans-101\"/>\n      <path d=\"M 34.28125 27.484375 \nQ 23.390625 27.484375 19.1875 25 \nQ 14.984375 22.515625 14.984375 16.5 \nQ 14.984375 11.71875 18.140625 8.90625 \nQ 21.296875 6.109375 26.703125 6.109375 \nQ 34.1875 6.109375 38.703125 11.40625 \nQ 43.21875 16.703125 43.21875 25.484375 \nL 43.21875 27.484375 \nz\nM 52.203125 31.203125 \nL 52.203125 0 \nL 43.21875 0 \nL 43.21875 8.296875 \nQ 40.140625 3.328125 35.546875 0.953125 \nQ 30.953125 -1.421875 24.3125 -1.421875 \nQ 15.921875 -1.421875 10.953125 3.296875 \nQ 6 8.015625 6 15.921875 \nQ 6 25.140625 12.171875 29.828125 \nQ 18.359375 34.515625 30.609375 34.515625 \nL 43.21875 34.515625 \nL 43.21875 35.40625 \nQ 43.21875 41.609375 39.140625 45 \nQ 35.0625 48.390625 27.6875 48.390625 \nQ 23 48.390625 18.546875 47.265625 \nQ 14.109375 46.140625 10.015625 43.890625 \nL 10.015625 52.203125 \nQ 14.9375 54.109375 19.578125 55.046875 \nQ 24.21875 56 28.609375 56 \nQ 40.484375 56 46.34375 49.84375 \nQ 52.203125 43.703125 52.203125 31.203125 \nz\n\" id=\"DejaVuSans-97\"/>\n      <path d=\"M 41.109375 46.296875 \nQ 39.59375 47.171875 37.8125 47.578125 \nQ 36.03125 48 33.890625 48 \nQ 26.265625 48 22.1875 43.046875 \nQ 18.109375 38.09375 18.109375 28.8125 \nL 18.109375 0 \nL 9.078125 0 \nL 9.078125 54.6875 \nL 18.109375 54.6875 \nL 18.109375 46.1875 \nQ 20.953125 51.171875 25.484375 53.578125 \nQ 30.03125 56 36.53125 56 \nQ 37.453125 56 38.578125 55.875 \nQ 39.703125 55.765625 41.0625 55.515625 \nz\n\" id=\"DejaVuSans-114\"/>\n     </defs>\n     <g transform=\"translate(196.763281 252.916562)scale(0.1 -0.1)\">\n      <use xlink:href=\"#DejaVuSans-89\"/>\n      <use x=\"60.880859\" xlink:href=\"#DejaVuSans-101\"/>\n      <use x=\"122.404297\" xlink:href=\"#DejaVuSans-97\"/>\n      <use x=\"183.683594\" xlink:href=\"#DejaVuSans-114\"/>\n     </g>\n    </g>\n   </g>\n   <g id=\"matplotlib.axis_2\">\n    <g id=\"ytick_1\">\n     <g id=\"line2d_8\">\n      <defs>\n       <path d=\"M 0 0 \nL -3.5 0 \n\" id=\"m4b8d28982e\" style=\"stroke:#000000;stroke-width:0.8;\"/>\n      </defs>\n      <g>\n       <use style=\"stroke:#000000;stroke-width:0.8;\" x=\"40.603125\" xlink:href=\"#m4b8d28982e\" y=\"210.286377\"/>\n      </g>\n     </g>\n     <g id=\"text_9\">\n      <!-- 40 -->\n      <g transform=\"translate(20.878125 214.085596)scale(0.1 -0.1)\">\n       <use xlink:href=\"#DejaVuSans-52\"/>\n       <use x=\"63.623047\" xlink:href=\"#DejaVuSans-48\"/>\n      </g>\n     </g>\n    </g>\n    <g id=\"ytick_2\">\n     <g id=\"line2d_9\">\n      <g>\n       <use style=\"stroke:#000000;stroke-width:0.8;\" x=\"40.603125\" xlink:href=\"#m4b8d28982e\" y=\"185.45312\"/>\n      </g>\n     </g>\n     <g id=\"text_10\">\n      <!-- 45 -->\n      <defs>\n       <path d=\"M 10.796875 72.90625 \nL 49.515625 72.90625 \nL 49.515625 64.59375 \nL 19.828125 64.59375 \nL 19.828125 46.734375 \nQ 21.96875 47.46875 24.109375 47.828125 \nQ 26.265625 48.1875 28.421875 48.1875 \nQ 40.625 48.1875 47.75 41.5 \nQ 54.890625 34.8125 54.890625 23.390625 \nQ 54.890625 11.625 47.5625 5.09375 \nQ 40.234375 -1.421875 26.90625 -1.421875 \nQ 22.3125 -1.421875 17.546875 -0.640625 \nQ 12.796875 0.140625 7.71875 1.703125 \nL 7.71875 11.625 \nQ 12.109375 9.234375 16.796875 8.0625 \nQ 21.484375 6.890625 26.703125 6.890625 \nQ 35.15625 6.890625 40.078125 11.328125 \nQ 45.015625 15.765625 45.015625 23.390625 \nQ 45.015625 31 40.078125 35.4375 \nQ 35.15625 39.890625 26.703125 39.890625 \nQ 22.75 39.890625 18.8125 39.015625 \nQ 14.890625 38.140625 10.796875 36.28125 \nz\n\" id=\"DejaVuSans-53\"/>\n      </defs>\n      <g transform=\"translate(20.878125 189.252339)scale(0.1 -0.1)\">\n       <use xlink:href=\"#DejaVuSans-52\"/>\n       <use x=\"63.623047\" xlink:href=\"#DejaVuSans-53\"/>\n      </g>\n     </g>\n    </g>\n    <g id=\"ytick_3\">\n     <g id=\"line2d_10\">\n      <g>\n       <use style=\"stroke:#000000;stroke-width:0.8;\" x=\"40.603125\" xlink:href=\"#m4b8d28982e\" y=\"160.619863\"/>\n      </g>\n     </g>\n     <g id=\"text_11\">\n      <!-- 50 -->\n      <g transform=\"translate(20.878125 164.419082)scale(0.1 -0.1)\">\n       <use xlink:href=\"#DejaVuSans-53\"/>\n       <use x=\"63.623047\" xlink:href=\"#DejaVuSans-48\"/>\n      </g>\n     </g>\n    </g>\n    <g id=\"ytick_4\">\n     <g id=\"line2d_11\">\n      <g>\n       <use style=\"stroke:#000000;stroke-width:0.8;\" x=\"40.603125\" xlink:href=\"#m4b8d28982e\" y=\"135.786606\"/>\n      </g>\n     </g>\n     <g id=\"text_12\">\n      <!-- 55 -->\n      <g transform=\"translate(20.878125 139.585825)scale(0.1 -0.1)\">\n       <use xlink:href=\"#DejaVuSans-53\"/>\n       <use x=\"63.623047\" xlink:href=\"#DejaVuSans-53\"/>\n      </g>\n     </g>\n    </g>\n    <g id=\"ytick_5\">\n     <g id=\"line2d_12\">\n      <g>\n       <use style=\"stroke:#000000;stroke-width:0.8;\" x=\"40.603125\" xlink:href=\"#m4b8d28982e\" y=\"110.953349\"/>\n      </g>\n     </g>\n     <g id=\"text_13\">\n      <!-- 60 -->\n      <g transform=\"translate(20.878125 114.752567)scale(0.1 -0.1)\">\n       <use xlink:href=\"#DejaVuSans-54\"/>\n       <use x=\"63.623047\" xlink:href=\"#DejaVuSans-48\"/>\n      </g>\n     </g>\n    </g>\n    <g id=\"ytick_6\">\n     <g id=\"line2d_13\">\n      <g>\n       <use style=\"stroke:#000000;stroke-width:0.8;\" x=\"40.603125\" xlink:href=\"#m4b8d28982e\" y=\"86.120091\"/>\n      </g>\n     </g>\n     <g id=\"text_14\">\n      <!-- 65 -->\n      <g transform=\"translate(20.878125 89.91931)scale(0.1 -0.1)\">\n       <use xlink:href=\"#DejaVuSans-54\"/>\n       <use x=\"63.623047\" xlink:href=\"#DejaVuSans-53\"/>\n      </g>\n     </g>\n    </g>\n    <g id=\"ytick_7\">\n     <g id=\"line2d_14\">\n      <g>\n       <use style=\"stroke:#000000;stroke-width:0.8;\" x=\"40.603125\" xlink:href=\"#m4b8d28982e\" y=\"61.286834\"/>\n      </g>\n     </g>\n     <g id=\"text_15\">\n      <!-- 70 -->\n      <defs>\n       <path d=\"M 8.203125 72.90625 \nL 55.078125 72.90625 \nL 55.078125 68.703125 \nL 28.609375 0 \nL 18.3125 0 \nL 43.21875 64.59375 \nL 8.203125 64.59375 \nz\n\" id=\"DejaVuSans-55\"/>\n      </defs>\n      <g transform=\"translate(20.878125 65.086053)scale(0.1 -0.1)\">\n       <use xlink:href=\"#DejaVuSans-55\"/>\n       <use x=\"63.623047\" xlink:href=\"#DejaVuSans-48\"/>\n      </g>\n     </g>\n    </g>\n    <g id=\"ytick_8\">\n     <g id=\"line2d_15\">\n      <g>\n       <use style=\"stroke:#000000;stroke-width:0.8;\" x=\"40.603125\" xlink:href=\"#m4b8d28982e\" y=\"36.453577\"/>\n      </g>\n     </g>\n     <g id=\"text_16\">\n      <!-- 75 -->\n      <g transform=\"translate(20.878125 40.252796)scale(0.1 -0.1)\">\n       <use xlink:href=\"#DejaVuSans-55\"/>\n       <use x=\"63.623047\" xlink:href=\"#DejaVuSans-53\"/>\n      </g>\n     </g>\n    </g>\n    <g id=\"ytick_9\">\n     <g id=\"line2d_16\">\n      <g>\n       <use style=\"stroke:#000000;stroke-width:0.8;\" x=\"40.603125\" xlink:href=\"#m4b8d28982e\" y=\"11.62032\"/>\n      </g>\n     </g>\n     <g id=\"text_17\">\n      <!-- 80 -->\n      <g transform=\"translate(20.878125 15.419539)scale(0.1 -0.1)\">\n       <use xlink:href=\"#DejaVuSans-56\"/>\n       <use x=\"63.623047\" xlink:href=\"#DejaVuSans-48\"/>\n      </g>\n     </g>\n    </g>\n    <g id=\"text_18\">\n     <!-- avg. Life Expectancy (in years) -->\n     <defs>\n      <path d=\"M 2.984375 54.6875 \nL 12.5 54.6875 \nL 29.59375 8.796875 \nL 46.6875 54.6875 \nL 56.203125 54.6875 \nL 35.6875 0 \nL 23.484375 0 \nz\n\" id=\"DejaVuSans-118\"/>\n      <path d=\"M 45.40625 27.984375 \nQ 45.40625 37.75 41.375 43.109375 \nQ 37.359375 48.484375 30.078125 48.484375 \nQ 22.859375 48.484375 18.828125 43.109375 \nQ 14.796875 37.75 14.796875 27.984375 \nQ 14.796875 18.265625 18.828125 12.890625 \nQ 22.859375 7.515625 30.078125 7.515625 \nQ 37.359375 7.515625 41.375 12.890625 \nQ 45.40625 18.265625 45.40625 27.984375 \nz\nM 54.390625 6.78125 \nQ 54.390625 -7.171875 48.1875 -13.984375 \nQ 42 -20.796875 29.203125 -20.796875 \nQ 24.46875 -20.796875 20.265625 -20.09375 \nQ 16.0625 -19.390625 12.109375 -17.921875 \nL 12.109375 -9.1875 \nQ 16.0625 -11.328125 19.921875 -12.34375 \nQ 23.78125 -13.375 27.78125 -13.375 \nQ 36.625 -13.375 41.015625 -8.765625 \nQ 45.40625 -4.15625 45.40625 5.171875 \nL 45.40625 9.625 \nQ 42.625 4.78125 38.28125 2.390625 \nQ 33.9375 0 27.875 0 \nQ 17.828125 0 11.671875 7.65625 \nQ 5.515625 15.328125 5.515625 27.984375 \nQ 5.515625 40.671875 11.671875 48.328125 \nQ 17.828125 56 27.875 56 \nQ 33.9375 56 38.28125 53.609375 \nQ 42.625 51.21875 45.40625 46.390625 \nL 45.40625 54.6875 \nL 54.390625 54.6875 \nz\n\" id=\"DejaVuSans-103\"/>\n      <path d=\"M 10.6875 12.40625 \nL 21 12.40625 \nL 21 0 \nL 10.6875 0 \nz\n\" id=\"DejaVuSans-46\"/>\n      <path id=\"DejaVuSans-32\"/>\n      <path d=\"M 9.8125 72.90625 \nL 19.671875 72.90625 \nL 19.671875 8.296875 \nL 55.171875 8.296875 \nL 55.171875 0 \nL 9.8125 0 \nz\n\" id=\"DejaVuSans-76\"/>\n      <path d=\"M 9.421875 54.6875 \nL 18.40625 54.6875 \nL 18.40625 0 \nL 9.421875 0 \nz\nM 9.421875 75.984375 \nL 18.40625 75.984375 \nL 18.40625 64.59375 \nL 9.421875 64.59375 \nz\n\" id=\"DejaVuSans-105\"/>\n      <path d=\"M 37.109375 75.984375 \nL 37.109375 68.5 \nL 28.515625 68.5 \nQ 23.6875 68.5 21.796875 66.546875 \nQ 19.921875 64.59375 19.921875 59.515625 \nL 19.921875 54.6875 \nL 34.71875 54.6875 \nL 34.71875 47.703125 \nL 19.921875 47.703125 \nL 19.921875 0 \nL 10.890625 0 \nL 10.890625 47.703125 \nL 2.296875 47.703125 \nL 2.296875 54.6875 \nL 10.890625 54.6875 \nL 10.890625 58.5 \nQ 10.890625 67.625 15.140625 71.796875 \nQ 19.390625 75.984375 28.609375 75.984375 \nz\n\" id=\"DejaVuSans-102\"/>\n      <path d=\"M 9.8125 72.90625 \nL 55.90625 72.90625 \nL 55.90625 64.59375 \nL 19.671875 64.59375 \nL 19.671875 43.015625 \nL 54.390625 43.015625 \nL 54.390625 34.71875 \nL 19.671875 34.71875 \nL 19.671875 8.296875 \nL 56.78125 8.296875 \nL 56.78125 0 \nL 9.8125 0 \nz\n\" id=\"DejaVuSans-69\"/>\n      <path d=\"M 54.890625 54.6875 \nL 35.109375 28.078125 \nL 55.90625 0 \nL 45.3125 0 \nL 29.390625 21.484375 \nL 13.484375 0 \nL 2.875 0 \nL 24.125 28.609375 \nL 4.6875 54.6875 \nL 15.28125 54.6875 \nL 29.78125 35.203125 \nL 44.28125 54.6875 \nz\n\" id=\"DejaVuSans-120\"/>\n      <path d=\"M 18.109375 8.203125 \nL 18.109375 -20.796875 \nL 9.078125 -20.796875 \nL 9.078125 54.6875 \nL 18.109375 54.6875 \nL 18.109375 46.390625 \nQ 20.953125 51.265625 25.265625 53.625 \nQ 29.59375 56 35.59375 56 \nQ 45.5625 56 51.78125 48.09375 \nQ 58.015625 40.1875 58.015625 27.296875 \nQ 58.015625 14.40625 51.78125 6.484375 \nQ 45.5625 -1.421875 35.59375 -1.421875 \nQ 29.59375 -1.421875 25.265625 0.953125 \nQ 20.953125 3.328125 18.109375 8.203125 \nz\nM 48.6875 27.296875 \nQ 48.6875 37.203125 44.609375 42.84375 \nQ 40.53125 48.484375 33.40625 48.484375 \nQ 26.265625 48.484375 22.1875 42.84375 \nQ 18.109375 37.203125 18.109375 27.296875 \nQ 18.109375 17.390625 22.1875 11.75 \nQ 26.265625 6.109375 33.40625 6.109375 \nQ 40.53125 6.109375 44.609375 11.75 \nQ 48.6875 17.390625 48.6875 27.296875 \nz\n\" id=\"DejaVuSans-112\"/>\n      <path d=\"M 48.78125 52.59375 \nL 48.78125 44.1875 \nQ 44.96875 46.296875 41.140625 47.34375 \nQ 37.3125 48.390625 33.40625 48.390625 \nQ 24.65625 48.390625 19.8125 42.84375 \nQ 14.984375 37.3125 14.984375 27.296875 \nQ 14.984375 17.28125 19.8125 11.734375 \nQ 24.65625 6.203125 33.40625 6.203125 \nQ 37.3125 6.203125 41.140625 7.25 \nQ 44.96875 8.296875 48.78125 10.40625 \nL 48.78125 2.09375 \nQ 45.015625 0.34375 40.984375 -0.53125 \nQ 36.96875 -1.421875 32.421875 -1.421875 \nQ 20.0625 -1.421875 12.78125 6.34375 \nQ 5.515625 14.109375 5.515625 27.296875 \nQ 5.515625 40.671875 12.859375 48.328125 \nQ 20.21875 56 33.015625 56 \nQ 37.15625 56 41.109375 55.140625 \nQ 45.0625 54.296875 48.78125 52.59375 \nz\n\" id=\"DejaVuSans-99\"/>\n      <path d=\"M 18.3125 70.21875 \nL 18.3125 54.6875 \nL 36.8125 54.6875 \nL 36.8125 47.703125 \nL 18.3125 47.703125 \nL 18.3125 18.015625 \nQ 18.3125 11.328125 20.140625 9.421875 \nQ 21.96875 7.515625 27.59375 7.515625 \nL 36.8125 7.515625 \nL 36.8125 0 \nL 27.59375 0 \nQ 17.1875 0 13.234375 3.875 \nQ 9.28125 7.765625 9.28125 18.015625 \nL 9.28125 47.703125 \nL 2.6875 47.703125 \nL 2.6875 54.6875 \nL 9.28125 54.6875 \nL 9.28125 70.21875 \nz\n\" id=\"DejaVuSans-116\"/>\n      <path d=\"M 54.890625 33.015625 \nL 54.890625 0 \nL 45.90625 0 \nL 45.90625 32.71875 \nQ 45.90625 40.484375 42.875 44.328125 \nQ 39.84375 48.1875 33.796875 48.1875 \nQ 26.515625 48.1875 22.3125 43.546875 \nQ 18.109375 38.921875 18.109375 30.90625 \nL 18.109375 0 \nL 9.078125 0 \nL 9.078125 54.6875 \nL 18.109375 54.6875 \nL 18.109375 46.1875 \nQ 21.34375 51.125 25.703125 53.5625 \nQ 30.078125 56 35.796875 56 \nQ 45.21875 56 50.046875 50.171875 \nQ 54.890625 44.34375 54.890625 33.015625 \nz\n\" id=\"DejaVuSans-110\"/>\n      <path d=\"M 32.171875 -5.078125 \nQ 28.375 -14.84375 24.75 -17.8125 \nQ 21.140625 -20.796875 15.09375 -20.796875 \nL 7.90625 -20.796875 \nL 7.90625 -13.28125 \nL 13.1875 -13.28125 \nQ 16.890625 -13.28125 18.9375 -11.515625 \nQ 21 -9.765625 23.484375 -3.21875 \nL 25.09375 0.875 \nL 2.984375 54.6875 \nL 12.5 54.6875 \nL 29.59375 11.921875 \nL 46.6875 54.6875 \nL 56.203125 54.6875 \nz\n\" id=\"DejaVuSans-121\"/>\n      <path d=\"M 31 75.875 \nQ 24.46875 64.65625 21.28125 53.65625 \nQ 18.109375 42.671875 18.109375 31.390625 \nQ 18.109375 20.125 21.3125 9.0625 \nQ 24.515625 -2 31 -13.1875 \nL 23.1875 -13.1875 \nQ 15.875 -1.703125 12.234375 9.375 \nQ 8.59375 20.453125 8.59375 31.390625 \nQ 8.59375 42.28125 12.203125 53.3125 \nQ 15.828125 64.359375 23.1875 75.875 \nz\n\" id=\"DejaVuSans-40\"/>\n      <path d=\"M 44.28125 53.078125 \nL 44.28125 44.578125 \nQ 40.484375 46.53125 36.375 47.5 \nQ 32.28125 48.484375 27.875 48.484375 \nQ 21.1875 48.484375 17.84375 46.4375 \nQ 14.5 44.390625 14.5 40.28125 \nQ 14.5 37.15625 16.890625 35.375 \nQ 19.28125 33.59375 26.515625 31.984375 \nL 29.59375 31.296875 \nQ 39.15625 29.25 43.1875 25.515625 \nQ 47.21875 21.78125 47.21875 15.09375 \nQ 47.21875 7.46875 41.1875 3.015625 \nQ 35.15625 -1.421875 24.609375 -1.421875 \nQ 20.21875 -1.421875 15.453125 -0.5625 \nQ 10.6875 0.296875 5.421875 2 \nL 5.421875 11.28125 \nQ 10.40625 8.6875 15.234375 7.390625 \nQ 20.0625 6.109375 24.8125 6.109375 \nQ 31.15625 6.109375 34.5625 8.28125 \nQ 37.984375 10.453125 37.984375 14.40625 \nQ 37.984375 18.0625 35.515625 20.015625 \nQ 33.0625 21.96875 24.703125 23.78125 \nL 21.578125 24.515625 \nQ 13.234375 26.265625 9.515625 29.90625 \nQ 5.8125 33.546875 5.8125 39.890625 \nQ 5.8125 47.609375 11.28125 51.796875 \nQ 16.75 56 26.8125 56 \nQ 31.78125 56 36.171875 55.265625 \nQ 40.578125 54.546875 44.28125 53.078125 \nz\n\" id=\"DejaVuSans-115\"/>\n      <path d=\"M 8.015625 75.875 \nL 15.828125 75.875 \nQ 23.140625 64.359375 26.78125 53.3125 \nQ 30.421875 42.28125 30.421875 31.390625 \nQ 30.421875 20.453125 26.78125 9.375 \nQ 23.140625 -1.703125 15.828125 -13.1875 \nL 8.015625 -13.1875 \nQ 14.5 -2 17.703125 9.0625 \nQ 20.90625 20.125 20.90625 31.390625 \nQ 20.90625 42.671875 17.703125 53.65625 \nQ 14.5 64.65625 8.015625 75.875 \nz\n\" id=\"DejaVuSans-41\"/>\n     </defs>\n     <g transform=\"translate(14.798438 193.314531)rotate(-90)scale(0.1 -0.1)\">\n      <use xlink:href=\"#DejaVuSans-97\"/>\n      <use x=\"61.279297\" xlink:href=\"#DejaVuSans-118\"/>\n      <use x=\"120.458984\" xlink:href=\"#DejaVuSans-103\"/>\n      <use x=\"183.935547\" xlink:href=\"#DejaVuSans-46\"/>\n      <use x=\"215.722656\" xlink:href=\"#DejaVuSans-32\"/>\n      <use x=\"247.509766\" xlink:href=\"#DejaVuSans-76\"/>\n      <use x=\"303.222656\" xlink:href=\"#DejaVuSans-105\"/>\n      <use x=\"331.005859\" xlink:href=\"#DejaVuSans-102\"/>\n      <use x=\"366.210938\" xlink:href=\"#DejaVuSans-101\"/>\n      <use x=\"427.734375\" xlink:href=\"#DejaVuSans-32\"/>\n      <use x=\"459.521484\" xlink:href=\"#DejaVuSans-69\"/>\n      <use x=\"522.705078\" xlink:href=\"#DejaVuSans-120\"/>\n      <use x=\"581.884766\" xlink:href=\"#DejaVuSans-112\"/>\n      <use x=\"645.361328\" xlink:href=\"#DejaVuSans-101\"/>\n      <use x=\"706.884766\" xlink:href=\"#DejaVuSans-99\"/>\n      <use x=\"761.865234\" xlink:href=\"#DejaVuSans-116\"/>\n      <use x=\"801.074219\" xlink:href=\"#DejaVuSans-97\"/>\n      <use x=\"862.353516\" xlink:href=\"#DejaVuSans-110\"/>\n      <use x=\"925.732422\" xlink:href=\"#DejaVuSans-99\"/>\n      <use x=\"980.712891\" xlink:href=\"#DejaVuSans-121\"/>\n      <use x=\"1039.892578\" xlink:href=\"#DejaVuSans-32\"/>\n      <use x=\"1071.679688\" xlink:href=\"#DejaVuSans-40\"/>\n      <use x=\"1110.693359\" xlink:href=\"#DejaVuSans-105\"/>\n      <use x=\"1138.476562\" xlink:href=\"#DejaVuSans-110\"/>\n      <use x=\"1201.855469\" xlink:href=\"#DejaVuSans-32\"/>\n      <use x=\"1233.642578\" xlink:href=\"#DejaVuSans-121\"/>\n      <use x=\"1292.822266\" xlink:href=\"#DejaVuSans-101\"/>\n      <use x=\"1354.345703\" xlink:href=\"#DejaVuSans-97\"/>\n      <use x=\"1415.625\" xlink:href=\"#DejaVuSans-114\"/>\n      <use x=\"1456.738281\" xlink:href=\"#DejaVuSans-115\"/>\n      <use x=\"1508.837891\" xlink:href=\"#DejaVuSans-41\"/>\n     </g>\n    </g>\n   </g>\n   <g id=\"line2d_17\">\n    <defs>\n     <path d=\"M 0 3 \nC 0.795609 3 1.55874 2.683901 2.12132 2.12132 \nC 2.683901 1.55874 3 0.795609 3 0 \nC 3 -0.795609 2.683901 -1.55874 2.12132 -2.12132 \nC 1.55874 -2.683901 0.795609 -3 0 -3 \nC -0.795609 -3 -1.55874 -2.683901 -2.12132 -2.12132 \nC -2.683901 -1.55874 -3 -0.795609 -3 0 \nC -3 0.795609 -2.683901 1.55874 -2.12132 2.12132 \nC -1.55874 2.683901 -0.795609 3 0 3 \nz\n\" id=\"ma6cc69ffa7\" style=\"stroke:#0000ff;\"/>\n    </defs>\n    <g clip-path=\"url(#p56e221e725)\">\n     <use style=\"fill:#0000ff;stroke:#0000ff;\" x=\"55.821307\" xlink:href=\"#ma6cc69ffa7\" y=\"174.029822\"/>\n     <use style=\"fill:#0000ff;stroke:#0000ff;\" x=\"58.422705\" xlink:href=\"#ma6cc69ffa7\" y=\"165.089849\"/>\n     <use style=\"fill:#0000ff;stroke:#0000ff;\" x=\"61.024104\" xlink:href=\"#ma6cc69ffa7\" y=\"153.169886\"/>\n     <use style=\"fill:#0000ff;stroke:#0000ff;\" x=\"63.625503\" xlink:href=\"#ma6cc69ffa7\" y=\"158.136537\"/>\n     <use style=\"fill:#0000ff;stroke:#0000ff;\" x=\"66.226901\" xlink:href=\"#ma6cc69ffa7\" y=\"172.539826\"/>\n     <use style=\"fill:#0000ff;stroke:#0000ff;\" x=\"68.8283\" xlink:href=\"#ma6cc69ffa7\" y=\"167.07651\"/>\n     <use style=\"fill:#0000ff;stroke:#0000ff;\" x=\"71.429698\" xlink:href=\"#ma6cc69ffa7\" y=\"167.07651\"/>\n     <use style=\"fill:#0000ff;stroke:#0000ff;\" x=\"74.031097\" xlink:href=\"#ma6cc69ffa7\" y=\"172.539826\"/>\n     <use style=\"fill:#0000ff;stroke:#0000ff;\" x=\"76.632496\" xlink:href=\"#ma6cc69ffa7\" y=\"155.156546\"/>\n     <use style=\"fill:#0000ff;stroke:#0000ff;\" x=\"79.233894\" xlink:href=\"#ma6cc69ffa7\" y=\"150.189895\"/>\n     <use style=\"fill:#0000ff;stroke:#0000ff;\" x=\"81.835293\" xlink:href=\"#ma6cc69ffa7\" y=\"160.619863\"/>\n     <use style=\"fill:#0000ff;stroke:#0000ff;\" x=\"84.436691\" xlink:href=\"#ma6cc69ffa7\" y=\"147.706569\"/>\n     <use style=\"fill:#0000ff;stroke:#0000ff;\" x=\"87.03809\" xlink:href=\"#ma6cc69ffa7\" y=\"143.236583\"/>\n     <use style=\"fill:#0000ff;stroke:#0000ff;\" x=\"89.639489\" xlink:href=\"#ma6cc69ffa7\" y=\"148.203234\"/>\n     <use style=\"fill:#0000ff;stroke:#0000ff;\" x=\"92.240887\" xlink:href=\"#ma6cc69ffa7\" y=\"139.759927\"/>\n     <use style=\"fill:#0000ff;stroke:#0000ff;\" x=\"94.842286\" xlink:href=\"#ma6cc69ffa7\" y=\"138.269931\"/>\n     <use style=\"fill:#0000ff;stroke:#0000ff;\" x=\"97.443684\" xlink:href=\"#ma6cc69ffa7\" y=\"152.176556\"/>\n     <use style=\"fill:#0000ff;stroke:#0000ff;\" x=\"100.045083\" xlink:href=\"#ma6cc69ffa7\" y=\"156.149877\"/>\n     <use style=\"fill:#0000ff;stroke:#0000ff;\" x=\"102.646482\" xlink:href=\"#ma6cc69ffa7\" y=\"214.756364\"/>\n     <use style=\"fill:#0000ff;stroke:#0000ff;\" x=\"105.24788\" xlink:href=\"#ma6cc69ffa7\" y=\"137.276601\"/>\n     <use style=\"fill:#0000ff;stroke:#0000ff;\" x=\"107.849279\" xlink:href=\"#ma6cc69ffa7\" y=\"140.256592\"/>\n     <use style=\"fill:#0000ff;stroke:#0000ff;\" x=\"110.450677\" xlink:href=\"#ma6cc69ffa7\" y=\"106.980027\"/>\n     <use style=\"fill:#0000ff;stroke:#0000ff;\" x=\"113.052076\" xlink:href=\"#ma6cc69ffa7\" y=\"112.940009\"/>\n     <use style=\"fill:#0000ff;stroke:#0000ff;\" x=\"115.653475\" xlink:href=\"#ma6cc69ffa7\" y=\"124.859973\"/>\n     <use style=\"fill:#0000ff;stroke:#0000ff;\" x=\"118.254873\" xlink:href=\"#ma6cc69ffa7\" y=\"112.443344\"/>\n     <use style=\"fill:#0000ff;stroke:#0000ff;\" x=\"120.856272\" xlink:href=\"#ma6cc69ffa7\" y=\"115.92\"/>\n     <use style=\"fill:#0000ff;stroke:#0000ff;\" x=\"123.45767\" xlink:href=\"#ma6cc69ffa7\" y=\"127.343298\"/>\n     <use style=\"fill:#0000ff;stroke:#0000ff;\" x=\"126.059069\" xlink:href=\"#ma6cc69ffa7\" y=\"108.966688\"/>\n     <use style=\"fill:#0000ff;stroke:#0000ff;\" x=\"128.660468\" xlink:href=\"#ma6cc69ffa7\" y=\"126.846633\"/>\n     <use style=\"fill:#0000ff;stroke:#0000ff;\" x=\"131.261866\" xlink:href=\"#ma6cc69ffa7\" y=\"125.356638\"/>\n     <use style=\"fill:#0000ff;stroke:#0000ff;\" x=\"133.863265\" xlink:href=\"#ma6cc69ffa7\" y=\"112.443344\"/>\n     <use style=\"fill:#0000ff;stroke:#0000ff;\" x=\"136.464663\" xlink:href=\"#ma6cc69ffa7\" y=\"105.490032\"/>\n     <use style=\"fill:#0000ff;stroke:#0000ff;\" x=\"139.066062\" xlink:href=\"#ma6cc69ffa7\" y=\"100.523381\"/>\n     <use style=\"fill:#0000ff;stroke:#0000ff;\" x=\"141.667461\" xlink:href=\"#ma6cc69ffa7\" y=\"94.563399\"/>\n     <use style=\"fill:#0000ff;stroke:#0000ff;\" x=\"144.268859\" xlink:href=\"#ma6cc69ffa7\" y=\"105.490032\"/>\n     <use style=\"fill:#0000ff;stroke:#0000ff;\" x=\"146.870258\" xlink:href=\"#ma6cc69ffa7\" y=\"102.510041\"/>\n     <use style=\"fill:#0000ff;stroke:#0000ff;\" x=\"149.471656\" xlink:href=\"#ma6cc69ffa7\" y=\"118.403326\"/>\n     <use style=\"fill:#0000ff;stroke:#0000ff;\" x=\"152.073055\" xlink:href=\"#ma6cc69ffa7\" y=\"110.953349\"/>\n     <use style=\"fill:#0000ff;stroke:#0000ff;\" x=\"154.674454\" xlink:href=\"#ma6cc69ffa7\" y=\"93.570069\"/>\n     <use style=\"fill:#0000ff;stroke:#0000ff;\" x=\"157.275852\" xlink:href=\"#ma6cc69ffa7\" y=\"92.576738\"/>\n     <use style=\"fill:#0000ff;stroke:#0000ff;\" x=\"159.877251\" xlink:href=\"#ma6cc69ffa7\" y=\"96.550059\"/>\n     <use style=\"fill:#0000ff;stroke:#0000ff;\" x=\"162.478649\" xlink:href=\"#ma6cc69ffa7\" y=\"87.113422\"/>\n     <use style=\"fill:#0000ff;stroke:#0000ff;\" x=\"165.080048\" xlink:href=\"#ma6cc69ffa7\" y=\"80.16011\"/>\n     <use style=\"fill:#0000ff;stroke:#0000ff;\" x=\"167.681447\" xlink:href=\"#ma6cc69ffa7\" y=\"94.563399\"/>\n     <use style=\"fill:#0000ff;stroke:#0000ff;\" x=\"170.282845\" xlink:href=\"#ma6cc69ffa7\" y=\"85.126761\"/>\n     <use style=\"fill:#0000ff;stroke:#0000ff;\" x=\"172.884244\" xlink:href=\"#ma6cc69ffa7\" y=\"81.650105\"/>\n     <use style=\"fill:#0000ff;stroke:#0000ff;\" x=\"175.485642\" xlink:href=\"#ma6cc69ffa7\" y=\"77.676784\"/>\n     <use style=\"fill:#0000ff;stroke:#0000ff;\" x=\"178.087041\" xlink:href=\"#ma6cc69ffa7\" y=\"77.180119\"/>\n     <use style=\"fill:#0000ff;stroke:#0000ff;\" x=\"180.68844\" xlink:href=\"#ma6cc69ffa7\" y=\"75.193458\"/>\n     <use style=\"fill:#0000ff;stroke:#0000ff;\" x=\"183.289838\" xlink:href=\"#ma6cc69ffa7\" y=\"71.220137\"/>\n     <use style=\"fill:#0000ff;stroke:#0000ff;\" x=\"185.891237\" xlink:href=\"#ma6cc69ffa7\" y=\"70.226807\"/>\n     <use style=\"fill:#0000ff;stroke:#0000ff;\" x=\"188.492635\" xlink:href=\"#ma6cc69ffa7\" y=\"69.233476\"/>\n     <use style=\"fill:#0000ff;stroke:#0000ff;\" x=\"191.094034\" xlink:href=\"#ma6cc69ffa7\" y=\"68.240146\"/>\n     <use style=\"fill:#0000ff;stroke:#0000ff;\" x=\"193.695433\" xlink:href=\"#ma6cc69ffa7\" y=\"67.246816\"/>\n     <use style=\"fill:#0000ff;stroke:#0000ff;\" x=\"196.296831\" xlink:href=\"#ma6cc69ffa7\" y=\"63.273495\"/>\n     <use style=\"fill:#0000ff;stroke:#0000ff;\" x=\"198.89823\" xlink:href=\"#ma6cc69ffa7\" y=\"63.273495\"/>\n     <use style=\"fill:#0000ff;stroke:#0000ff;\" x=\"201.499628\" xlink:href=\"#ma6cc69ffa7\" y=\"62.77683\"/>\n     <use style=\"fill:#0000ff;stroke:#0000ff;\" x=\"204.101027\" xlink:href=\"#ma6cc69ffa7\" y=\"63.77016\"/>\n     <use style=\"fill:#0000ff;stroke:#0000ff;\" x=\"206.702426\" xlink:href=\"#ma6cc69ffa7\" y=\"63.273495\"/>\n     <use style=\"fill:#0000ff;stroke:#0000ff;\" x=\"209.303824\" xlink:href=\"#ma6cc69ffa7\" y=\"61.783499\"/>\n     <use style=\"fill:#0000ff;stroke:#0000ff;\" x=\"211.905223\" xlink:href=\"#ma6cc69ffa7\" y=\"62.77683\"/>\n     <use style=\"fill:#0000ff;stroke:#0000ff;\" x=\"214.506622\" xlink:href=\"#ma6cc69ffa7\" y=\"60.293504\"/>\n     <use style=\"fill:#0000ff;stroke:#0000ff;\" x=\"217.10802\" xlink:href=\"#ma6cc69ffa7\" y=\"60.790169\"/>\n     <use style=\"fill:#0000ff;stroke:#0000ff;\" x=\"219.709419\" xlink:href=\"#ma6cc69ffa7\" y=\"61.783499\"/>\n     <use style=\"fill:#0000ff;stroke:#0000ff;\" x=\"222.310817\" xlink:href=\"#ma6cc69ffa7\" y=\"60.293504\"/>\n     <use style=\"fill:#0000ff;stroke:#0000ff;\" x=\"224.912216\" xlink:href=\"#ma6cc69ffa7\" y=\"60.293504\"/>\n     <use style=\"fill:#0000ff;stroke:#0000ff;\" x=\"227.513615\" xlink:href=\"#ma6cc69ffa7\" y=\"60.293504\"/>\n     <use style=\"fill:#0000ff;stroke:#0000ff;\" x=\"230.115013\" xlink:href=\"#ma6cc69ffa7\" y=\"58.803508\"/>\n     <use style=\"fill:#0000ff;stroke:#0000ff;\" x=\"232.716412\" xlink:href=\"#ma6cc69ffa7\" y=\"60.293504\"/>\n     <use style=\"fill:#0000ff;stroke:#0000ff;\" x=\"235.31781\" xlink:href=\"#ma6cc69ffa7\" y=\"58.803508\"/>\n     <use style=\"fill:#0000ff;stroke:#0000ff;\" x=\"237.919209\" xlink:href=\"#ma6cc69ffa7\" y=\"57.313513\"/>\n     <use style=\"fill:#0000ff;stroke:#0000ff;\" x=\"240.520608\" xlink:href=\"#ma6cc69ffa7\" y=\"55.823518\"/>\n     <use style=\"fill:#0000ff;stroke:#0000ff;\" x=\"243.122006\" xlink:href=\"#ma6cc69ffa7\" y=\"55.326852\"/>\n     <use style=\"fill:#0000ff;stroke:#0000ff;\" x=\"245.723405\" xlink:href=\"#ma6cc69ffa7\" y=\"54.333522\"/>\n     <use style=\"fill:#0000ff;stroke:#0000ff;\" x=\"248.324803\" xlink:href=\"#ma6cc69ffa7\" y=\"51.353531\"/>\n     <use style=\"fill:#0000ff;stroke:#0000ff;\" x=\"250.926202\" xlink:href=\"#ma6cc69ffa7\" y=\"48.37354\"/>\n     <use style=\"fill:#0000ff;stroke:#0000ff;\" x=\"253.527601\" xlink:href=\"#ma6cc69ffa7\" y=\"46.883545\"/>\n     <use style=\"fill:#0000ff;stroke:#0000ff;\" x=\"256.128999\" xlink:href=\"#ma6cc69ffa7\" y=\"44.896884\"/>\n     <use style=\"fill:#0000ff;stroke:#0000ff;\" x=\"258.730398\" xlink:href=\"#ma6cc69ffa7\" y=\"43.903554\"/>\n     <use style=\"fill:#0000ff;stroke:#0000ff;\" x=\"261.331796\" xlink:href=\"#ma6cc69ffa7\" y=\"41.916894\"/>\n     <use style=\"fill:#0000ff;stroke:#0000ff;\" x=\"263.933195\" xlink:href=\"#ma6cc69ffa7\" y=\"42.910224\"/>\n     <use style=\"fill:#0000ff;stroke:#0000ff;\" x=\"266.534594\" xlink:href=\"#ma6cc69ffa7\" y=\"40.923563\"/>\n     <use style=\"fill:#0000ff;stroke:#0000ff;\" x=\"269.135992\" xlink:href=\"#ma6cc69ffa7\" y=\"38.936903\"/>\n     <use style=\"fill:#0000ff;stroke:#0000ff;\" x=\"271.737391\" xlink:href=\"#ma6cc69ffa7\" y=\"38.440238\"/>\n     <use style=\"fill:#0000ff;stroke:#0000ff;\" x=\"274.338789\" xlink:href=\"#ma6cc69ffa7\" y=\"37.943572\"/>\n     <use style=\"fill:#0000ff;stroke:#0000ff;\" x=\"276.940188\" xlink:href=\"#ma6cc69ffa7\" y=\"37.943572\"/>\n     <use style=\"fill:#0000ff;stroke:#0000ff;\" x=\"279.541587\" xlink:href=\"#ma6cc69ffa7\" y=\"37.943572\"/>\n     <use style=\"fill:#0000ff;stroke:#0000ff;\" x=\"282.142985\" xlink:href=\"#ma6cc69ffa7\" y=\"36.950242\"/>\n     <use style=\"fill:#0000ff;stroke:#0000ff;\" x=\"284.744384\" xlink:href=\"#ma6cc69ffa7\" y=\"36.950242\"/>\n     <use style=\"fill:#0000ff;stroke:#0000ff;\" x=\"287.345782\" xlink:href=\"#ma6cc69ffa7\" y=\"35.956912\"/>\n     <use style=\"fill:#0000ff;stroke:#0000ff;\" x=\"289.947181\" xlink:href=\"#ma6cc69ffa7\" y=\"34.466916\"/>\n     <use style=\"fill:#0000ff;stroke:#0000ff;\" x=\"292.54858\" xlink:href=\"#ma6cc69ffa7\" y=\"33.970251\"/>\n     <use style=\"fill:#0000ff;stroke:#0000ff;\" x=\"295.149978\" xlink:href=\"#ma6cc69ffa7\" y=\"32.480256\"/>\n     <use style=\"fill:#0000ff;stroke:#0000ff;\" x=\"297.751377\" xlink:href=\"#ma6cc69ffa7\" y=\"33.970251\"/>\n     <use style=\"fill:#0000ff;stroke:#0000ff;\" x=\"300.352775\" xlink:href=\"#ma6cc69ffa7\" y=\"32.976921\"/>\n     <use style=\"fill:#0000ff;stroke:#0000ff;\" x=\"302.954174\" xlink:href=\"#ma6cc69ffa7\" y=\"32.480256\"/>\n     <use style=\"fill:#0000ff;stroke:#0000ff;\" x=\"305.555573\" xlink:href=\"#ma6cc69ffa7\" y=\"30.99026\"/>\n     <use style=\"fill:#0000ff;stroke:#0000ff;\" x=\"308.156971\" xlink:href=\"#ma6cc69ffa7\" y=\"29.0036\"/>\n     <use style=\"fill:#0000ff;stroke:#0000ff;\" x=\"310.75837\" xlink:href=\"#ma6cc69ffa7\" y=\"28.01027\"/>\n     <use style=\"fill:#0000ff;stroke:#0000ff;\" x=\"313.359768\" xlink:href=\"#ma6cc69ffa7\" y=\"28.01027\"/>\n     <use style=\"fill:#0000ff;stroke:#0000ff;\" x=\"315.961167\" xlink:href=\"#ma6cc69ffa7\" y=\"27.513604\"/>\n     <use style=\"fill:#0000ff;stroke:#0000ff;\" x=\"318.562566\" xlink:href=\"#ma6cc69ffa7\" y=\"26.520274\"/>\n     <use style=\"fill:#0000ff;stroke:#0000ff;\" x=\"321.163964\" xlink:href=\"#ma6cc69ffa7\" y=\"26.520274\"/>\n     <use style=\"fill:#0000ff;stroke:#0000ff;\" x=\"323.765363\" xlink:href=\"#ma6cc69ffa7\" y=\"23.540283\"/>\n     <use style=\"fill:#0000ff;stroke:#0000ff;\" x=\"326.366761\" xlink:href=\"#ma6cc69ffa7\" y=\"24.036948\"/>\n     <use style=\"fill:#0000ff;stroke:#0000ff;\" x=\"328.96816\" xlink:href=\"#ma6cc69ffa7\" y=\"23.540283\"/>\n     <use style=\"fill:#0000ff;stroke:#0000ff;\" x=\"331.569559\" xlink:href=\"#ma6cc69ffa7\" y=\"22.546953\"/>\n     <use style=\"fill:#0000ff;stroke:#0000ff;\" x=\"334.170957\" xlink:href=\"#ma6cc69ffa7\" y=\"21.056958\"/>\n     <use style=\"fill:#0000ff;stroke:#0000ff;\" x=\"336.772356\" xlink:href=\"#ma6cc69ffa7\" y=\"20.560292\"/>\n     <use style=\"fill:#0000ff;stroke:#0000ff;\" x=\"339.373754\" xlink:href=\"#ma6cc69ffa7\" y=\"19.070297\"/>\n     <use style=\"fill:#0000ff;stroke:#0000ff;\" x=\"341.975153\" xlink:href=\"#ma6cc69ffa7\" y=\"18.076967\"/>\n     <use style=\"fill:#0000ff;stroke:#0000ff;\" x=\"344.576552\" xlink:href=\"#ma6cc69ffa7\" y=\"18.076967\"/>\n     <use style=\"fill:#0000ff;stroke:#0000ff;\" x=\"347.17795\" xlink:href=\"#ma6cc69ffa7\" y=\"17.580302\"/>\n     <use style=\"fill:#0000ff;stroke:#0000ff;\" x=\"349.779349\" xlink:href=\"#ma6cc69ffa7\" y=\"17.580302\"/>\n     <use style=\"fill:#0000ff;stroke:#0000ff;\" x=\"352.380747\" xlink:href=\"#ma6cc69ffa7\" y=\"17.083636\"/>\n     <use style=\"fill:#0000ff;stroke:#0000ff;\" x=\"354.982146\" xlink:href=\"#ma6cc69ffa7\" y=\"18.076967\"/>\n     <use style=\"fill:#0000ff;stroke:#0000ff;\" x=\"357.583545\" xlink:href=\"#ma6cc69ffa7\" y=\"18.076967\"/>\n     <use style=\"fill:#0000ff;stroke:#0000ff;\" x=\"360.184943\" xlink:href=\"#ma6cc69ffa7\" y=\"18.573632\"/>\n    </g>\n   </g>\n   <g id=\"patch_3\">\n    <path d=\"M 40.603125 224.64 \nL 40.603125 7.2 \n\" style=\"fill:none;stroke:#000000;stroke-linecap:square;stroke-linejoin:miter;stroke-width:0.8;\"/>\n   </g>\n   <g id=\"patch_4\">\n    <path d=\"M 375.403125 224.64 \nL 375.403125 7.2 \n\" style=\"fill:none;stroke:#000000;stroke-linecap:square;stroke-linejoin:miter;stroke-width:0.8;\"/>\n   </g>\n   <g id=\"patch_5\">\n    <path d=\"M 40.603125 224.64 \nL 375.403125 224.64 \n\" style=\"fill:none;stroke:#000000;stroke-linecap:square;stroke-linejoin:miter;stroke-width:0.8;\"/>\n   </g>\n   <g id=\"patch_6\">\n    <path d=\"M 40.603125 7.2 \nL 375.403125 7.2 \n\" style=\"fill:none;stroke:#000000;stroke-linecap:square;stroke-linejoin:miter;stroke-width:0.8;\"/>\n   </g>\n  </g>\n </g>\n <defs>\n  <clipPath id=\"p56e221e725\">\n   <rect height=\"217.44\" width=\"334.8\" x=\"40.603125\" y=\"7.2\"/>\n  </clipPath>\n </defs>\n</svg>\n",
      "text/plain": "<Figure size 432x288 with 1 Axes>"
     },
     "metadata": {
      "needs_background": "light"
     },
     "output_type": "display_data"
    },
    {
     "data": {
      "text/plain": "<Figure size 720x720 with 0 Axes>"
     },
     "metadata": {},
     "output_type": "display_data"
    }
   ],
   "source": [
    "plot_data = life_expectancy_total[(life_expectancy_total.Race == 'All Races') & (life_expectancy_total.Sex == 'Both Sexes')] \n",
    "plt.plot(plot_data['Year'], plot_data['Average Life Expectancy (Years)'], 'bo')\n",
    "plt.ylabel('avg. Life Expectancy (in years)')\n",
    "plt.xlabel('Year')\n",
    "plt.figure(figsize=(10,10))\n",
    "plt.show()"
   ]
  },
  {
   "cell_type": "code",
   "execution_count": 7,
   "metadata": {},
   "outputs": [
    {
     "data": {
      "text/html": "<div>\n<style scoped>\n    .dataframe tbody tr th:only-of-type {\n        vertical-align: middle;\n    }\n\n    .dataframe tbody tr th {\n        vertical-align: top;\n    }\n\n    .dataframe thead th {\n        text-align: right;\n    }\n</style>\n<table border=\"1\" class=\"dataframe\">\n  <thead>\n    <tr style=\"text-align: right;\">\n      <th></th>\n      <th>Year</th>\n      <th>Race</th>\n      <th>Sex</th>\n      <th>Average Life Expectancy (Years)</th>\n      <th>Age-adjusted Death Rate</th>\n    </tr>\n  </thead>\n  <tbody>\n    <tr>\n      <th>108</th>\n      <td>2008</td>\n      <td>All Races</td>\n      <td>Both Sexes</td>\n      <td>78.2</td>\n      <td>774.9</td>\n    </tr>\n    <tr>\n      <th>109</th>\n      <td>2009</td>\n      <td>All Races</td>\n      <td>Both Sexes</td>\n      <td>78.5</td>\n      <td>749.6</td>\n    </tr>\n    <tr>\n      <th>110</th>\n      <td>2010</td>\n      <td>All Races</td>\n      <td>Both Sexes</td>\n      <td>78.7</td>\n      <td>747.0</td>\n    </tr>\n    <tr>\n      <th>111</th>\n      <td>2011</td>\n      <td>All Races</td>\n      <td>Both Sexes</td>\n      <td>78.7</td>\n      <td>741.3</td>\n    </tr>\n    <tr>\n      <th>112</th>\n      <td>2012</td>\n      <td>All Races</td>\n      <td>Both Sexes</td>\n      <td>78.8</td>\n      <td>732.8</td>\n    </tr>\n    <tr>\n      <th>113</th>\n      <td>2013</td>\n      <td>All Races</td>\n      <td>Both Sexes</td>\n      <td>78.8</td>\n      <td>731.9</td>\n    </tr>\n    <tr>\n      <th>114</th>\n      <td>2014</td>\n      <td>All Races</td>\n      <td>Both Sexes</td>\n      <td>78.9</td>\n      <td>724.6</td>\n    </tr>\n    <tr>\n      <th>115</th>\n      <td>2015</td>\n      <td>All Races</td>\n      <td>Both Sexes</td>\n      <td>78.7</td>\n      <td>733.1</td>\n    </tr>\n    <tr>\n      <th>116</th>\n      <td>2016</td>\n      <td>All Races</td>\n      <td>Both Sexes</td>\n      <td>78.7</td>\n      <td>728.8</td>\n    </tr>\n    <tr>\n      <th>117</th>\n      <td>2017</td>\n      <td>All Races</td>\n      <td>Both Sexes</td>\n      <td>78.6</td>\n      <td>731.9</td>\n    </tr>\n  </tbody>\n</table>\n</div>",
      "text/plain": "     Year       Race         Sex  Average Life Expectancy (Years)  \\\n108  2008  All Races  Both Sexes                             78.2   \n109  2009  All Races  Both Sexes                             78.5   \n110  2010  All Races  Both Sexes                             78.7   \n111  2011  All Races  Both Sexes                             78.7   \n112  2012  All Races  Both Sexes                             78.8   \n113  2013  All Races  Both Sexes                             78.8   \n114  2014  All Races  Both Sexes                             78.9   \n115  2015  All Races  Both Sexes                             78.7   \n116  2016  All Races  Both Sexes                             78.7   \n117  2017  All Races  Both Sexes                             78.6   \n\n     Age-adjusted Death Rate  \n108                    774.9  \n109                    749.6  \n110                    747.0  \n111                    741.3  \n112                    732.8  \n113                    731.9  \n114                    724.6  \n115                    733.1  \n116                    728.8  \n117                    731.9  "
     },
     "execution_count": 7,
     "metadata": {},
     "output_type": "execute_result"
    }
   ],
   "source": [
    "plot_data.tail(10)"
   ]
  },
  {
   "cell_type": "markdown",
   "execution_count": null,
   "metadata": {},
   "outputs": [],
   "source": [
    "Volatile in the beginning (outlier: 1918), but since the 1950 the life expectancy increases (up until 2016), then it starts to decline a bit. As a side remark: in 2016 the global life expectancy was 72 years (WHO).\n",
    "Let's check now for the LE within the USA."
   ]
  },
  {
   "cell_type": "code",
   "execution_count": 37,
   "metadata": {},
   "outputs": [],
   "source": [
    "# Average LE per area, Years: 2010, 2014\n",
    "life_expectancy_total_1014_grouped = life_expectancy_total_1014.groupby(['metro_nonmetro', 'year'], as_index = False).mean()\n",
    "life_expectancy_total_1014_grouped = life_expectancy_total_1014_grouped.append(pd.DataFrame({\"metro_nonmetro\":[\"USA\", \"USA\"], \"year\":[2010, 2014], \"value\":[78.7, 78.9]}), ignore_index = True) # add data for USA total\n",
    "\n",
    "life_expct_1014_per_state = life_expectancy_total_1014.groupby(['metro_nonmetro', 'state_abbr', 'year'], as_index=False).mean()"
   ]
  },
  {
   "cell_type": "code",
   "execution_count": 38,
   "metadata": {},
   "outputs": [
    {
     "data": {
      "text/html": "<div>\n<style scoped>\n    .dataframe tbody tr th:only-of-type {\n        vertical-align: middle;\n    }\n\n    .dataframe tbody tr th {\n        vertical-align: top;\n    }\n\n    .dataframe thead th {\n        text-align: right;\n    }\n</style>\n<table border=\"1\" class=\"dataframe\">\n  <thead>\n    <tr style=\"text-align: right;\">\n      <th></th>\n      <th>metro_nonmetro</th>\n      <th>year</th>\n      <th>value</th>\n    </tr>\n  </thead>\n  <tbody>\n    <tr>\n      <th>0</th>\n      <td>Metropolitan</td>\n      <td>2010</td>\n      <td>78.121184</td>\n    </tr>\n    <tr>\n      <th>1</th>\n      <td>Metropolitan</td>\n      <td>2014</td>\n      <td>78.227539</td>\n    </tr>\n    <tr>\n      <th>2</th>\n      <td>Nonmetropolitan</td>\n      <td>2010</td>\n      <td>77.449970</td>\n    </tr>\n    <tr>\n      <th>3</th>\n      <td>Nonmetropolitan</td>\n      <td>2014</td>\n      <td>77.469266</td>\n    </tr>\n    <tr>\n      <th>4</th>\n      <td>USA</td>\n      <td>2010</td>\n      <td>78.700000</td>\n    </tr>\n    <tr>\n      <th>5</th>\n      <td>USA</td>\n      <td>2014</td>\n      <td>78.900000</td>\n    </tr>\n  </tbody>\n</table>\n</div>",
      "text/plain": "    metro_nonmetro  year      value\n0     Metropolitan  2010  78.121184\n1     Metropolitan  2014  78.227539\n2  Nonmetropolitan  2010  77.449970\n3  Nonmetropolitan  2014  77.469266\n4              USA  2010  78.700000\n5              USA  2014  78.900000"
     },
     "execution_count": 38,
     "metadata": {},
     "output_type": "execute_result"
    }
   ],
   "source": [
    "life_expectancy_total_1014_grouped"
   ]
  },
  {
   "cell_type": "code",
   "execution_count": 10,
   "metadata": {},
   "outputs": [
    {
     "data": {
      "text/html": "<div>\n<style scoped>\n    .dataframe tbody tr th:only-of-type {\n        vertical-align: middle;\n    }\n\n    .dataframe tbody tr th {\n        vertical-align: top;\n    }\n\n    .dataframe thead th {\n        text-align: right;\n    }\n</style>\n<table border=\"1\" class=\"dataframe\">\n  <thead>\n    <tr style=\"text-align: right;\">\n      <th></th>\n      <th>metro_nonmetro</th>\n      <th>state_abbr</th>\n      <th>year</th>\n      <th>value</th>\n    </tr>\n  </thead>\n  <tbody>\n    <tr>\n      <th>137</th>\n      <td>Nonmetropolitan</td>\n      <td>MA</td>\n      <td>2014</td>\n      <td>81.306667</td>\n    </tr>\n    <tr>\n      <th>23</th>\n      <td>Metropolitan</td>\n      <td>HI</td>\n      <td>2014</td>\n      <td>81.116667</td>\n    </tr>\n    <tr>\n      <th>47</th>\n      <td>Metropolitan</td>\n      <td>MN</td>\n      <td>2014</td>\n      <td>80.928519</td>\n    </tr>\n    <tr>\n      <th>115</th>\n      <td>Nonmetropolitan</td>\n      <td>CT</td>\n      <td>2014</td>\n      <td>80.740000</td>\n    </tr>\n    <tr>\n      <th>121</th>\n      <td>Nonmetropolitan</td>\n      <td>HI</td>\n      <td>2014</td>\n      <td>80.610000</td>\n    </tr>\n    <tr>\n      <th>11</th>\n      <td>Metropolitan</td>\n      <td>CO</td>\n      <td>2014</td>\n      <td>80.524118</td>\n    </tr>\n    <tr>\n      <th>13</th>\n      <td>Metropolitan</td>\n      <td>CT</td>\n      <td>2014</td>\n      <td>80.504286</td>\n    </tr>\n    <tr>\n      <th>79</th>\n      <td>Metropolitan</td>\n      <td>RI</td>\n      <td>2014</td>\n      <td>80.424000</td>\n    </tr>\n    <tr>\n      <th>145</th>\n      <td>Nonmetropolitan</td>\n      <td>MN</td>\n      <td>2014</td>\n      <td>80.402667</td>\n    </tr>\n    <tr>\n      <th>83</th>\n      <td>Metropolitan</td>\n      <td>SD</td>\n      <td>2014</td>\n      <td>80.313750</td>\n    </tr>\n  </tbody>\n</table>\n</div>",
      "text/plain": "      metro_nonmetro state_abbr  year      value\n137  Nonmetropolitan         MA  2014  81.306667\n23      Metropolitan         HI  2014  81.116667\n47      Metropolitan         MN  2014  80.928519\n115  Nonmetropolitan         CT  2014  80.740000\n121  Nonmetropolitan         HI  2014  80.610000\n11      Metropolitan         CO  2014  80.524118\n13      Metropolitan         CT  2014  80.504286\n79      Metropolitan         RI  2014  80.424000\n145  Nonmetropolitan         MN  2014  80.402667\n83      Metropolitan         SD  2014  80.313750"
     },
     "execution_count": 10,
     "metadata": {},
     "output_type": "execute_result"
    }
   ],
   "source": [
    "# Top 10 states per life expectancy\n",
    "life_expct_1014_per_state[life_expct_1014_per_state.year == 2014].sort_values(by=['value'], ascending=[0])[0:10]"
   ]
  },
  {
   "cell_type": "code",
   "execution_count": 11,
   "metadata": {},
   "outputs": [
    {
     "data": {
      "text/html": "<div>\n<style scoped>\n    .dataframe tbody tr th:only-of-type {\n        vertical-align: middle;\n    }\n\n    .dataframe tbody tr th {\n        vertical-align: top;\n    }\n\n    .dataframe thead th {\n        text-align: right;\n    }\n</style>\n<table border=\"1\" class=\"dataframe\">\n  <thead>\n    <tr style=\"text-align: right;\">\n      <th></th>\n      <th>metro_nonmetro</th>\n      <th>state_abbr</th>\n      <th>year</th>\n      <th>value</th>\n    </tr>\n  </thead>\n  <tbody>\n    <tr>\n      <th>169</th>\n      <td>Nonmetropolitan</td>\n      <td>OK</td>\n      <td>2014</td>\n      <td>75.359831</td>\n    </tr>\n    <tr>\n      <th>119</th>\n      <td>Nonmetropolitan</td>\n      <td>GA</td>\n      <td>2014</td>\n      <td>75.278235</td>\n    </tr>\n    <tr>\n      <th>107</th>\n      <td>Nonmetropolitan</td>\n      <td>AR</td>\n      <td>2014</td>\n      <td>75.270727</td>\n    </tr>\n    <tr>\n      <th>51</th>\n      <td>Metropolitan</td>\n      <td>MS</td>\n      <td>2014</td>\n      <td>74.979412</td>\n    </tr>\n    <tr>\n      <th>179</th>\n      <td>Nonmetropolitan</td>\n      <td>TN</td>\n      <td>2014</td>\n      <td>74.918679</td>\n    </tr>\n    <tr>\n      <th>133</th>\n      <td>Nonmetropolitan</td>\n      <td>KY</td>\n      <td>2014</td>\n      <td>74.723412</td>\n    </tr>\n    <tr>\n      <th>175</th>\n      <td>Nonmetropolitan</td>\n      <td>SC</td>\n      <td>2014</td>\n      <td>74.687500</td>\n    </tr>\n    <tr>\n      <th>135</th>\n      <td>Nonmetropolitan</td>\n      <td>LA</td>\n      <td>2014</td>\n      <td>74.482759</td>\n    </tr>\n    <tr>\n      <th>105</th>\n      <td>Nonmetropolitan</td>\n      <td>AL</td>\n      <td>2014</td>\n      <td>74.462368</td>\n    </tr>\n    <tr>\n      <th>149</th>\n      <td>Nonmetropolitan</td>\n      <td>MS</td>\n      <td>2014</td>\n      <td>74.184923</td>\n    </tr>\n  </tbody>\n</table>\n</div>",
      "text/plain": "      metro_nonmetro state_abbr  year      value\n169  Nonmetropolitan         OK  2014  75.359831\n119  Nonmetropolitan         GA  2014  75.278235\n107  Nonmetropolitan         AR  2014  75.270727\n51      Metropolitan         MS  2014  74.979412\n179  Nonmetropolitan         TN  2014  74.918679\n133  Nonmetropolitan         KY  2014  74.723412\n175  Nonmetropolitan         SC  2014  74.687500\n135  Nonmetropolitan         LA  2014  74.482759\n105  Nonmetropolitan         AL  2014  74.462368\n149  Nonmetropolitan         MS  2014  74.184923"
     },
     "execution_count": 11,
     "metadata": {},
     "output_type": "execute_result"
    }
   ],
   "source": [
    "# Worst 10 states per life expectancy\n",
    "life_expct_1014_per_state[life_expct_1014_per_state.year == 2014].sort_values(by=['value'], ascending=[0])[-10:]"
   ]
  },
  {
   "cell_type": "markdown",
   "execution_count": null,
   "metadata": {},
   "outputs": [],
   "source": [
    "## Life Expectancy"
   ]
  },
  {
   "cell_type": "code",
   "execution_count": 17,
   "metadata": {},
   "outputs": [],
   "source": [
    "# print as map\n",
    "state_data = life_expct_1014_per_state[(life_expct_1014_per_state.year == 2014) & (life_expct_1014_per_state.metro_nonmetro == 'Nonmetropolitan')]\n",
    "genFoliumMap(title = 'Life Expectancy per State (2014)', state_data = state_data, cols=['state_abbr', 'value'], save = True)"
   ]
  },
  {
   "cell_type": "code",
   "execution_count": 13,
   "metadata": {},
   "outputs": [
    {
     "data": {
      "text/html": "<div>\n<style scoped>\n    .dataframe tbody tr th:only-of-type {\n        vertical-align: middle;\n    }\n\n    .dataframe tbody tr th {\n        vertical-align: top;\n    }\n\n    .dataframe thead th {\n        text-align: right;\n    }\n</style>\n<table border=\"1\" class=\"dataframe\">\n  <thead>\n    <tr style=\"text-align: right;\">\n      <th></th>\n      <th>metro_nonmetro</th>\n      <th>year</th>\n      <th>value</th>\n    </tr>\n  </thead>\n  <tbody>\n    <tr>\n      <th>0</th>\n      <td>Metropolitan</td>\n      <td>2010</td>\n      <td>78.523808</td>\n    </tr>\n    <tr>\n      <th>1</th>\n      <td>Metropolitan</td>\n      <td>2014</td>\n      <td>78.647840</td>\n    </tr>\n    <tr>\n      <th>2</th>\n      <td>Nonmetropolitan</td>\n      <td>2010</td>\n      <td>77.829050</td>\n    </tr>\n    <tr>\n      <th>3</th>\n      <td>Nonmetropolitan</td>\n      <td>2014</td>\n      <td>77.892211</td>\n    </tr>\n  </tbody>\n</table>\n</div>",
      "text/plain": "    metro_nonmetro  year      value\n0     Metropolitan  2010  78.523808\n1     Metropolitan  2014  78.647840\n2  Nonmetropolitan  2010  77.829050\n3  Nonmetropolitan  2014  77.892211"
     },
     "execution_count": 13,
     "metadata": {},
     "output_type": "execute_result"
    }
   ],
   "source": [
    "life_expct_1014_per_state.groupby(['metro_nonmetro', 'year'], as_index = False).mean()"
   ]
  },
  {
   "cell_type": "markdown",
   "execution_count": null,
   "metadata": {},
   "outputs": [],
   "source": [
    "Metropolitan areas are amongst the locations with the highest life expectancy (as of 2014), although NM areas in Massachussetts are, in total, the regions with the highest life expectancy. Hawaii follows second. More NM areas are having the lowest life expectancy, with NM in Mississippi are last. One thing which should be considered here is, that not all the states are equally sized or have the same amount of counties/inhabitants."
   ]
  },
  {
   "cell_type": "code",
   "execution_count": 18,
   "metadata": {},
   "outputs": [],
   "source": [
    "genFoliumMap(title='Life Expectancy per County (2014)', state_data=life_expectancy_total_2014_counties, cols = ['county_name', 'value'], mapType='counties', save = True)\n",
    "# output won't show up here, so save it right away"
   ]
  },
  {
   "cell_type": "code",
   "execution_count": 40,
   "metadata": {},
   "outputs": [
    {
     "name": "stdout",
     "output_type": "stream",
     "text": "adding a second layer\n"
    }
   ],
   "source": [
    "# per state\n",
    "m = genFoliumMap(title='Life Expectancy per state (2014)', state_data=life_expectancy_total_1014, cols = ['state_abbr', 'value'], mapType='states', color = 'Greens')\n",
    "\n",
    "# per county\n",
    "m = genFoliumMap(title='Life Expectancy per county (2014)', state_data=life_expectancy_total_1014, cols = ['county_name', 'value'], mapType='counties', my_map = m, color = 'Greens')\n",
    "\n",
    "m = addLayerControl(m)\n",
    "saveFinalMap(m, 'Life Expectancy (2014)')"
   ]
  },
  {
   "cell_type": "code",
   "execution_count": 22,
   "metadata": {},
   "outputs": [
    {
     "name": "stdout",
     "output_type": "stream",
     "text": "adding a second layer\n"
    }
   ],
   "source": [
    "# only Metro areas\n",
    "m = genFoliumMap(title='Life Expectancy per County (2014)(Metro)', state_data=life_expectancy_total_2014_counties[life_expectancy_total_2014_counties['metro_nonmetro'] == 'Metropolitan'], cols = ['county_name', 'value'], mapType='counties', save = False, color = 'BuPu')\n",
    "# only Nonmetro areas\n",
    "m = genFoliumMap(title='Life Expectancy per County (2014)(Nonmetro)', state_data=life_expectancy_total_2014_counties[life_expectancy_total_2014_counties['metro_nonmetro'] == 'Nonmetropolitan'], cols = ['county_name', 'value'], mapType='counties', save = False, my_map = m, color = 'GnBu')\n",
    "\n",
    "m = addLayerControl(m)\n",
    "saveFinalMap(m, 'Life Expectancy per County (2014) (Metro-Nonmetro)')"
   ]
  },
  {
   "cell_type": "markdown",
   "execution_count": null,
   "metadata": {},
   "outputs": [],
   "source": [
    "## Diabetes/Obesity Prevalence"
   ]
  },
  {
   "cell_type": "markdown",
   "execution_count": null,
   "metadata": {},
   "outputs": [],
   "source": [
    "### Obesity"
   ]
  },
  {
   "cell_type": "code",
   "execution_count": 7,
   "metadata": {},
   "outputs": [
    {
     "data": {
      "text/html": "<div>\n<style scoped>\n    .dataframe tbody tr th:only-of-type {\n        vertical-align: middle;\n    }\n\n    .dataframe tbody tr th {\n        vertical-align: top;\n    }\n\n    .dataframe thead th {\n        text-align: right;\n    }\n</style>\n<table border=\"1\" class=\"dataframe\">\n  <thead>\n    <tr style=\"text-align: right;\">\n      <th></th>\n      <th>metro_nonmetro</th>\n      <th>year</th>\n      <th>county_name</th>\n      <th>state_abbr</th>\n      <th>value</th>\n    </tr>\n  </thead>\n  <tbody>\n    <tr>\n      <th>0</th>\n      <td>Metropolitan</td>\n      <td>2006</td>\n      <td>Anchorage</td>\n      <td>AK</td>\n      <td>25.500058</td>\n    </tr>\n    <tr>\n      <th>1</th>\n      <td>Metropolitan</td>\n      <td>2006</td>\n      <td>Fairbanks North Star</td>\n      <td>AK</td>\n      <td>27.200134</td>\n    </tr>\n    <tr>\n      <th>2</th>\n      <td>Metropolitan</td>\n      <td>2006</td>\n      <td>Matanuska-Susitna</td>\n      <td>AK</td>\n      <td>28.300078</td>\n    </tr>\n    <tr>\n      <th>3</th>\n      <td>Metropolitan</td>\n      <td>2006</td>\n      <td>Autauga</td>\n      <td>AL</td>\n      <td>27.899907</td>\n    </tr>\n    <tr>\n      <th>4</th>\n      <td>Metropolitan</td>\n      <td>2006</td>\n      <td>Baldwin</td>\n      <td>AL</td>\n      <td>23.899944</td>\n    </tr>\n    <tr>\n      <th>...</th>\n      <td>...</td>\n      <td>...</td>\n      <td>...</td>\n      <td>...</td>\n      <td>...</td>\n    </tr>\n    <tr>\n      <th>34558</th>\n      <td>Nonmetropolitan</td>\n      <td>2016</td>\n      <td>Sweetwater</td>\n      <td>WY</td>\n      <td>29.500047</td>\n    </tr>\n    <tr>\n      <th>34559</th>\n      <td>Nonmetropolitan</td>\n      <td>2016</td>\n      <td>Teton</td>\n      <td>WY</td>\n      <td>12.300610</td>\n    </tr>\n    <tr>\n      <th>34560</th>\n      <td>Nonmetropolitan</td>\n      <td>2016</td>\n      <td>Uinta</td>\n      <td>WY</td>\n      <td>35.602316</td>\n    </tr>\n    <tr>\n      <th>34561</th>\n      <td>Nonmetropolitan</td>\n      <td>2016</td>\n      <td>Washakie</td>\n      <td>WY</td>\n      <td>28.701106</td>\n    </tr>\n    <tr>\n      <th>34562</th>\n      <td>Nonmetropolitan</td>\n      <td>2016</td>\n      <td>Weston</td>\n      <td>WY</td>\n      <td>32.901135</td>\n    </tr>\n  </tbody>\n</table>\n<p>34563 rows × 5 columns</p>\n</div>",
      "text/plain": "        metro_nonmetro  year           county_name state_abbr      value\n0         Metropolitan  2006            Anchorage          AK  25.500058\n1         Metropolitan  2006  Fairbanks North Star         AK  27.200134\n2         Metropolitan  2006     Matanuska-Susitna         AK  28.300078\n3         Metropolitan  2006               Autauga         AL  27.899907\n4         Metropolitan  2006               Baldwin         AL  23.899944\n...                ...   ...                   ...        ...        ...\n34558  Nonmetropolitan  2016            Sweetwater         WY  29.500047\n34559  Nonmetropolitan  2016                 Teton         WY  12.300610\n34560  Nonmetropolitan  2016                 Uinta         WY  35.602316\n34561  Nonmetropolitan  2016              Washakie         WY  28.701106\n34562  Nonmetropolitan  2016                Weston         WY  32.901135\n\n[34563 rows x 5 columns]"
     },
     "execution_count": 7,
     "metadata": {},
     "output_type": "execute_result"
    }
   ],
   "source": [
    "# load data\n",
    "# the higher the value, the more inclinded are you to get diabetes\n",
    "obesity_total_df = loadIndicatorData('obesity', 'obesity')\n",
    "obesity_total_df['value'] = obesity_total_df['value'].apply(lambda x: x * 100)\n",
    "obesity_total_df"
   ]
  },
  {
   "cell_type": "code",
   "execution_count": 8,
   "metadata": {},
   "outputs": [
    {
     "data": {
      "text/html": "<div>\n<style scoped>\n    .dataframe tbody tr th:only-of-type {\n        vertical-align: middle;\n    }\n\n    .dataframe tbody tr th {\n        vertical-align: top;\n    }\n\n    .dataframe thead th {\n        text-align: right;\n    }\n</style>\n<table border=\"1\" class=\"dataframe\">\n  <thead>\n    <tr style=\"text-align: right;\">\n      <th></th>\n      <th>metro_nonmetro</th>\n      <th>year</th>\n      <th>value</th>\n    </tr>\n  </thead>\n  <tbody>\n    <tr>\n      <th>0</th>\n      <td>Metropolitan</td>\n      <td>2006</td>\n      <td>26.914885</td>\n    </tr>\n    <tr>\n      <th>1</th>\n      <td>Metropolitan</td>\n      <td>2007</td>\n      <td>27.699958</td>\n    </tr>\n    <tr>\n      <th>2</th>\n      <td>Metropolitan</td>\n      <td>2008</td>\n      <td>28.391785</td>\n    </tr>\n    <tr>\n      <th>3</th>\n      <td>Metropolitan</td>\n      <td>2009</td>\n      <td>29.604215</td>\n    </tr>\n    <tr>\n      <th>4</th>\n      <td>Metropolitan</td>\n      <td>2010</td>\n      <td>29.751491</td>\n    </tr>\n    <tr>\n      <th>5</th>\n      <td>Metropolitan</td>\n      <td>2011</td>\n      <td>29.780940</td>\n    </tr>\n    <tr>\n      <th>6</th>\n      <td>Metropolitan</td>\n      <td>2012</td>\n      <td>29.911626</td>\n    </tr>\n    <tr>\n      <th>7</th>\n      <td>Metropolitan</td>\n      <td>2013</td>\n      <td>30.078431</td>\n    </tr>\n    <tr>\n      <th>8</th>\n      <td>Metropolitan</td>\n      <td>2014</td>\n      <td>30.405573</td>\n    </tr>\n    <tr>\n      <th>9</th>\n      <td>Metropolitan</td>\n      <td>2015</td>\n      <td>31.061003</td>\n    </tr>\n    <tr>\n      <th>10</th>\n      <td>Metropolitan</td>\n      <td>2016</td>\n      <td>31.998975</td>\n    </tr>\n    <tr>\n      <th>11</th>\n      <td>Nonmetropolitan</td>\n      <td>2006</td>\n      <td>27.783831</td>\n    </tr>\n    <tr>\n      <th>12</th>\n      <td>Nonmetropolitan</td>\n      <td>2007</td>\n      <td>28.631686</td>\n    </tr>\n    <tr>\n      <th>13</th>\n      <td>Nonmetropolitan</td>\n      <td>2008</td>\n      <td>29.250962</td>\n    </tr>\n    <tr>\n      <th>14</th>\n      <td>Nonmetropolitan</td>\n      <td>2009</td>\n      <td>30.770723</td>\n    </tr>\n    <tr>\n      <th>15</th>\n      <td>Nonmetropolitan</td>\n      <td>2010</td>\n      <td>31.029429</td>\n    </tr>\n    <tr>\n      <th>16</th>\n      <td>Nonmetropolitan</td>\n      <td>2011</td>\n      <td>31.230393</td>\n    </tr>\n    <tr>\n      <th>17</th>\n      <td>Nonmetropolitan</td>\n      <td>2012</td>\n      <td>31.559816</td>\n    </tr>\n    <tr>\n      <th>18</th>\n      <td>Nonmetropolitan</td>\n      <td>2013</td>\n      <td>31.571182</td>\n    </tr>\n    <tr>\n      <th>19</th>\n      <td>Nonmetropolitan</td>\n      <td>2014</td>\n      <td>31.881679</td>\n    </tr>\n    <tr>\n      <th>20</th>\n      <td>Nonmetropolitan</td>\n      <td>2015</td>\n      <td>32.510785</td>\n    </tr>\n    <tr>\n      <th>21</th>\n      <td>Nonmetropolitan</td>\n      <td>2016</td>\n      <td>33.216201</td>\n    </tr>\n  </tbody>\n</table>\n</div>",
      "text/plain": "     metro_nonmetro  year      value\n0      Metropolitan  2006  26.914885\n1      Metropolitan  2007  27.699958\n2      Metropolitan  2008  28.391785\n3      Metropolitan  2009  29.604215\n4      Metropolitan  2010  29.751491\n5      Metropolitan  2011  29.780940\n6      Metropolitan  2012  29.911626\n7      Metropolitan  2013  30.078431\n8      Metropolitan  2014  30.405573\n9      Metropolitan  2015  31.061003\n10     Metropolitan  2016  31.998975\n11  Nonmetropolitan  2006  27.783831\n12  Nonmetropolitan  2007  28.631686\n13  Nonmetropolitan  2008  29.250962\n14  Nonmetropolitan  2009  30.770723\n15  Nonmetropolitan  2010  31.029429\n16  Nonmetropolitan  2011  31.230393\n17  Nonmetropolitan  2012  31.559816\n18  Nonmetropolitan  2013  31.571182\n19  Nonmetropolitan  2014  31.881679\n20  Nonmetropolitan  2015  32.510785\n21  Nonmetropolitan  2016  33.216201"
     },
     "execution_count": 8,
     "metadata": {},
     "output_type": "execute_result"
    }
   ],
   "source": [
    "obesity_total_df.groupby(['metro_nonmetro', 'year'], as_index = False).mean()"
   ]
  },
  {
   "cell_type": "code",
   "execution_count": 9,
   "metadata": {},
   "outputs": [
    {
     "data": {
      "text/html": "<div>\n<style scoped>\n    .dataframe tbody tr th:only-of-type {\n        vertical-align: middle;\n    }\n\n    .dataframe tbody tr th {\n        vertical-align: top;\n    }\n\n    .dataframe thead th {\n        text-align: right;\n    }\n</style>\n<table border=\"1\" class=\"dataframe\">\n  <thead>\n    <tr style=\"text-align: right;\">\n      <th></th>\n      <th>metro_nonmetro</th>\n      <th>year</th>\n      <th>county_name</th>\n      <th>state_abbr</th>\n      <th>value</th>\n    </tr>\n  </thead>\n  <tbody>\n    <tr>\n      <th>28726</th>\n      <td>Nonmetropolitan</td>\n      <td>2014</td>\n      <td>Macon</td>\n      <td>AL</td>\n      <td>48.001642</td>\n    </tr>\n    <tr>\n      <th>29620</th>\n      <td>Nonmetropolitan</td>\n      <td>2014</td>\n      <td>Claiborne</td>\n      <td>MS</td>\n      <td>46.506283</td>\n    </tr>\n    <tr>\n      <th>9357</th>\n      <td>Metropolitan</td>\n      <td>2014</td>\n      <td>Lowndes</td>\n      <td>AL</td>\n      <td>46.502425</td>\n    </tr>\n    <tr>\n      <th>29632</th>\n      <td>Nonmetropolitan</td>\n      <td>2014</td>\n      <td>Jefferson</td>\n      <td>MS</td>\n      <td>46.400142</td>\n    </tr>\n    <tr>\n      <th>30565</th>\n      <td>Nonmetropolitan</td>\n      <td>2014</td>\n      <td>Menominee</td>\n      <td>WI</td>\n      <td>45.300035</td>\n    </tr>\n    <tr>\n      <th>30599</th>\n      <td>Nonmetropolitan</td>\n      <td>2014</td>\n      <td>Mcdowell</td>\n      <td>WV</td>\n      <td>45.201939</td>\n    </tr>\n    <tr>\n      <th>9820</th>\n      <td>Metropolitan</td>\n      <td>2014</td>\n      <td>Somerset</td>\n      <td>MD</td>\n      <td>44.901961</td>\n    </tr>\n    <tr>\n      <th>10413</th>\n      <td>Metropolitan</td>\n      <td>2014</td>\n      <td>Petersburg City</td>\n      <td>VA</td>\n      <td>44.800859</td>\n    </tr>\n    <tr>\n      <th>28731</th>\n      <td>Nonmetropolitan</td>\n      <td>2014</td>\n      <td>Perry</td>\n      <td>AL</td>\n      <td>44.705882</td>\n    </tr>\n    <tr>\n      <th>28787</th>\n      <td>Nonmetropolitan</td>\n      <td>2014</td>\n      <td>St. Francis</td>\n      <td>AR</td>\n      <td>44.600800</td>\n    </tr>\n  </tbody>\n</table>\n</div>",
      "text/plain": "        metro_nonmetro  year      county_name state_abbr      value\n28726  Nonmetropolitan  2014            Macon         AL  48.001642\n29620  Nonmetropolitan  2014        Claiborne         MS  46.506283\n9357      Metropolitan  2014          Lowndes         AL  46.502425\n29632  Nonmetropolitan  2014        Jefferson         MS  46.400142\n30565  Nonmetropolitan  2014        Menominee         WI  45.300035\n30599  Nonmetropolitan  2014         Mcdowell         WV  45.201939\n9820      Metropolitan  2014         Somerset         MD  44.901961\n10413     Metropolitan  2014  Petersburg City         VA  44.800859\n28731  Nonmetropolitan  2014            Perry         AL  44.705882\n28787  Nonmetropolitan  2014      St. Francis         AR  44.600800"
     },
     "execution_count": 9,
     "metadata": {},
     "output_type": "execute_result"
    }
   ],
   "source": [
    "# Worst 10 States per Obesity Prevalence\n",
    "obesity_total_df[obesity_total_df.year == 2014].sort_values(by=['value'], ascending=[0])[0:10]"
   ]
  },
  {
   "cell_type": "code",
   "execution_count": 10,
   "metadata": {},
   "outputs": [
    {
     "data": {
      "text/html": "<div>\n<style scoped>\n    .dataframe tbody tr th:only-of-type {\n        vertical-align: middle;\n    }\n\n    .dataframe tbody tr th {\n        vertical-align: top;\n    }\n\n    .dataframe thead th {\n        text-align: right;\n    }\n</style>\n<table border=\"1\" class=\"dataframe\">\n  <thead>\n    <tr style=\"text-align: right;\">\n      <th></th>\n      <th>metro_nonmetro</th>\n      <th>year</th>\n      <th>county_name</th>\n      <th>state_abbr</th>\n      <th>value</th>\n    </tr>\n  </thead>\n  <tbody>\n    <tr>\n      <th>10057</th>\n      <td>Metropolitan</td>\n      <td>2014</td>\n      <td>New York</td>\n      <td>NY</td>\n      <td>15.700009</td>\n    </tr>\n    <tr>\n      <th>28838</th>\n      <td>Nonmetropolitan</td>\n      <td>2014</td>\n      <td>Gunnison</td>\n      <td>CO</td>\n      <td>15.300637</td>\n    </tr>\n    <tr>\n      <th>28857</th>\n      <td>Nonmetropolitan</td>\n      <td>2014</td>\n      <td>Pitkin</td>\n      <td>CO</td>\n      <td>15.000000</td>\n    </tr>\n    <tr>\n      <th>28866</th>\n      <td>Nonmetropolitan</td>\n      <td>2014</td>\n      <td>Summit</td>\n      <td>CO</td>\n      <td>14.800049</td>\n    </tr>\n    <tr>\n      <th>30454</th>\n      <td>Nonmetropolitan</td>\n      <td>2014</td>\n      <td>Summit</td>\n      <td>UT</td>\n      <td>14.100121</td>\n    </tr>\n    <tr>\n      <th>9436</th>\n      <td>Metropolitan</td>\n      <td>2014</td>\n      <td>Boulder</td>\n      <td>CO</td>\n      <td>13.700042</td>\n    </tr>\n    <tr>\n      <th>28861</th>\n      <td>Nonmetropolitan</td>\n      <td>2014</td>\n      <td>Routt</td>\n      <td>CO</td>\n      <td>13.300596</td>\n    </tr>\n    <tr>\n      <th>10037</th>\n      <td>Metropolitan</td>\n      <td>2014</td>\n      <td>Santa Fe</td>\n      <td>NM</td>\n      <td>13.300000</td>\n    </tr>\n    <tr>\n      <th>30635</th>\n      <td>Nonmetropolitan</td>\n      <td>2014</td>\n      <td>Teton</td>\n      <td>WY</td>\n      <td>13.100507</td>\n    </tr>\n    <tr>\n      <th>28834</th>\n      <td>Nonmetropolitan</td>\n      <td>2014</td>\n      <td>Eagle</td>\n      <td>CO</td>\n      <td>12.700003</td>\n    </tr>\n  </tbody>\n</table>\n</div>",
      "text/plain": "        metro_nonmetro  year county_name state_abbr      value\n10057     Metropolitan  2014    New York         NY  15.700009\n28838  Nonmetropolitan  2014    Gunnison         CO  15.300637\n28857  Nonmetropolitan  2014      Pitkin         CO  15.000000\n28866  Nonmetropolitan  2014      Summit         CO  14.800049\n30454  Nonmetropolitan  2014      Summit         UT  14.100121\n9436      Metropolitan  2014     Boulder         CO  13.700042\n28861  Nonmetropolitan  2014       Routt         CO  13.300596\n10037     Metropolitan  2014    Santa Fe         NM  13.300000\n30635  Nonmetropolitan  2014       Teton         WY  13.100507\n28834  Nonmetropolitan  2014       Eagle         CO  12.700003"
     },
     "execution_count": 10,
     "metadata": {},
     "output_type": "execute_result"
    }
   ],
   "source": [
    "# Top 10 States per Obesity Prevalence\n",
    "obesity_total_df[obesity_total_df.year == 2014].sort_values(by=['value'], ascending=[0])[-10:]"
   ]
  },
  {
   "cell_type": "code",
   "execution_count": 25,
   "metadata": {},
   "outputs": [
    {
     "name": "stdout",
     "output_type": "stream",
     "text": "adding a second layer\n"
    }
   ],
   "source": [
    "# per state\n",
    "m = genFoliumMap(title='Obesity prevalence per state (2016)', state_data=obesity_total_df[obesity_total_df.year == 2016], cols = ['state_abbr', 'value'], mapType='states', save = False)\n",
    "\n",
    "# per county\n",
    "genFoliumMap(title='Obesity prevalence per county (2016)', state_data=obesity_total_df[obesity_total_df.year == 2016], cols = ['county_name', 'value'], mapType='counties', save = False, my_map = m)\n",
    "\n",
    "m = addLayerControl(m)\n",
    "saveFinalMap(m, 'Obesity prevalence (2016)')"
   ]
  },
  {
   "cell_type": "code",
   "execution_count": 26,
   "metadata": {},
   "outputs": [
    {
     "name": "stdout",
     "output_type": "stream",
     "text": "adding a second layer\n"
    }
   ],
   "source": [
    "# metro\n",
    "m = genFoliumMap(title='Obesity prevalence per county (2016)(Metro)', state_data=obesity_total_df[(obesity_total_df.year == 2016) & (obesity_total_df.metro_nonmetro == 'Metropolitan')], cols = ['county_name', 'value'], mapType='counties', save = False, color = 'BuPu')\n",
    "\n",
    "# nonmetro\n",
    "m = genFoliumMap(title='Obesity prevalence per county (2016)(Nonmetro)', state_data=obesity_total_df[(obesity_total_df.year == 2016) & (obesity_total_df.metro_nonmetro == 'Nonmetropolitan')], cols = ['county_name', 'value'], mapType='counties', save = False, my_map = m, color = 'GnBu')\n",
    "\n",
    "m = addLayerControl(m)\n",
    "saveFinalMap(m, 'Obesity prevalence (2016) (Metro-Nonmetro)')"
   ]
  },
  {
   "cell_type": "markdown",
   "execution_count": null,
   "metadata": {},
   "outputs": [],
   "source": [
    "### Diabetes"
   ]
  },
  {
   "cell_type": "code",
   "execution_count": 11,
   "metadata": {},
   "outputs": [
    {
     "data": {
      "text/html": "<div>\n<style scoped>\n    .dataframe tbody tr th:only-of-type {\n        vertical-align: middle;\n    }\n\n    .dataframe tbody tr th {\n        vertical-align: top;\n    }\n\n    .dataframe thead th {\n        text-align: right;\n    }\n</style>\n<table border=\"1\" class=\"dataframe\">\n  <thead>\n    <tr style=\"text-align: right;\">\n      <th></th>\n      <th>metro_nonmetro</th>\n      <th>year</th>\n      <th>county_name</th>\n      <th>state_abbr</th>\n      <th>value</th>\n    </tr>\n  </thead>\n  <tbody>\n    <tr>\n      <th>0</th>\n      <td>Metropolitan</td>\n      <td>2006</td>\n      <td>Anchorage</td>\n      <td>AK</td>\n      <td>5.500010</td>\n    </tr>\n    <tr>\n      <th>1</th>\n      <td>Metropolitan</td>\n      <td>2006</td>\n      <td>Fairbanks North Star</td>\n      <td>AK</td>\n      <td>4.500025</td>\n    </tr>\n    <tr>\n      <th>2</th>\n      <td>Metropolitan</td>\n      <td>2006</td>\n      <td>Matanuska-Susitna</td>\n      <td>AK</td>\n      <td>5.399961</td>\n    </tr>\n    <tr>\n      <th>3</th>\n      <td>Metropolitan</td>\n      <td>2006</td>\n      <td>Autauga</td>\n      <td>AL</td>\n      <td>11.400017</td>\n    </tr>\n    <tr>\n      <th>4</th>\n      <td>Metropolitan</td>\n      <td>2006</td>\n      <td>Baldwin</td>\n      <td>AL</td>\n      <td>9.100021</td>\n    </tr>\n    <tr>\n      <th>...</th>\n      <td>...</td>\n      <td>...</td>\n      <td>...</td>\n      <td>...</td>\n      <td>...</td>\n    </tr>\n    <tr>\n      <th>34554</th>\n      <td>Nonmetropolitan</td>\n      <td>2016</td>\n      <td>Sweetwater</td>\n      <td>WY</td>\n      <td>8.800153</td>\n    </tr>\n    <tr>\n      <th>34555</th>\n      <td>Nonmetropolitan</td>\n      <td>2016</td>\n      <td>Teton</td>\n      <td>WY</td>\n      <td>2.200000</td>\n    </tr>\n    <tr>\n      <th>34556</th>\n      <td>Nonmetropolitan</td>\n      <td>2016</td>\n      <td>Uinta</td>\n      <td>WY</td>\n      <td>11.300761</td>\n    </tr>\n    <tr>\n      <th>34557</th>\n      <td>Nonmetropolitan</td>\n      <td>2016</td>\n      <td>Washakie</td>\n      <td>WY</td>\n      <td>11.701065</td>\n    </tr>\n    <tr>\n      <th>34558</th>\n      <td>Nonmetropolitan</td>\n      <td>2016</td>\n      <td>Weston</td>\n      <td>WY</td>\n      <td>9.000917</td>\n    </tr>\n  </tbody>\n</table>\n<p>34559 rows × 5 columns</p>\n</div>",
      "text/plain": "        metro_nonmetro  year           county_name state_abbr      value\n0         Metropolitan  2006             Anchorage         AK   5.500010\n1         Metropolitan  2006  Fairbanks North Star         AK   4.500025\n2         Metropolitan  2006     Matanuska-Susitna         AK   5.399961\n3         Metropolitan  2006               Autauga         AL  11.400017\n4         Metropolitan  2006               Baldwin         AL   9.100021\n...                ...   ...                   ...        ...        ...\n34554  Nonmetropolitan  2016            Sweetwater         WY   8.800153\n34555  Nonmetropolitan  2016                 Teton         WY   2.200000\n34556  Nonmetropolitan  2016                 Uinta         WY  11.300761\n34557  Nonmetropolitan  2016              Washakie         WY  11.701065\n34558  Nonmetropolitan  2016                Weston         WY   9.000917\n\n[34559 rows x 5 columns]"
     },
     "execution_count": 11,
     "metadata": {},
     "output_type": "execute_result"
    }
   ],
   "source": [
    "# load data\n",
    "# the higher the value, the more inclinded are you to get diabetes\n",
    "diabetes_total_df = loadIndicatorData('diabetes', 'diabetes')\n",
    "diabetes_total_df['value'] = diabetes_total_df['value'].apply(lambda x: x * 100)\n",
    "diabetes_total_df"
   ]
  },
  {
   "cell_type": "code",
   "execution_count": 12,
   "metadata": {},
   "outputs": [
    {
     "data": {
      "text/html": "<div>\n<style scoped>\n    .dataframe tbody tr th:only-of-type {\n        vertical-align: middle;\n    }\n\n    .dataframe tbody tr th {\n        vertical-align: top;\n    }\n\n    .dataframe thead th {\n        text-align: right;\n    }\n</style>\n<table border=\"1\" class=\"dataframe\">\n  <thead>\n    <tr style=\"text-align: right;\">\n      <th></th>\n      <th>metro_nonmetro</th>\n      <th>year</th>\n      <th>value</th>\n    </tr>\n  </thead>\n  <tbody>\n    <tr>\n      <th>0</th>\n      <td>Metropolitan</td>\n      <td>2006</td>\n      <td>8.869581</td>\n    </tr>\n    <tr>\n      <th>1</th>\n      <td>Metropolitan</td>\n      <td>2007</td>\n      <td>9.277417</td>\n    </tr>\n    <tr>\n      <th>2</th>\n      <td>Metropolitan</td>\n      <td>2008</td>\n      <td>9.570163</td>\n    </tr>\n    <tr>\n      <th>3</th>\n      <td>Metropolitan</td>\n      <td>2009</td>\n      <td>9.903204</td>\n    </tr>\n    <tr>\n      <th>4</th>\n      <td>Metropolitan</td>\n      <td>2010</td>\n      <td>10.253385</td>\n    </tr>\n    <tr>\n      <th>5</th>\n      <td>Metropolitan</td>\n      <td>2011</td>\n      <td>10.510448</td>\n    </tr>\n    <tr>\n      <th>6</th>\n      <td>Metropolitan</td>\n      <td>2012</td>\n      <td>10.661655</td>\n    </tr>\n    <tr>\n      <th>7</th>\n      <td>Metropolitan</td>\n      <td>2013</td>\n      <td>10.770983</td>\n    </tr>\n    <tr>\n      <th>8</th>\n      <td>Metropolitan</td>\n      <td>2014</td>\n      <td>10.910203</td>\n    </tr>\n    <tr>\n      <th>9</th>\n      <td>Metropolitan</td>\n      <td>2015</td>\n      <td>11.179261</td>\n    </tr>\n    <tr>\n      <th>10</th>\n      <td>Metropolitan</td>\n      <td>2016</td>\n      <td>11.536745</td>\n    </tr>\n    <tr>\n      <th>11</th>\n      <td>Nonmetropolitan</td>\n      <td>2006</td>\n      <td>9.384407</td>\n    </tr>\n    <tr>\n      <th>12</th>\n      <td>Nonmetropolitan</td>\n      <td>2007</td>\n      <td>9.817356</td>\n    </tr>\n    <tr>\n      <th>13</th>\n      <td>Nonmetropolitan</td>\n      <td>2008</td>\n      <td>10.110960</td>\n    </tr>\n    <tr>\n      <th>14</th>\n      <td>Nonmetropolitan</td>\n      <td>2009</td>\n      <td>10.577427</td>\n    </tr>\n    <tr>\n      <th>15</th>\n      <td>Nonmetropolitan</td>\n      <td>2010</td>\n      <td>10.974671</td>\n    </tr>\n    <tr>\n      <th>16</th>\n      <td>Nonmetropolitan</td>\n      <td>2011</td>\n      <td>11.254705</td>\n    </tr>\n    <tr>\n      <th>17</th>\n      <td>Nonmetropolitan</td>\n      <td>2012</td>\n      <td>11.434600</td>\n    </tr>\n    <tr>\n      <th>18</th>\n      <td>Nonmetropolitan</td>\n      <td>2013</td>\n      <td>11.510632</td>\n    </tr>\n    <tr>\n      <th>19</th>\n      <td>Nonmetropolitan</td>\n      <td>2014</td>\n      <td>11.653424</td>\n    </tr>\n    <tr>\n      <th>20</th>\n      <td>Nonmetropolitan</td>\n      <td>2015</td>\n      <td>11.897561</td>\n    </tr>\n    <tr>\n      <th>21</th>\n      <td>Nonmetropolitan</td>\n      <td>2016</td>\n      <td>12.473263</td>\n    </tr>\n  </tbody>\n</table>\n</div>",
      "text/plain": "     metro_nonmetro  year      value\n0      Metropolitan  2006   8.869581\n1      Metropolitan  2007   9.277417\n2      Metropolitan  2008   9.570163\n3      Metropolitan  2009   9.903204\n4      Metropolitan  2010  10.253385\n5      Metropolitan  2011  10.510448\n6      Metropolitan  2012  10.661655\n7      Metropolitan  2013  10.770983\n8      Metropolitan  2014  10.910203\n9      Metropolitan  2015  11.179261\n10     Metropolitan  2016  11.536745\n11  Nonmetropolitan  2006   9.384407\n12  Nonmetropolitan  2007   9.817356\n13  Nonmetropolitan  2008  10.110960\n14  Nonmetropolitan  2009  10.577427\n15  Nonmetropolitan  2010  10.974671\n16  Nonmetropolitan  2011  11.254705\n17  Nonmetropolitan  2012  11.434600\n18  Nonmetropolitan  2013  11.510632\n19  Nonmetropolitan  2014  11.653424\n20  Nonmetropolitan  2015  11.897561\n21  Nonmetropolitan  2016  12.473263"
     },
     "execution_count": 12,
     "metadata": {},
     "output_type": "execute_result"
    }
   ],
   "source": [
    "diabetes_total_df.groupby(['metro_nonmetro', 'year'], as_index = False).mean()"
   ]
  },
  {
   "cell_type": "code",
   "execution_count": 13,
   "metadata": {},
   "outputs": [
    {
     "data": {
      "text/html": "<div>\n<style scoped>\n    .dataframe tbody tr th:only-of-type {\n        vertical-align: middle;\n    }\n\n    .dataframe tbody tr th {\n        vertical-align: top;\n    }\n\n    .dataframe thead th {\n        text-align: right;\n    }\n</style>\n<table border=\"1\" class=\"dataframe\">\n  <thead>\n    <tr style=\"text-align: right;\">\n      <th></th>\n      <th>metro_nonmetro</th>\n      <th>year</th>\n      <th>county_name</th>\n      <th>state_abbr</th>\n      <th>value</th>\n    </tr>\n  </thead>\n  <tbody>\n    <tr>\n      <th>9348</th>\n      <td>Metropolitan</td>\n      <td>2014</td>\n      <td>Greene</td>\n      <td>AL</td>\n      <td>21.102214</td>\n    </tr>\n    <tr>\n      <th>28731</th>\n      <td>Nonmetropolitan</td>\n      <td>2014</td>\n      <td>Perry</td>\n      <td>AL</td>\n      <td>20.902512</td>\n    </tr>\n    <tr>\n      <th>28734</th>\n      <td>Nonmetropolitan</td>\n      <td>2014</td>\n      <td>Sumter</td>\n      <td>AL</td>\n      <td>20.401003</td>\n    </tr>\n    <tr>\n      <th>9357</th>\n      <td>Metropolitan</td>\n      <td>2014</td>\n      <td>Lowndes</td>\n      <td>AL</td>\n      <td>20.301037</td>\n    </tr>\n    <tr>\n      <th>30141</th>\n      <td>Nonmetropolitan</td>\n      <td>2014</td>\n      <td>Dillon</td>\n      <td>SC</td>\n      <td>20.100637</td>\n    </tr>\n    <tr>\n      <th>28738</th>\n      <td>Nonmetropolitan</td>\n      <td>2014</td>\n      <td>Wilcox</td>\n      <td>AL</td>\n      <td>20.000000</td>\n    </tr>\n    <tr>\n      <th>28726</th>\n      <td>Nonmetropolitan</td>\n      <td>2014</td>\n      <td>Macon</td>\n      <td>AL</td>\n      <td>19.800696</td>\n    </tr>\n    <tr>\n      <th>30598</th>\n      <td>Nonmetropolitan</td>\n      <td>2014</td>\n      <td>Mcdowell</td>\n      <td>WV</td>\n      <td>19.700732</td>\n    </tr>\n    <tr>\n      <th>30153</th>\n      <td>Nonmetropolitan</td>\n      <td>2014</td>\n      <td>Williamsburg</td>\n      <td>SC</td>\n      <td>19.600544</td>\n    </tr>\n    <tr>\n      <th>28704</th>\n      <td>Nonmetropolitan</td>\n      <td>2014</td>\n      <td>Bullock</td>\n      <td>AL</td>\n      <td>19.501325</td>\n    </tr>\n  </tbody>\n</table>\n</div>",
      "text/plain": "        metro_nonmetro  year   county_name state_abbr      value\n9348      Metropolitan  2014        Greene         AL  21.102214\n28731  Nonmetropolitan  2014         Perry         AL  20.902512\n28734  Nonmetropolitan  2014        Sumter         AL  20.401003\n9357      Metropolitan  2014       Lowndes         AL  20.301037\n30141  Nonmetropolitan  2014        Dillon         SC  20.100637\n28738  Nonmetropolitan  2014        Wilcox         AL  20.000000\n28726  Nonmetropolitan  2014         Macon         AL  19.800696\n30598  Nonmetropolitan  2014      Mcdowell         WV  19.700732\n30153  Nonmetropolitan  2014  Williamsburg         SC  19.600544\n28704  Nonmetropolitan  2014       Bullock         AL  19.501325"
     },
     "execution_count": 13,
     "metadata": {},
     "output_type": "execute_result"
    }
   ],
   "source": [
    "# Worst 10 States per Obesity Prevalence\n",
    "diabetes_total_df[diabetes_total_df.year == 2014].sort_values(by=['value'], ascending=[0])[0:10]"
   ]
  },
  {
   "cell_type": "code",
   "execution_count": 14,
   "metadata": {},
   "outputs": [
    {
     "data": {
      "text/html": "<div>\n<style scoped>\n    .dataframe tbody tr th:only-of-type {\n        vertical-align: middle;\n    }\n\n    .dataframe tbody tr th {\n        vertical-align: top;\n    }\n\n    .dataframe thead th {\n        text-align: right;\n    }\n</style>\n<table border=\"1\" class=\"dataframe\">\n  <thead>\n    <tr style=\"text-align: right;\">\n      <th></th>\n      <th>metro_nonmetro</th>\n      <th>year</th>\n      <th>county_name</th>\n      <th>state_abbr</th>\n      <th>value</th>\n    </tr>\n  </thead>\n  <tbody>\n    <tr>\n      <th>28836</th>\n      <td>Nonmetropolitan</td>\n      <td>2014</td>\n      <td>Garfield</td>\n      <td>CO</td>\n      <td>4.700020</td>\n    </tr>\n    <tr>\n      <th>30634</th>\n      <td>Nonmetropolitan</td>\n      <td>2014</td>\n      <td>Teton</td>\n      <td>WY</td>\n      <td>4.500054</td>\n    </tr>\n    <tr>\n      <th>29686</th>\n      <td>Nonmetropolitan</td>\n      <td>2014</td>\n      <td>Gallatin</td>\n      <td>MT</td>\n      <td>4.400016</td>\n    </tr>\n    <tr>\n      <th>28838</th>\n      <td>Nonmetropolitan</td>\n      <td>2014</td>\n      <td>Gunnison</td>\n      <td>CO</td>\n      <td>4.300286</td>\n    </tr>\n    <tr>\n      <th>10365</th>\n      <td>Metropolitan</td>\n      <td>2014</td>\n      <td>Arlington</td>\n      <td>VA</td>\n      <td>4.300008</td>\n    </tr>\n    <tr>\n      <th>30453</th>\n      <td>Nonmetropolitan</td>\n      <td>2014</td>\n      <td>Summit</td>\n      <td>UT</td>\n      <td>4.300004</td>\n    </tr>\n    <tr>\n      <th>28866</th>\n      <td>Nonmetropolitan</td>\n      <td>2014</td>\n      <td>Summit</td>\n      <td>CO</td>\n      <td>4.200098</td>\n    </tr>\n    <tr>\n      <th>9436</th>\n      <td>Metropolitan</td>\n      <td>2014</td>\n      <td>Boulder</td>\n      <td>CO</td>\n      <td>4.000000</td>\n    </tr>\n    <tr>\n      <th>28861</th>\n      <td>Nonmetropolitan</td>\n      <td>2014</td>\n      <td>Routt</td>\n      <td>CO</td>\n      <td>3.800065</td>\n    </tr>\n    <tr>\n      <th>28834</th>\n      <td>Nonmetropolitan</td>\n      <td>2014</td>\n      <td>Eagle</td>\n      <td>CO</td>\n      <td>3.000000</td>\n    </tr>\n  </tbody>\n</table>\n</div>",
      "text/plain": "        metro_nonmetro  year county_name state_abbr     value\n28836  Nonmetropolitan  2014    Garfield         CO  4.700020\n30634  Nonmetropolitan  2014       Teton         WY  4.500054\n29686  Nonmetropolitan  2014    Gallatin         MT  4.400016\n28838  Nonmetropolitan  2014    Gunnison         CO  4.300286\n10365     Metropolitan  2014   Arlington         VA  4.300008\n30453  Nonmetropolitan  2014      Summit         UT  4.300004\n28866  Nonmetropolitan  2014      Summit         CO  4.200098\n9436      Metropolitan  2014     Boulder         CO  4.000000\n28861  Nonmetropolitan  2014       Routt         CO  3.800065\n28834  Nonmetropolitan  2014       Eagle         CO  3.000000"
     },
     "execution_count": 14,
     "metadata": {},
     "output_type": "execute_result"
    }
   ],
   "source": [
    "# Top 10 States per Obesity Prevalence\n",
    "diabetes_total_df[diabetes_total_df.year == 2014].sort_values(by=['value'], ascending=[0])[-10:]"
   ]
  },
  {
   "cell_type": "code",
   "execution_count": 30,
   "metadata": {},
   "outputs": [
    {
     "name": "stdout",
     "output_type": "stream",
     "text": "adding a second layer\n"
    }
   ],
   "source": [
    "# per state\n",
    "m = genFoliumMap(title='Diabetes prevalence (in %) per State (2016)', state_data=diabetes_total_df[diabetes_total_df.year == 2016], cols = ['state_abbr', 'value'], mapType='states', color = 'Reds')\n",
    "\n",
    "# per county\n",
    "m = genFoliumMap(title='Diabetes prevalence (in %) per County (2016)', state_data=diabetes_total_df[diabetes_total_df.year == 2016], cols = ['county_name', 'value'], mapType='counties', my_map = m, color = 'Reds')\n",
    "\n",
    "m = addLayerControl(m)\n",
    "saveFinalMap(m, 'Diabetes prevalence (2016)')"
   ]
  },
  {
   "cell_type": "code",
   "execution_count": 32,
   "metadata": {},
   "outputs": [
    {
     "name": "stdout",
     "output_type": "stream",
     "text": "adding a second layer\n"
    }
   ],
   "source": [
    "# metro\n",
    "m = genFoliumMap(title='Diabetes prevalence (in %) per county (2016)(Metro)', state_data=diabetes_total_df[(diabetes_total_df.year == 2016) & (diabetes_total_df.metro_nonmetro == 'Metropolitan')], cols = ['county_name', 'value'], mapType='counties', color = 'BuPu')\n",
    "\n",
    "# nonmetro\n",
    "m = genFoliumMap(title='Diabetes prevalence per (in %) county (2016)(Nonmetro)', state_data=diabetes_total_df[(diabetes_total_df.year == 2016) & (diabetes_total_df.metro_nonmetro == 'Nonmetropolitan')], cols = ['county_name', 'value'], mapType='counties', color = 'Reds', my_map = m)\n",
    "\n",
    "m = addLayerControl(m)\n",
    "saveFinalMap(m, 'Diabetes prevalence (2016) (Metro-Nonmetro)')"
   ]
  },
  {
   "cell_type": "markdown",
   "execution_count": null,
   "metadata": {},
   "outputs": [],
   "source": [
    "## Poverty/Education"
   ]
  },
  {
   "cell_type": "markdown",
   "execution_count": null,
   "metadata": {},
   "outputs": [],
   "source": [
    "### Poverty"
   ]
  },
  {
   "cell_type": "code",
   "execution_count": 15,
   "metadata": {},
   "outputs": [
    {
     "data": {
      "text/html": "<div>\n<style scoped>\n    .dataframe tbody tr th:only-of-type {\n        vertical-align: middle;\n    }\n\n    .dataframe tbody tr th {\n        vertical-align: top;\n    }\n\n    .dataframe thead th {\n        text-align: right;\n    }\n</style>\n<table border=\"1\" class=\"dataframe\">\n  <thead>\n    <tr style=\"text-align: right;\">\n      <th></th>\n      <th>metro_nonmetro</th>\n      <th>year</th>\n      <th>county_name</th>\n      <th>state_abbr</th>\n      <th>value</th>\n    </tr>\n  </thead>\n  <tbody>\n    <tr>\n      <th>0</th>\n      <td>Metropolitan</td>\n      <td>2009</td>\n      <td>Anchorage</td>\n      <td>AK</td>\n      <td>7.600000</td>\n    </tr>\n    <tr>\n      <th>1</th>\n      <td>Metropolitan</td>\n      <td>2009</td>\n      <td>Fairbanks North Star</td>\n      <td>AK</td>\n      <td>7.900004</td>\n    </tr>\n    <tr>\n      <th>2</th>\n      <td>Metropolitan</td>\n      <td>2009</td>\n      <td>Matanuska-Susitna</td>\n      <td>AK</td>\n      <td>8.699953</td>\n    </tr>\n    <tr>\n      <th>3</th>\n      <td>Metropolitan</td>\n      <td>2009</td>\n      <td>Autauga</td>\n      <td>AL</td>\n      <td>11.200048</td>\n    </tr>\n    <tr>\n      <th>4</th>\n      <td>Metropolitan</td>\n      <td>2009</td>\n      <td>Baldwin</td>\n      <td>AL</td>\n      <td>13.300032</td>\n    </tr>\n    <tr>\n      <th>...</th>\n      <td>...</td>\n      <td>...</td>\n      <td>...</td>\n      <td>...</td>\n      <td>...</td>\n    </tr>\n    <tr>\n      <th>28269</th>\n      <td>Nonmetropolitan</td>\n      <td>2017</td>\n      <td>Sweetwater</td>\n      <td>WY</td>\n      <td>10.000000</td>\n    </tr>\n    <tr>\n      <th>28270</th>\n      <td>Nonmetropolitan</td>\n      <td>2017</td>\n      <td>Teton</td>\n      <td>WY</td>\n      <td>5.800095</td>\n    </tr>\n    <tr>\n      <th>28271</th>\n      <td>Nonmetropolitan</td>\n      <td>2017</td>\n      <td>Uinta</td>\n      <td>WY</td>\n      <td>10.200355</td>\n    </tr>\n    <tr>\n      <th>28272</th>\n      <td>Nonmetropolitan</td>\n      <td>2017</td>\n      <td>Washakie</td>\n      <td>WY</td>\n      <td>10.700266</td>\n    </tr>\n    <tr>\n      <th>28273</th>\n      <td>Nonmetropolitan</td>\n      <td>2017</td>\n      <td>Weston</td>\n      <td>WY</td>\n      <td>10.600546</td>\n    </tr>\n  </tbody>\n</table>\n<p>28274 rows × 5 columns</p>\n</div>",
      "text/plain": "        metro_nonmetro  year           county_name state_abbr      value\n0         Metropolitan  2009             Anchorage         AK   7.600000\n1         Metropolitan  2009  Fairbanks North Star         AK   7.900004\n2         Metropolitan  2009     Matanuska-Susitna         AK   8.699953\n3         Metropolitan  2009               Autauga         AL  11.200048\n4         Metropolitan  2009               Baldwin         AL  13.300032\n...                ...   ...                   ...        ...        ...\n28269  Nonmetropolitan  2017            Sweetwater         WY  10.000000\n28270  Nonmetropolitan  2017                 Teton         WY   5.800095\n28271  Nonmetropolitan  2017                 Uinta         WY  10.200355\n28272  Nonmetropolitan  2017              Washakie         WY  10.700266\n28273  Nonmetropolitan  2017                Weston         WY  10.600546\n\n[28274 rows x 5 columns]"
     },
     "execution_count": 15,
     "metadata": {},
     "output_type": "execute_result"
    }
   ],
   "source": [
    "# load data\n",
    "# the higher the value, the poorer you are resp. is the ratio\n",
    "poverty_total_df = loadIndicatorData('poverty-unemployment', 'poverty')\n",
    "poverty_total_df['value'] = poverty_total_df['value'].apply(lambda x: x * 100)\n",
    "poverty_total_df"
   ]
  },
  {
   "cell_type": "code",
   "execution_count": 16,
   "metadata": {},
   "outputs": [
    {
     "data": {
      "text/html": "<div>\n<style scoped>\n    .dataframe tbody tr th:only-of-type {\n        vertical-align: middle;\n    }\n\n    .dataframe tbody tr th {\n        vertical-align: top;\n    }\n\n    .dataframe thead th {\n        text-align: right;\n    }\n</style>\n<table border=\"1\" class=\"dataframe\">\n  <thead>\n    <tr style=\"text-align: right;\">\n      <th></th>\n      <th>metro_nonmetro</th>\n      <th>state_abbr</th>\n      <th>year</th>\n      <th>value</th>\n    </tr>\n  </thead>\n  <tbody>\n    <tr>\n      <th>0</th>\n      <td>Metropolitan</td>\n      <td>AK</td>\n      <td>2009</td>\n      <td>8.066652</td>\n    </tr>\n    <tr>\n      <th>1</th>\n      <td>Metropolitan</td>\n      <td>AK</td>\n      <td>2010</td>\n      <td>9.966636</td>\n    </tr>\n    <tr>\n      <th>2</th>\n      <td>Metropolitan</td>\n      <td>AK</td>\n      <td>2011</td>\n      <td>9.866633</td>\n    </tr>\n    <tr>\n      <th>3</th>\n      <td>Metropolitan</td>\n      <td>AK</td>\n      <td>2012</td>\n      <td>9.433322</td>\n    </tr>\n    <tr>\n      <th>4</th>\n      <td>Metropolitan</td>\n      <td>AK</td>\n      <td>2013</td>\n      <td>8.633318</td>\n    </tr>\n    <tr>\n      <th>...</th>\n      <td>...</td>\n      <td>...</td>\n      <td>...</td>\n      <td>...</td>\n    </tr>\n    <tr>\n      <th>877</th>\n      <td>Nonmetropolitan</td>\n      <td>WY</td>\n      <td>2013</td>\n      <td>11.138048</td>\n    </tr>\n    <tr>\n      <th>878</th>\n      <td>Nonmetropolitan</td>\n      <td>WY</td>\n      <td>2014</td>\n      <td>11.342735</td>\n    </tr>\n    <tr>\n      <th>879</th>\n      <td>Nonmetropolitan</td>\n      <td>WY</td>\n      <td>2015</td>\n      <td>10.490391</td>\n    </tr>\n    <tr>\n      <th>880</th>\n      <td>Nonmetropolitan</td>\n      <td>WY</td>\n      <td>2016</td>\n      <td>11.129224</td>\n    </tr>\n    <tr>\n      <th>881</th>\n      <td>Nonmetropolitan</td>\n      <td>WY</td>\n      <td>2017</td>\n      <td>10.686071</td>\n    </tr>\n  </tbody>\n</table>\n<p>882 rows × 4 columns</p>\n</div>",
      "text/plain": "      metro_nonmetro state_abbr  year      value\n0       Metropolitan         AK  2009   8.066652\n1       Metropolitan         AK  2010   9.966636\n2       Metropolitan         AK  2011   9.866633\n3       Metropolitan         AK  2012   9.433322\n4       Metropolitan         AK  2013   8.633318\n..               ...        ...   ...        ...\n877  Nonmetropolitan         WY  2013  11.138048\n878  Nonmetropolitan         WY  2014  11.342735\n879  Nonmetropolitan         WY  2015  10.490391\n880  Nonmetropolitan         WY  2016  11.129224\n881  Nonmetropolitan         WY  2017  10.686071\n\n[882 rows x 4 columns]"
     },
     "execution_count": 16,
     "metadata": {},
     "output_type": "execute_result"
    }
   ],
   "source": [
    "poverty_total_grouped_df = poverty_total_df.groupby(['metro_nonmetro', 'state_abbr', 'year'], as_index = False).mean()\n",
    "poverty_total_grouped_df"
   ]
  },
  {
   "cell_type": "code",
   "execution_count": 17,
   "metadata": {},
   "outputs": [
    {
     "data": {
      "text/html": "<div>\n<style scoped>\n    .dataframe tbody tr th:only-of-type {\n        vertical-align: middle;\n    }\n\n    .dataframe tbody tr th {\n        vertical-align: top;\n    }\n\n    .dataframe thead th {\n        text-align: right;\n    }\n</style>\n<table border=\"1\" class=\"dataframe\">\n  <thead>\n    <tr style=\"text-align: right;\">\n      <th></th>\n      <th>metro_nonmetro</th>\n      <th>year</th>\n      <th>county_name</th>\n      <th>state_abbr</th>\n      <th>value</th>\n    </tr>\n  </thead>\n  <tbody>\n    <tr>\n      <th>21912</th>\n      <td>Nonmetropolitan</td>\n      <td>2014</td>\n      <td>Shannon</td>\n      <td>SD</td>\n      <td>52.201524</td>\n    </tr>\n    <tr>\n      <th>21916</th>\n      <td>Nonmetropolitan</td>\n      <td>2014</td>\n      <td>Todd</td>\n      <td>SD</td>\n      <td>47.402070</td>\n    </tr>\n    <tr>\n      <th>21038</th>\n      <td>Nonmetropolitan</td>\n      <td>2014</td>\n      <td>McCreary</td>\n      <td>KY</td>\n      <td>46.998938</td>\n    </tr>\n    <tr>\n      <th>20427</th>\n      <td>Nonmetropolitan</td>\n      <td>2014</td>\n      <td>Perry</td>\n      <td>AL</td>\n      <td>46.901580</td>\n    </tr>\n    <tr>\n      <th>21050</th>\n      <td>Nonmetropolitan</td>\n      <td>2014</td>\n      <td>Owsley</td>\n      <td>KY</td>\n      <td>45.101159</td>\n    </tr>\n    <tr>\n      <th>21920</th>\n      <td>Nonmetropolitan</td>\n      <td>2014</td>\n      <td>Ziebach</td>\n      <td>SD</td>\n      <td>44.606104</td>\n    </tr>\n    <tr>\n      <th>21332</th>\n      <td>Nonmetropolitan</td>\n      <td>2014</td>\n      <td>Holmes</td>\n      <td>MS</td>\n      <td>43.999088</td>\n    </tr>\n    <tr>\n      <th>21077</th>\n      <td>Nonmetropolitan</td>\n      <td>2014</td>\n      <td>East Carroll</td>\n      <td>LA</td>\n      <td>42.997812</td>\n    </tr>\n    <tr>\n      <th>21323</th>\n      <td>Nonmetropolitan</td>\n      <td>2014</td>\n      <td>Claiborne</td>\n      <td>MS</td>\n      <td>42.598112</td>\n    </tr>\n    <tr>\n      <th>21949</th>\n      <td>Nonmetropolitan</td>\n      <td>2014</td>\n      <td>Lake</td>\n      <td>TN</td>\n      <td>41.898239</td>\n    </tr>\n  </tbody>\n</table>\n</div>",
      "text/plain": "        metro_nonmetro  year   county_name state_abbr      value\n21912  Nonmetropolitan  2014       Shannon         SD  52.201524\n21916  Nonmetropolitan  2014          Todd         SD  47.402070\n21038  Nonmetropolitan  2014      McCreary         KY  46.998938\n20427  Nonmetropolitan  2014         Perry         AL  46.901580\n21050  Nonmetropolitan  2014        Owsley         KY  45.101159\n21920  Nonmetropolitan  2014       Ziebach         SD  44.606104\n21332  Nonmetropolitan  2014        Holmes         MS  43.999088\n21077  Nonmetropolitan  2014  East Carroll         LA  42.997812\n21323  Nonmetropolitan  2014     Claiborne         MS  42.598112\n21949  Nonmetropolitan  2014          Lake         TN  41.898239"
     },
     "execution_count": 17,
     "metadata": {},
     "output_type": "execute_result"
    }
   ],
   "source": [
    "# Worst 10 States per Obesity Prevalence\n",
    "poverty_total_df[poverty_total_df.year == 2014].sort_values(by=['value'], ascending=[0])[0:10]"
   ]
  },
  {
   "cell_type": "code",
   "execution_count": 18,
   "metadata": {},
   "outputs": [
    {
     "data": {
      "text/html": "<div>\n<style scoped>\n    .dataframe tbody tr th:only-of-type {\n        vertical-align: middle;\n    }\n\n    .dataframe tbody tr th {\n        vertical-align: top;\n    }\n\n    .dataframe thead th {\n        text-align: right;\n    }\n</style>\n<table border=\"1\" class=\"dataframe\">\n  <thead>\n    <tr style=\"text-align: right;\">\n      <th></th>\n      <th>metro_nonmetro</th>\n      <th>year</th>\n      <th>county_name</th>\n      <th>state_abbr</th>\n      <th>value</th>\n    </tr>\n  </thead>\n  <tbody>\n    <tr>\n      <th>6571</th>\n      <td>Metropolitan</td>\n      <td>2014</td>\n      <td>Delaware</td>\n      <td>OH</td>\n      <td>4.800000</td>\n    </tr>\n    <tr>\n      <th>6502</th>\n      <td>Metropolitan</td>\n      <td>2014</td>\n      <td>Hunterdon</td>\n      <td>NJ</td>\n      <td>4.700008</td>\n    </tr>\n    <tr>\n      <th>6836</th>\n      <td>Metropolitan</td>\n      <td>2014</td>\n      <td>Morgan</td>\n      <td>UT</td>\n      <td>4.599868</td>\n    </tr>\n    <tr>\n      <th>6701</th>\n      <td>Metropolitan</td>\n      <td>2014</td>\n      <td>Lincoln</td>\n      <td>SD</td>\n      <td>4.299984</td>\n    </tr>\n    <tr>\n      <th>21631</th>\n      <td>Nonmetropolitan</td>\n      <td>2014</td>\n      <td>Los Alamos</td>\n      <td>NM</td>\n      <td>4.200113</td>\n    </tr>\n    <tr>\n      <th>5930</th>\n      <td>Metropolitan</td>\n      <td>2014</td>\n      <td>Broomfield</td>\n      <td>CO</td>\n      <td>4.000000</td>\n    </tr>\n    <tr>\n      <th>6885</th>\n      <td>Metropolitan</td>\n      <td>2014</td>\n      <td>Loudoun</td>\n      <td>VA</td>\n      <td>3.899997</td>\n    </tr>\n    <tr>\n      <th>5933</th>\n      <td>Metropolitan</td>\n      <td>2014</td>\n      <td>Douglas</td>\n      <td>CO</td>\n      <td>3.700003</td>\n    </tr>\n    <tr>\n      <th>20391</th>\n      <td>Nonmetropolitan</td>\n      <td>2014</td>\n      <td>Skagway</td>\n      <td>AK</td>\n      <td>3.599222</td>\n    </tr>\n    <tr>\n      <th>6866</th>\n      <td>Metropolitan</td>\n      <td>2014</td>\n      <td>Falls Church city</td>\n      <td>VA</td>\n      <td>3.199883</td>\n    </tr>\n  </tbody>\n</table>\n</div>",
      "text/plain": "        metro_nonmetro  year        county_name state_abbr     value\n6571      Metropolitan  2014           Delaware         OH  4.800000\n6502      Metropolitan  2014          Hunterdon         NJ  4.700008\n6836      Metropolitan  2014             Morgan         UT  4.599868\n6701      Metropolitan  2014            Lincoln         SD  4.299984\n21631  Nonmetropolitan  2014         Los Alamos         NM  4.200113\n5930      Metropolitan  2014         Broomfield         CO  4.000000\n6885      Metropolitan  2014            Loudoun         VA  3.899997\n5933      Metropolitan  2014            Douglas         CO  3.700003\n20391  Nonmetropolitan  2014            Skagway         AK  3.599222\n6866      Metropolitan  2014  Falls Church city         VA  3.199883"
     },
     "execution_count": 18,
     "metadata": {},
     "output_type": "execute_result"
    }
   ],
   "source": [
    "# Worst 10 States per Obesity Prevalence\n",
    "poverty_total_df[poverty_total_df.year == 2014].sort_values(by=['value'], ascending=[0])[-10:]"
   ]
  },
  {
   "cell_type": "code",
   "execution_count": 40,
   "metadata": {},
   "outputs": [
    {
     "data": {
      "image/png": "[encoded data removed]",
      "image/svg+xml": "<?xml version=\"1.0\" encoding=\"utf-8\" standalone=\"no\"?>\n<!DOCTYPE svg PUBLIC \"-//W3C//DTD SVG 1.1//EN\"\n  \"http://www.w3.org/Graphics/SVG/1.1/DTD/svg11.dtd\">\n<!-- Created with matplotlib (https://matplotlib.org/) -->\n<svg height=\"262.19625pt\" version=\"1.1\" viewBox=\"0 0 382.603125 262.19625\" width=\"382.603125pt\" xmlns=\"http://www.w3.org/2000/svg\" xmlns:xlink=\"http://www.w3.org/1999/xlink\">\n <defs>\n  <style type=\"text/css\">\n*{stroke-linecap:butt;stroke-linejoin:round;}\n  </style>\n </defs>\n <g id=\"figure_1\">\n  <g id=\"patch_1\">\n   <path d=\"M 0 262.19625 \nL 382.603125 262.19625 \nL 382.603125 0 \nL 0 0 \nz\n\" style=\"fill:none;\"/>\n  </g>\n  <g id=\"axes_1\">\n   <g id=\"patch_2\">\n    <path d=\"M 40.603125 224.64 \nL 375.403125 224.64 \nL 375.403125 7.2 \nL 40.603125 7.2 \nz\n\" style=\"fill:#ffffff;\"/>\n   </g>\n   <g id=\"PathCollection_1\">\n    <defs>\n     <path d=\"M 0 3 \nC 0.795609 3 1.55874 2.683901 2.12132 2.12132 \nC 2.683901 1.55874 3 0.795609 3 0 \nC 3 -0.795609 2.683901 -1.55874 2.12132 -2.12132 \nC 1.55874 -2.683901 0.795609 -3 0 -3 \nC -0.795609 -3 -1.55874 -2.683901 -2.12132 -2.12132 \nC -2.683901 -1.55874 -3 -0.795609 -3 0 \nC -3 0.795609 -2.683901 1.55874 -2.12132 2.12132 \nC -1.55874 2.683901 -0.795609 3 0 3 \nz\n\" id=\"C0_0_8177f32d3e\"/>\n    </defs>\n    <g clip-path=\"url(#p54b7c04055)\">\n     <use style=\"fill:#0000ff;stroke:#0000ff;\" x=\"56.161454\" xlink:href=\"#C0_0_8177f32d3e\" y=\"183.696789\"/>\n    </g>\n    <g clip-path=\"url(#p54b7c04055)\">\n     <use style=\"fill:#0000ff;stroke:#0000ff;\" x=\"94.121872\" xlink:href=\"#C0_0_8177f32d3e\" y=\"153.789286\"/>\n    </g>\n    <g clip-path=\"url(#p54b7c04055)\">\n     <use style=\"fill:#0000ff;stroke:#0000ff;\" x=\"132.082289\" xlink:href=\"#C0_0_8177f32d3e\" y=\"133.965923\"/>\n    </g>\n    <g clip-path=\"url(#p54b7c04055)\">\n     <use style=\"fill:#0000ff;stroke:#0000ff;\" x=\"170.042707\" xlink:href=\"#C0_0_8177f32d3e\" y=\"134.368675\"/>\n    </g>\n    <g clip-path=\"url(#p54b7c04055)\">\n     <use style=\"fill:#0000ff;stroke:#0000ff;\" x=\"208.003125\" xlink:href=\"#C0_0_8177f32d3e\" y=\"133.904184\"/>\n    </g>\n    <g clip-path=\"url(#p54b7c04055)\">\n     <use style=\"fill:#0000ff;stroke:#0000ff;\" x=\"245.963543\" xlink:href=\"#C0_0_8177f32d3e\" y=\"146.913445\"/>\n    </g>\n    <g clip-path=\"url(#p54b7c04055)\">\n     <use style=\"fill:#0000ff;stroke:#0000ff;\" x=\"283.923961\" xlink:href=\"#C0_0_8177f32d3e\" y=\"168.576889\"/>\n    </g>\n    <g clip-path=\"url(#p54b7c04055)\">\n     <use style=\"fill:#0000ff;stroke:#0000ff;\" x=\"321.884378\" xlink:href=\"#C0_0_8177f32d3e\" y=\"192.640912\"/>\n    </g>\n    <g clip-path=\"url(#p54b7c04055)\">\n     <use style=\"fill:#0000ff;stroke:#0000ff;\" x=\"359.844796\" xlink:href=\"#C0_0_8177f32d3e\" y=\"214.225564\"/>\n    </g>\n    <g clip-path=\"url(#p54b7c04055)\">\n     <use style=\"fill:#ff0000;stroke:#ff0000;\" x=\"56.161454\" xlink:href=\"#C0_0_8177f32d3e\" y=\"45.564717\"/>\n    </g>\n    <g clip-path=\"url(#p54b7c04055)\">\n     <use style=\"fill:#ff0000;stroke:#ff0000;\" x=\"94.121872\" xlink:href=\"#C0_0_8177f32d3e\" y=\"35.299479\"/>\n    </g>\n    <g clip-path=\"url(#p54b7c04055)\">\n     <use style=\"fill:#ff0000;stroke:#ff0000;\" x=\"132.082289\" xlink:href=\"#C0_0_8177f32d3e\" y=\"17.614436\"/>\n    </g>\n    <g clip-path=\"url(#p54b7c04055)\">\n     <use style=\"fill:#ff0000;stroke:#ff0000;\" x=\"170.042707\" xlink:href=\"#C0_0_8177f32d3e\" y=\"19.843069\"/>\n    </g>\n    <g clip-path=\"url(#p54b7c04055)\">\n     <use style=\"fill:#ff0000;stroke:#ff0000;\" x=\"208.003125\" xlink:href=\"#C0_0_8177f32d3e\" y=\"18.964432\"/>\n    </g>\n    <g clip-path=\"url(#p54b7c04055)\">\n     <use style=\"fill:#ff0000;stroke:#ff0000;\" x=\"245.963543\" xlink:href=\"#C0_0_8177f32d3e\" y=\"34.278284\"/>\n    </g>\n    <g clip-path=\"url(#p54b7c04055)\">\n     <use style=\"fill:#ff0000;stroke:#ff0000;\" x=\"283.923961\" xlink:href=\"#C0_0_8177f32d3e\" y=\"56.365712\"/>\n    </g>\n    <g clip-path=\"url(#p54b7c04055)\">\n     <use style=\"fill:#ff0000;stroke:#ff0000;\" x=\"321.884378\" xlink:href=\"#C0_0_8177f32d3e\" y=\"65.993433\"/>\n    </g>\n    <g clip-path=\"url(#p54b7c04055)\">\n     <use style=\"fill:#ff0000;stroke:#ff0000;\" x=\"359.844796\" xlink:href=\"#C0_0_8177f32d3e\" y=\"84.172897\"/>\n    </g>\n   </g>\n   <g id=\"matplotlib.axis_1\">\n    <g id=\"xtick_1\">\n     <g id=\"line2d_1\">\n      <defs>\n       <path d=\"M 0 0 \nL 0 3.5 \n\" id=\"mb84526c940\" style=\"stroke:#000000;stroke-width:0.8;\"/>\n      </defs>\n      <g>\n       <use style=\"stroke:#000000;stroke-width:0.8;\" x=\"56.161454\" xlink:href=\"#mb84526c940\" y=\"224.64\"/>\n      </g>\n     </g>\n     <g id=\"text_1\">\n      <!-- 2009 -->\n      <defs>\n       <path d=\"M 19.1875 8.296875 \nL 53.609375 8.296875 \nL 53.609375 0 \nL 7.328125 0 \nL 7.328125 8.296875 \nQ 12.9375 14.109375 22.625 23.890625 \nQ 32.328125 33.6875 34.8125 36.53125 \nQ 39.546875 41.84375 41.421875 45.53125 \nQ 43.3125 49.21875 43.3125 52.78125 \nQ 43.3125 58.59375 39.234375 62.25 \nQ 35.15625 65.921875 28.609375 65.921875 \nQ 23.96875 65.921875 18.8125 64.3125 \nQ 13.671875 62.703125 7.8125 59.421875 \nL 7.8125 69.390625 \nQ 13.765625 71.78125 18.9375 73 \nQ 24.125 74.21875 28.421875 74.21875 \nQ 39.75 74.21875 46.484375 68.546875 \nQ 53.21875 62.890625 53.21875 53.421875 \nQ 53.21875 48.921875 51.53125 44.890625 \nQ 49.859375 40.875 45.40625 35.40625 \nQ 44.1875 33.984375 37.640625 27.21875 \nQ 31.109375 20.453125 19.1875 8.296875 \nz\n\" id=\"DejaVuSans-50\"/>\n       <path d=\"M 31.78125 66.40625 \nQ 24.171875 66.40625 20.328125 58.90625 \nQ 16.5 51.421875 16.5 36.375 \nQ 16.5 21.390625 20.328125 13.890625 \nQ 24.171875 6.390625 31.78125 6.390625 \nQ 39.453125 6.390625 43.28125 13.890625 \nQ 47.125 21.390625 47.125 36.375 \nQ 47.125 51.421875 43.28125 58.90625 \nQ 39.453125 66.40625 31.78125 66.40625 \nz\nM 31.78125 74.21875 \nQ 44.046875 74.21875 50.515625 64.515625 \nQ 56.984375 54.828125 56.984375 36.375 \nQ 56.984375 17.96875 50.515625 8.265625 \nQ 44.046875 -1.421875 31.78125 -1.421875 \nQ 19.53125 -1.421875 13.0625 8.265625 \nQ 6.59375 17.96875 6.59375 36.375 \nQ 6.59375 54.828125 13.0625 64.515625 \nQ 19.53125 74.21875 31.78125 74.21875 \nz\n\" id=\"DejaVuSans-48\"/>\n       <path d=\"M 10.984375 1.515625 \nL 10.984375 10.5 \nQ 14.703125 8.734375 18.5 7.8125 \nQ 22.3125 6.890625 25.984375 6.890625 \nQ 35.75 6.890625 40.890625 13.453125 \nQ 46.046875 20.015625 46.78125 33.40625 \nQ 43.953125 29.203125 39.59375 26.953125 \nQ 35.25 24.703125 29.984375 24.703125 \nQ 19.046875 24.703125 12.671875 31.3125 \nQ 6.296875 37.9375 6.296875 49.421875 \nQ 6.296875 60.640625 12.9375 67.421875 \nQ 19.578125 74.21875 30.609375 74.21875 \nQ 43.265625 74.21875 49.921875 64.515625 \nQ 56.59375 54.828125 56.59375 36.375 \nQ 56.59375 19.140625 48.40625 8.859375 \nQ 40.234375 -1.421875 26.421875 -1.421875 \nQ 22.703125 -1.421875 18.890625 -0.6875 \nQ 15.09375 0.046875 10.984375 1.515625 \nz\nM 30.609375 32.421875 \nQ 37.25 32.421875 41.125 36.953125 \nQ 45.015625 41.5 45.015625 49.421875 \nQ 45.015625 57.28125 41.125 61.84375 \nQ 37.25 66.40625 30.609375 66.40625 \nQ 23.96875 66.40625 20.09375 61.84375 \nQ 16.21875 57.28125 16.21875 49.421875 \nQ 16.21875 41.5 20.09375 36.953125 \nQ 23.96875 32.421875 30.609375 32.421875 \nz\n\" id=\"DejaVuSans-57\"/>\n      </defs>\n      <g transform=\"translate(43.436454 239.238437)scale(0.1 -0.1)\">\n       <use xlink:href=\"#DejaVuSans-50\"/>\n       <use x=\"63.623047\" xlink:href=\"#DejaVuSans-48\"/>\n       <use x=\"127.246094\" xlink:href=\"#DejaVuSans-48\"/>\n       <use x=\"190.869141\" xlink:href=\"#DejaVuSans-57\"/>\n      </g>\n     </g>\n    </g>\n    <g id=\"xtick_2\">\n     <g id=\"line2d_2\">\n      <g>\n       <use style=\"stroke:#000000;stroke-width:0.8;\" x=\"94.121872\" xlink:href=\"#mb84526c940\" y=\"224.64\"/>\n      </g>\n     </g>\n     <g id=\"text_2\">\n      <!-- 2010 -->\n      <defs>\n       <path d=\"M 12.40625 8.296875 \nL 28.515625 8.296875 \nL 28.515625 63.921875 \nL 10.984375 60.40625 \nL 10.984375 69.390625 \nL 28.421875 72.90625 \nL 38.28125 72.90625 \nL 38.28125 8.296875 \nL 54.390625 8.296875 \nL 54.390625 0 \nL 12.40625 0 \nz\n\" id=\"DejaVuSans-49\"/>\n      </defs>\n      <g transform=\"translate(81.396872 239.238437)scale(0.1 -0.1)\">\n       <use xlink:href=\"#DejaVuSans-50\"/>\n       <use x=\"63.623047\" xlink:href=\"#DejaVuSans-48\"/>\n       <use x=\"127.246094\" xlink:href=\"#DejaVuSans-49\"/>\n       <use x=\"190.869141\" xlink:href=\"#DejaVuSans-48\"/>\n      </g>\n     </g>\n    </g>\n    <g id=\"xtick_3\">\n     <g id=\"line2d_3\">\n      <g>\n       <use style=\"stroke:#000000;stroke-width:0.8;\" x=\"132.082289\" xlink:href=\"#mb84526c940\" y=\"224.64\"/>\n      </g>\n     </g>\n     <g id=\"text_3\">\n      <!-- 2011 -->\n      <g transform=\"translate(119.357289 239.238437)scale(0.1 -0.1)\">\n       <use xlink:href=\"#DejaVuSans-50\"/>\n       <use x=\"63.623047\" xlink:href=\"#DejaVuSans-48\"/>\n       <use x=\"127.246094\" xlink:href=\"#DejaVuSans-49\"/>\n       <use x=\"190.869141\" xlink:href=\"#DejaVuSans-49\"/>\n      </g>\n     </g>\n    </g>\n    <g id=\"xtick_4\">\n     <g id=\"line2d_4\">\n      <g>\n       <use style=\"stroke:#000000;stroke-width:0.8;\" x=\"170.042707\" xlink:href=\"#mb84526c940\" y=\"224.64\"/>\n      </g>\n     </g>\n     <g id=\"text_4\">\n      <!-- 2012 -->\n      <g transform=\"translate(157.317707 239.238437)scale(0.1 -0.1)\">\n       <use xlink:href=\"#DejaVuSans-50\"/>\n       <use x=\"63.623047\" xlink:href=\"#DejaVuSans-48\"/>\n       <use x=\"127.246094\" xlink:href=\"#DejaVuSans-49\"/>\n       <use x=\"190.869141\" xlink:href=\"#DejaVuSans-50\"/>\n      </g>\n     </g>\n    </g>\n    <g id=\"xtick_5\">\n     <g id=\"line2d_5\">\n      <g>\n       <use style=\"stroke:#000000;stroke-width:0.8;\" x=\"208.003125\" xlink:href=\"#mb84526c940\" y=\"224.64\"/>\n      </g>\n     </g>\n     <g id=\"text_5\">\n      <!-- 2013 -->\n      <defs>\n       <path d=\"M 40.578125 39.3125 \nQ 47.65625 37.796875 51.625 33 \nQ 55.609375 28.21875 55.609375 21.1875 \nQ 55.609375 10.40625 48.1875 4.484375 \nQ 40.765625 -1.421875 27.09375 -1.421875 \nQ 22.515625 -1.421875 17.65625 -0.515625 \nQ 12.796875 0.390625 7.625 2.203125 \nL 7.625 11.71875 \nQ 11.71875 9.328125 16.59375 8.109375 \nQ 21.484375 6.890625 26.8125 6.890625 \nQ 36.078125 6.890625 40.9375 10.546875 \nQ 45.796875 14.203125 45.796875 21.1875 \nQ 45.796875 27.640625 41.28125 31.265625 \nQ 36.765625 34.90625 28.71875 34.90625 \nL 20.21875 34.90625 \nL 20.21875 43.015625 \nL 29.109375 43.015625 \nQ 36.375 43.015625 40.234375 45.921875 \nQ 44.09375 48.828125 44.09375 54.296875 \nQ 44.09375 59.90625 40.109375 62.90625 \nQ 36.140625 65.921875 28.71875 65.921875 \nQ 24.65625 65.921875 20.015625 65.03125 \nQ 15.375 64.15625 9.8125 62.3125 \nL 9.8125 71.09375 \nQ 15.4375 72.65625 20.34375 73.4375 \nQ 25.25 74.21875 29.59375 74.21875 \nQ 40.828125 74.21875 47.359375 69.109375 \nQ 53.90625 64.015625 53.90625 55.328125 \nQ 53.90625 49.265625 50.4375 45.09375 \nQ 46.96875 40.921875 40.578125 39.3125 \nz\n\" id=\"DejaVuSans-51\"/>\n      </defs>\n      <g transform=\"translate(195.278125 239.238437)scale(0.1 -0.1)\">\n       <use xlink:href=\"#DejaVuSans-50\"/>\n       <use x=\"63.623047\" xlink:href=\"#DejaVuSans-48\"/>\n       <use x=\"127.246094\" xlink:href=\"#DejaVuSans-49\"/>\n       <use x=\"190.869141\" xlink:href=\"#DejaVuSans-51\"/>\n      </g>\n     </g>\n    </g>\n    <g id=\"xtick_6\">\n     <g id=\"line2d_6\">\n      <g>\n       <use style=\"stroke:#000000;stroke-width:0.8;\" x=\"245.963543\" xlink:href=\"#mb84526c940\" y=\"224.64\"/>\n      </g>\n     </g>\n     <g id=\"text_6\">\n      <!-- 2014 -->\n      <defs>\n       <path d=\"M 37.796875 64.3125 \nL 12.890625 25.390625 \nL 37.796875 25.390625 \nz\nM 35.203125 72.90625 \nL 47.609375 72.90625 \nL 47.609375 25.390625 \nL 58.015625 25.390625 \nL 58.015625 17.1875 \nL 47.609375 17.1875 \nL 47.609375 0 \nL 37.796875 0 \nL 37.796875 17.1875 \nL 4.890625 17.1875 \nL 4.890625 26.703125 \nz\n\" id=\"DejaVuSans-52\"/>\n      </defs>\n      <g transform=\"translate(233.238543 239.238437)scale(0.1 -0.1)\">\n       <use xlink:href=\"#DejaVuSans-50\"/>\n       <use x=\"63.623047\" xlink:href=\"#DejaVuSans-48\"/>\n       <use x=\"127.246094\" xlink:href=\"#DejaVuSans-49\"/>\n       <use x=\"190.869141\" xlink:href=\"#DejaVuSans-52\"/>\n      </g>\n     </g>\n    </g>\n    <g id=\"xtick_7\">\n     <g id=\"line2d_7\">\n      <g>\n       <use style=\"stroke:#000000;stroke-width:0.8;\" x=\"283.923961\" xlink:href=\"#mb84526c940\" y=\"224.64\"/>\n      </g>\n     </g>\n     <g id=\"text_7\">\n      <!-- 2015 -->\n      <defs>\n       <path d=\"M 10.796875 72.90625 \nL 49.515625 72.90625 \nL 49.515625 64.59375 \nL 19.828125 64.59375 \nL 19.828125 46.734375 \nQ 21.96875 47.46875 24.109375 47.828125 \nQ 26.265625 48.1875 28.421875 48.1875 \nQ 40.625 48.1875 47.75 41.5 \nQ 54.890625 34.8125 54.890625 23.390625 \nQ 54.890625 11.625 47.5625 5.09375 \nQ 40.234375 -1.421875 26.90625 -1.421875 \nQ 22.3125 -1.421875 17.546875 -0.640625 \nQ 12.796875 0.140625 7.71875 1.703125 \nL 7.71875 11.625 \nQ 12.109375 9.234375 16.796875 8.0625 \nQ 21.484375 6.890625 26.703125 6.890625 \nQ 35.15625 6.890625 40.078125 11.328125 \nQ 45.015625 15.765625 45.015625 23.390625 \nQ 45.015625 31 40.078125 35.4375 \nQ 35.15625 39.890625 26.703125 39.890625 \nQ 22.75 39.890625 18.8125 39.015625 \nQ 14.890625 38.140625 10.796875 36.28125 \nz\n\" id=\"DejaVuSans-53\"/>\n      </defs>\n      <g transform=\"translate(271.198961 239.238437)scale(0.1 -0.1)\">\n       <use xlink:href=\"#DejaVuSans-50\"/>\n       <use x=\"63.623047\" xlink:href=\"#DejaVuSans-48\"/>\n       <use x=\"127.246094\" xlink:href=\"#DejaVuSans-49\"/>\n       <use x=\"190.869141\" xlink:href=\"#DejaVuSans-53\"/>\n      </g>\n     </g>\n    </g>\n    <g id=\"xtick_8\">\n     <g id=\"line2d_8\">\n      <g>\n       <use style=\"stroke:#000000;stroke-width:0.8;\" x=\"321.884378\" xlink:href=\"#mb84526c940\" y=\"224.64\"/>\n      </g>\n     </g>\n     <g id=\"text_8\">\n      <!-- 2016 -->\n      <defs>\n       <path d=\"M 33.015625 40.375 \nQ 26.375 40.375 22.484375 35.828125 \nQ 18.609375 31.296875 18.609375 23.390625 \nQ 18.609375 15.53125 22.484375 10.953125 \nQ 26.375 6.390625 33.015625 6.390625 \nQ 39.65625 6.390625 43.53125 10.953125 \nQ 47.40625 15.53125 47.40625 23.390625 \nQ 47.40625 31.296875 43.53125 35.828125 \nQ 39.65625 40.375 33.015625 40.375 \nz\nM 52.59375 71.296875 \nL 52.59375 62.3125 \nQ 48.875 64.0625 45.09375 64.984375 \nQ 41.3125 65.921875 37.59375 65.921875 \nQ 27.828125 65.921875 22.671875 59.328125 \nQ 17.53125 52.734375 16.796875 39.40625 \nQ 19.671875 43.65625 24.015625 45.921875 \nQ 28.375 48.1875 33.59375 48.1875 \nQ 44.578125 48.1875 50.953125 41.515625 \nQ 57.328125 34.859375 57.328125 23.390625 \nQ 57.328125 12.15625 50.6875 5.359375 \nQ 44.046875 -1.421875 33.015625 -1.421875 \nQ 20.359375 -1.421875 13.671875 8.265625 \nQ 6.984375 17.96875 6.984375 36.375 \nQ 6.984375 53.65625 15.1875 63.9375 \nQ 23.390625 74.21875 37.203125 74.21875 \nQ 40.921875 74.21875 44.703125 73.484375 \nQ 48.484375 72.75 52.59375 71.296875 \nz\n\" id=\"DejaVuSans-54\"/>\n      </defs>\n      <g transform=\"translate(309.159378 239.238437)scale(0.1 -0.1)\">\n       <use xlink:href=\"#DejaVuSans-50\"/>\n       <use x=\"63.623047\" xlink:href=\"#DejaVuSans-48\"/>\n       <use x=\"127.246094\" xlink:href=\"#DejaVuSans-49\"/>\n       <use x=\"190.869141\" xlink:href=\"#DejaVuSans-54\"/>\n      </g>\n     </g>\n    </g>\n    <g id=\"xtick_9\">\n     <g id=\"line2d_9\">\n      <g>\n       <use style=\"stroke:#000000;stroke-width:0.8;\" x=\"359.844796\" xlink:href=\"#mb84526c940\" y=\"224.64\"/>\n      </g>\n     </g>\n     <g id=\"text_9\">\n      <!-- 2017 -->\n      <defs>\n       <path d=\"M 8.203125 72.90625 \nL 55.078125 72.90625 \nL 55.078125 68.703125 \nL 28.609375 0 \nL 18.3125 0 \nL 43.21875 64.59375 \nL 8.203125 64.59375 \nz\n\" id=\"DejaVuSans-55\"/>\n      </defs>\n      <g transform=\"translate(347.119796 239.238437)scale(0.1 -0.1)\">\n       <use xlink:href=\"#DejaVuSans-50\"/>\n       <use x=\"63.623047\" xlink:href=\"#DejaVuSans-48\"/>\n       <use x=\"127.246094\" xlink:href=\"#DejaVuSans-49\"/>\n       <use x=\"190.869141\" xlink:href=\"#DejaVuSans-55\"/>\n      </g>\n     </g>\n    </g>\n    <g id=\"text_10\">\n     <!-- Year -->\n     <defs>\n      <path d=\"M -0.203125 72.90625 \nL 10.40625 72.90625 \nL 30.609375 42.921875 \nL 50.6875 72.90625 \nL 61.28125 72.90625 \nL 35.5 34.71875 \nL 35.5 0 \nL 25.59375 0 \nL 25.59375 34.71875 \nz\n\" id=\"DejaVuSans-89\"/>\n      <path d=\"M 56.203125 29.59375 \nL 56.203125 25.203125 \nL 14.890625 25.203125 \nQ 15.484375 15.921875 20.484375 11.0625 \nQ 25.484375 6.203125 34.421875 6.203125 \nQ 39.59375 6.203125 44.453125 7.46875 \nQ 49.3125 8.734375 54.109375 11.28125 \nL 54.109375 2.78125 \nQ 49.265625 0.734375 44.1875 -0.34375 \nQ 39.109375 -1.421875 33.890625 -1.421875 \nQ 20.796875 -1.421875 13.15625 6.1875 \nQ 5.515625 13.8125 5.515625 26.8125 \nQ 5.515625 40.234375 12.765625 48.109375 \nQ 20.015625 56 32.328125 56 \nQ 43.359375 56 49.78125 48.890625 \nQ 56.203125 41.796875 56.203125 29.59375 \nz\nM 47.21875 32.234375 \nQ 47.125 39.59375 43.09375 43.984375 \nQ 39.0625 48.390625 32.421875 48.390625 \nQ 24.90625 48.390625 20.390625 44.140625 \nQ 15.875 39.890625 15.1875 32.171875 \nz\n\" id=\"DejaVuSans-101\"/>\n      <path d=\"M 34.28125 27.484375 \nQ 23.390625 27.484375 19.1875 25 \nQ 14.984375 22.515625 14.984375 16.5 \nQ 14.984375 11.71875 18.140625 8.90625 \nQ 21.296875 6.109375 26.703125 6.109375 \nQ 34.1875 6.109375 38.703125 11.40625 \nQ 43.21875 16.703125 43.21875 25.484375 \nL 43.21875 27.484375 \nz\nM 52.203125 31.203125 \nL 52.203125 0 \nL 43.21875 0 \nL 43.21875 8.296875 \nQ 40.140625 3.328125 35.546875 0.953125 \nQ 30.953125 -1.421875 24.3125 -1.421875 \nQ 15.921875 -1.421875 10.953125 3.296875 \nQ 6 8.015625 6 15.921875 \nQ 6 25.140625 12.171875 29.828125 \nQ 18.359375 34.515625 30.609375 34.515625 \nL 43.21875 34.515625 \nL 43.21875 35.40625 \nQ 43.21875 41.609375 39.140625 45 \nQ 35.0625 48.390625 27.6875 48.390625 \nQ 23 48.390625 18.546875 47.265625 \nQ 14.109375 46.140625 10.015625 43.890625 \nL 10.015625 52.203125 \nQ 14.9375 54.109375 19.578125 55.046875 \nQ 24.21875 56 28.609375 56 \nQ 40.484375 56 46.34375 49.84375 \nQ 52.203125 43.703125 52.203125 31.203125 \nz\n\" id=\"DejaVuSans-97\"/>\n      <path d=\"M 41.109375 46.296875 \nQ 39.59375 47.171875 37.8125 47.578125 \nQ 36.03125 48 33.890625 48 \nQ 26.265625 48 22.1875 43.046875 \nQ 18.109375 38.09375 18.109375 28.8125 \nL 18.109375 0 \nL 9.078125 0 \nL 9.078125 54.6875 \nL 18.109375 54.6875 \nL 18.109375 46.1875 \nQ 20.953125 51.171875 25.484375 53.578125 \nQ 30.03125 56 36.53125 56 \nQ 37.453125 56 38.578125 55.875 \nQ 39.703125 55.765625 41.0625 55.515625 \nz\n\" id=\"DejaVuSans-114\"/>\n     </defs>\n     <g transform=\"translate(196.763281 252.916562)scale(0.1 -0.1)\">\n      <use xlink:href=\"#DejaVuSans-89\"/>\n      <use x=\"60.880859\" xlink:href=\"#DejaVuSans-101\"/>\n      <use x=\"122.404297\" xlink:href=\"#DejaVuSans-97\"/>\n      <use x=\"183.683594\" xlink:href=\"#DejaVuSans-114\"/>\n     </g>\n    </g>\n   </g>\n   <g id=\"matplotlib.axis_2\">\n    <g id=\"ytick_1\">\n     <g id=\"line2d_10\">\n      <defs>\n       <path d=\"M 0 0 \nL -3.5 0 \n\" id=\"m3a7f70a6dd\" style=\"stroke:#000000;stroke-width:0.8;\"/>\n      </defs>\n      <g>\n       <use style=\"stroke:#000000;stroke-width:0.8;\" x=\"40.603125\" xlink:href=\"#m3a7f70a6dd\" y=\"223.973846\"/>\n      </g>\n     </g>\n     <g id=\"text_11\">\n      <!-- 13 -->\n      <g transform=\"translate(20.878125 227.773065)scale(0.1 -0.1)\">\n       <use xlink:href=\"#DejaVuSans-49\"/>\n       <use x=\"63.623047\" xlink:href=\"#DejaVuSans-51\"/>\n      </g>\n     </g>\n    </g>\n    <g id=\"ytick_2\">\n     <g id=\"line2d_11\">\n      <g>\n       <use style=\"stroke:#000000;stroke-width:0.8;\" x=\"40.603125\" xlink:href=\"#m3a7f70a6dd\" y=\"185.501473\"/>\n      </g>\n     </g>\n     <g id=\"text_12\">\n      <!-- 14 -->\n      <g transform=\"translate(20.878125 189.300692)scale(0.1 -0.1)\">\n       <use xlink:href=\"#DejaVuSans-49\"/>\n       <use x=\"63.623047\" xlink:href=\"#DejaVuSans-52\"/>\n      </g>\n     </g>\n    </g>\n    <g id=\"ytick_3\">\n     <g id=\"line2d_12\">\n      <g>\n       <use style=\"stroke:#000000;stroke-width:0.8;\" x=\"40.603125\" xlink:href=\"#m3a7f70a6dd\" y=\"147.029099\"/>\n      </g>\n     </g>\n     <g id=\"text_13\">\n      <!-- 15 -->\n      <g transform=\"translate(20.878125 150.828318)scale(0.1 -0.1)\">\n       <use xlink:href=\"#DejaVuSans-49\"/>\n       <use x=\"63.623047\" xlink:href=\"#DejaVuSans-53\"/>\n      </g>\n     </g>\n    </g>\n    <g id=\"ytick_4\">\n     <g id=\"line2d_13\">\n      <g>\n       <use style=\"stroke:#000000;stroke-width:0.8;\" x=\"40.603125\" xlink:href=\"#m3a7f70a6dd\" y=\"108.556726\"/>\n      </g>\n     </g>\n     <g id=\"text_14\">\n      <!-- 16 -->\n      <g transform=\"translate(20.878125 112.355945)scale(0.1 -0.1)\">\n       <use xlink:href=\"#DejaVuSans-49\"/>\n       <use x=\"63.623047\" xlink:href=\"#DejaVuSans-54\"/>\n      </g>\n     </g>\n    </g>\n    <g id=\"ytick_5\">\n     <g id=\"line2d_14\">\n      <g>\n       <use style=\"stroke:#000000;stroke-width:0.8;\" x=\"40.603125\" xlink:href=\"#m3a7f70a6dd\" y=\"70.084352\"/>\n      </g>\n     </g>\n     <g id=\"text_15\">\n      <!-- 17 -->\n      <g transform=\"translate(20.878125 73.883571)scale(0.1 -0.1)\">\n       <use xlink:href=\"#DejaVuSans-49\"/>\n       <use x=\"63.623047\" xlink:href=\"#DejaVuSans-55\"/>\n      </g>\n     </g>\n    </g>\n    <g id=\"ytick_6\">\n     <g id=\"line2d_15\">\n      <g>\n       <use style=\"stroke:#000000;stroke-width:0.8;\" x=\"40.603125\" xlink:href=\"#m3a7f70a6dd\" y=\"31.611979\"/>\n      </g>\n     </g>\n     <g id=\"text_16\">\n      <!-- 18 -->\n      <defs>\n       <path d=\"M 31.78125 34.625 \nQ 24.75 34.625 20.71875 30.859375 \nQ 16.703125 27.09375 16.703125 20.515625 \nQ 16.703125 13.921875 20.71875 10.15625 \nQ 24.75 6.390625 31.78125 6.390625 \nQ 38.8125 6.390625 42.859375 10.171875 \nQ 46.921875 13.96875 46.921875 20.515625 \nQ 46.921875 27.09375 42.890625 30.859375 \nQ 38.875 34.625 31.78125 34.625 \nz\nM 21.921875 38.8125 \nQ 15.578125 40.375 12.03125 44.71875 \nQ 8.5 49.078125 8.5 55.328125 \nQ 8.5 64.0625 14.71875 69.140625 \nQ 20.953125 74.21875 31.78125 74.21875 \nQ 42.671875 74.21875 48.875 69.140625 \nQ 55.078125 64.0625 55.078125 55.328125 \nQ 55.078125 49.078125 51.53125 44.71875 \nQ 48 40.375 41.703125 38.8125 \nQ 48.828125 37.15625 52.796875 32.3125 \nQ 56.78125 27.484375 56.78125 20.515625 \nQ 56.78125 9.90625 50.3125 4.234375 \nQ 43.84375 -1.421875 31.78125 -1.421875 \nQ 19.734375 -1.421875 13.25 4.234375 \nQ 6.78125 9.90625 6.78125 20.515625 \nQ 6.78125 27.484375 10.78125 32.3125 \nQ 14.796875 37.15625 21.921875 38.8125 \nz\nM 18.3125 54.390625 \nQ 18.3125 48.734375 21.84375 45.5625 \nQ 25.390625 42.390625 31.78125 42.390625 \nQ 38.140625 42.390625 41.71875 45.5625 \nQ 45.3125 48.734375 45.3125 54.390625 \nQ 45.3125 60.0625 41.71875 63.234375 \nQ 38.140625 66.40625 31.78125 66.40625 \nQ 25.390625 66.40625 21.84375 63.234375 \nQ 18.3125 60.0625 18.3125 54.390625 \nz\n\" id=\"DejaVuSans-56\"/>\n      </defs>\n      <g transform=\"translate(20.878125 35.411198)scale(0.1 -0.1)\">\n       <use xlink:href=\"#DejaVuSans-49\"/>\n       <use x=\"63.623047\" xlink:href=\"#DejaVuSans-56\"/>\n      </g>\n     </g>\n    </g>\n    <g id=\"text_17\">\n     <!-- Poverty in % -->\n     <defs>\n      <path d=\"M 19.671875 64.796875 \nL 19.671875 37.40625 \nL 32.078125 37.40625 \nQ 38.96875 37.40625 42.71875 40.96875 \nQ 46.484375 44.53125 46.484375 51.125 \nQ 46.484375 57.671875 42.71875 61.234375 \nQ 38.96875 64.796875 32.078125 64.796875 \nz\nM 9.8125 72.90625 \nL 32.078125 72.90625 \nQ 44.34375 72.90625 50.609375 67.359375 \nQ 56.890625 61.8125 56.890625 51.125 \nQ 56.890625 40.328125 50.609375 34.8125 \nQ 44.34375 29.296875 32.078125 29.296875 \nL 19.671875 29.296875 \nL 19.671875 0 \nL 9.8125 0 \nz\n\" id=\"DejaVuSans-80\"/>\n      <path d=\"M 30.609375 48.390625 \nQ 23.390625 48.390625 19.1875 42.75 \nQ 14.984375 37.109375 14.984375 27.296875 \nQ 14.984375 17.484375 19.15625 11.84375 \nQ 23.34375 6.203125 30.609375 6.203125 \nQ 37.796875 6.203125 41.984375 11.859375 \nQ 46.1875 17.53125 46.1875 27.296875 \nQ 46.1875 37.015625 41.984375 42.703125 \nQ 37.796875 48.390625 30.609375 48.390625 \nz\nM 30.609375 56 \nQ 42.328125 56 49.015625 48.375 \nQ 55.71875 40.765625 55.71875 27.296875 \nQ 55.71875 13.875 49.015625 6.21875 \nQ 42.328125 -1.421875 30.609375 -1.421875 \nQ 18.84375 -1.421875 12.171875 6.21875 \nQ 5.515625 13.875 5.515625 27.296875 \nQ 5.515625 40.765625 12.171875 48.375 \nQ 18.84375 56 30.609375 56 \nz\n\" id=\"DejaVuSans-111\"/>\n      <path d=\"M 2.984375 54.6875 \nL 12.5 54.6875 \nL 29.59375 8.796875 \nL 46.6875 54.6875 \nL 56.203125 54.6875 \nL 35.6875 0 \nL 23.484375 0 \nz\n\" id=\"DejaVuSans-118\"/>\n      <path d=\"M 18.3125 70.21875 \nL 18.3125 54.6875 \nL 36.8125 54.6875 \nL 36.8125 47.703125 \nL 18.3125 47.703125 \nL 18.3125 18.015625 \nQ 18.3125 11.328125 20.140625 9.421875 \nQ 21.96875 7.515625 27.59375 7.515625 \nL 36.8125 7.515625 \nL 36.8125 0 \nL 27.59375 0 \nQ 17.1875 0 13.234375 3.875 \nQ 9.28125 7.765625 9.28125 18.015625 \nL 9.28125 47.703125 \nL 2.6875 47.703125 \nL 2.6875 54.6875 \nL 9.28125 54.6875 \nL 9.28125 70.21875 \nz\n\" id=\"DejaVuSans-116\"/>\n      <path d=\"M 32.171875 -5.078125 \nQ 28.375 -14.84375 24.75 -17.8125 \nQ 21.140625 -20.796875 15.09375 -20.796875 \nL 7.90625 -20.796875 \nL 7.90625 -13.28125 \nL 13.1875 -13.28125 \nQ 16.890625 -13.28125 18.9375 -11.515625 \nQ 21 -9.765625 23.484375 -3.21875 \nL 25.09375 0.875 \nL 2.984375 54.6875 \nL 12.5 54.6875 \nL 29.59375 11.921875 \nL 46.6875 54.6875 \nL 56.203125 54.6875 \nz\n\" id=\"DejaVuSans-121\"/>\n      <path id=\"DejaVuSans-32\"/>\n      <path d=\"M 9.421875 54.6875 \nL 18.40625 54.6875 \nL 18.40625 0 \nL 9.421875 0 \nz\nM 9.421875 75.984375 \nL 18.40625 75.984375 \nL 18.40625 64.59375 \nL 9.421875 64.59375 \nz\n\" id=\"DejaVuSans-105\"/>\n      <path d=\"M 54.890625 33.015625 \nL 54.890625 0 \nL 45.90625 0 \nL 45.90625 32.71875 \nQ 45.90625 40.484375 42.875 44.328125 \nQ 39.84375 48.1875 33.796875 48.1875 \nQ 26.515625 48.1875 22.3125 43.546875 \nQ 18.109375 38.921875 18.109375 30.90625 \nL 18.109375 0 \nL 9.078125 0 \nL 9.078125 54.6875 \nL 18.109375 54.6875 \nL 18.109375 46.1875 \nQ 21.34375 51.125 25.703125 53.5625 \nQ 30.078125 56 35.796875 56 \nQ 45.21875 56 50.046875 50.171875 \nQ 54.890625 44.34375 54.890625 33.015625 \nz\n\" id=\"DejaVuSans-110\"/>\n      <path d=\"M 72.703125 32.078125 \nQ 68.453125 32.078125 66.03125 28.46875 \nQ 63.625 24.859375 63.625 18.40625 \nQ 63.625 12.0625 66.03125 8.421875 \nQ 68.453125 4.78125 72.703125 4.78125 \nQ 76.859375 4.78125 79.265625 8.421875 \nQ 81.6875 12.0625 81.6875 18.40625 \nQ 81.6875 24.8125 79.265625 28.4375 \nQ 76.859375 32.078125 72.703125 32.078125 \nz\nM 72.703125 38.28125 \nQ 80.421875 38.28125 84.953125 32.90625 \nQ 89.5 27.546875 89.5 18.40625 \nQ 89.5 9.28125 84.9375 3.921875 \nQ 80.375 -1.421875 72.703125 -1.421875 \nQ 64.890625 -1.421875 60.34375 3.921875 \nQ 55.8125 9.28125 55.8125 18.40625 \nQ 55.8125 27.59375 60.375 32.9375 \nQ 64.9375 38.28125 72.703125 38.28125 \nz\nM 22.3125 68.015625 \nQ 18.109375 68.015625 15.6875 64.375 \nQ 13.28125 60.75 13.28125 54.390625 \nQ 13.28125 47.953125 15.671875 44.328125 \nQ 18.0625 40.71875 22.3125 40.71875 \nQ 26.5625 40.71875 28.96875 44.328125 \nQ 31.390625 47.953125 31.390625 54.390625 \nQ 31.390625 60.6875 28.953125 64.34375 \nQ 26.515625 68.015625 22.3125 68.015625 \nz\nM 66.40625 74.21875 \nL 74.21875 74.21875 \nL 28.609375 -1.421875 \nL 20.796875 -1.421875 \nz\nM 22.3125 74.21875 \nQ 30.03125 74.21875 34.609375 68.875 \nQ 39.203125 63.53125 39.203125 54.390625 \nQ 39.203125 45.171875 34.640625 39.84375 \nQ 30.078125 34.515625 22.3125 34.515625 \nQ 14.546875 34.515625 10.03125 39.859375 \nQ 5.515625 45.21875 5.515625 54.390625 \nQ 5.515625 63.484375 10.046875 68.84375 \nQ 14.59375 74.21875 22.3125 74.21875 \nz\n\" id=\"DejaVuSans-37\"/>\n     </defs>\n     <g transform=\"translate(14.798438 147.489531)rotate(-90)scale(0.1 -0.1)\">\n      <use xlink:href=\"#DejaVuSans-80\"/>\n      <use x=\"60.255859\" xlink:href=\"#DejaVuSans-111\"/>\n      <use x=\"121.4375\" xlink:href=\"#DejaVuSans-118\"/>\n      <use x=\"180.617188\" xlink:href=\"#DejaVuSans-101\"/>\n      <use x=\"242.140625\" xlink:href=\"#DejaVuSans-114\"/>\n      <use x=\"283.253906\" xlink:href=\"#DejaVuSans-116\"/>\n      <use x=\"322.462891\" xlink:href=\"#DejaVuSans-121\"/>\n      <use x=\"381.642578\" xlink:href=\"#DejaVuSans-32\"/>\n      <use x=\"413.429688\" xlink:href=\"#DejaVuSans-105\"/>\n      <use x=\"441.212891\" xlink:href=\"#DejaVuSans-110\"/>\n      <use x=\"504.591797\" xlink:href=\"#DejaVuSans-32\"/>\n      <use x=\"536.378906\" xlink:href=\"#DejaVuSans-37\"/>\n     </g>\n    </g>\n   </g>\n   <g id=\"patch_3\">\n    <path d=\"M 40.603125 224.64 \nL 40.603125 7.2 \n\" style=\"fill:none;stroke:#000000;stroke-linecap:square;stroke-linejoin:miter;stroke-width:0.8;\"/>\n   </g>\n   <g id=\"patch_4\">\n    <path d=\"M 375.403125 224.64 \nL 375.403125 7.2 \n\" style=\"fill:none;stroke:#000000;stroke-linecap:square;stroke-linejoin:miter;stroke-width:0.8;\"/>\n   </g>\n   <g id=\"patch_5\">\n    <path d=\"M 40.603125 224.64 \nL 375.403125 224.64 \n\" style=\"fill:none;stroke:#000000;stroke-linecap:square;stroke-linejoin:miter;stroke-width:0.8;\"/>\n   </g>\n   <g id=\"patch_6\">\n    <path d=\"M 40.603125 7.2 \nL 375.403125 7.2 \n\" style=\"fill:none;stroke:#000000;stroke-linecap:square;stroke-linejoin:miter;stroke-width:0.8;\"/>\n   </g>\n  </g>\n </g>\n <defs>\n  <clipPath id=\"p54b7c04055\">\n   <rect height=\"217.44\" width=\"334.8\" x=\"40.603125\" y=\"7.2\"/>\n  </clipPath>\n </defs>\n</svg>\n",
      "text/plain": "<Figure size 432x288 with 1 Axes>"
     },
     "metadata": {
      "needs_background": "light"
     },
     "output_type": "display_data"
    },
    {
     "data": {
      "text/plain": "<Figure size 720x720 with 0 Axes>"
     },
     "metadata": {},
     "output_type": "display_data"
    }
   ],
   "source": [
    "poverty_total_grouped_df.metro_nonmetro = poverty_total_grouped_df.metro_nonmetro.apply(lambda x: 1 if x == 'Metropolitan' else 0)\n",
    "colors = ['red', 'blue'] # blue: Metro, red: Nonmetro\n",
    "\n",
    "plt.scatter(poverty_total_grouped_df['year'], poverty_total_grouped_df['value'], c=poverty_total_grouped_df.metro_nonmetro, cmap=matplotlib.colors.ListedColormap(colors))\n",
    "plt.ylabel('Poverty in %')\n",
    "plt.xlabel('Year')\n",
    "plt.figure(figsize=(10,10))\n",
    "plt.show()"
   ]
  },
  {
   "cell_type": "code",
   "execution_count": 19,
   "metadata": {},
   "outputs": [
    {
     "name": "stdout",
     "output_type": "stream",
     "text": "adding a second layer\n"
    }
   ],
   "source": [
    "# per state\n",
    "m = genFoliumMap(title='Poverty (in %) per state (2014)', state_data=poverty_total_df[poverty_total_df.year == 2014], cols = ['state_abbr', 'value'], mapType='states', color = 'Blues')\n",
    "\n",
    "# per county\n",
    "m = genFoliumMap(title='Poverty (in %) per county (2014)', state_data=poverty_total_df[poverty_total_df.year == 2014], cols = ['county_name', 'value'], mapType='counties', my_map = m, color = 'Blues')\n",
    "\n",
    "m = addLayerControl(m)\n",
    "saveFinalMap(m, 'Poverty (in %) (2014)')"
   ]
  },
  {
   "cell_type": "code",
   "execution_count": 20,
   "metadata": {},
   "outputs": [
    {
     "name": "stdout",
     "output_type": "stream",
     "text": "adding a second layer\n"
    }
   ],
   "source": [
    "# metro\n",
    "m = genFoliumMap(title='Poverty (in %) per county (2014)(Metro)', state_data=poverty_total_df[(poverty_total_df.year == 2014) & (poverty_total_df.metro_nonmetro == 'Metropolitan')], cols = ['county_name', 'value'], mapType='counties', color = 'Purples')\n",
    "\n",
    "# nonmetro\n",
    "m = genFoliumMap(title='Poverty per (in %) county (2014)(Nonmetro)', state_data=poverty_total_df[(poverty_total_df.year == 2014) & (poverty_total_df.metro_nonmetro == 'Nonmetropolitan')], cols = ['county_name', 'value'], mapType='counties', my_map = m, color = 'RdPu')\n",
    "\n",
    "m = addLayerControl(m)\n",
    "saveFinalMap(m, 'Poverty (in %) (2014) (Metro-Nonmetro)')"
   ]
  },
  {
   "cell_type": "markdown",
   "execution_count": null,
   "metadata": {},
   "outputs": [],
   "source": [
    "### Education"
   ]
  },
  {
   "cell_type": "code",
   "execution_count": 117,
   "metadata": {},
   "outputs": [
    {
     "data": {
      "text/html": "<div>\n<style scoped>\n    .dataframe tbody tr th:only-of-type {\n        vertical-align: middle;\n    }\n\n    .dataframe tbody tr th {\n        vertical-align: top;\n    }\n\n    .dataframe thead th {\n        text-align: right;\n    }\n</style>\n<table border=\"1\" class=\"dataframe\">\n  <thead>\n    <tr style=\"text-align: right;\">\n      <th></th>\n      <th>metro_nonmetro</th>\n      <th>year</th>\n      <th>county_name</th>\n      <th>state_abbr</th>\n      <th>value</th>\n    </tr>\n  </thead>\n  <tbody>\n    <tr>\n      <th>0</th>\n      <td>Metropolitan</td>\n      <td>2011</td>\n      <td>Anchorage</td>\n      <td>AK</td>\n      <td>7.900000</td>\n    </tr>\n    <tr>\n      <th>1</th>\n      <td>Metropolitan</td>\n      <td>2011</td>\n      <td>Fairbanks North Star</td>\n      <td>AK</td>\n      <td>7.000000</td>\n    </tr>\n    <tr>\n      <th>2</th>\n      <td>Metropolitan</td>\n      <td>2011</td>\n      <td>Matanuska-Susitna</td>\n      <td>AK</td>\n      <td>7.700000</td>\n    </tr>\n    <tr>\n      <th>3</th>\n      <td>Metropolitan</td>\n      <td>2011</td>\n      <td>Autauga</td>\n      <td>AL</td>\n      <td>13.600000</td>\n    </tr>\n    <tr>\n      <th>4</th>\n      <td>Metropolitan</td>\n      <td>2011</td>\n      <td>Baldwin</td>\n      <td>AL</td>\n      <td>12.200000</td>\n    </tr>\n    <tr>\n      <th>...</th>\n      <td>...</td>\n      <td>...</td>\n      <td>...</td>\n      <td>...</td>\n      <td>...</td>\n    </tr>\n    <tr>\n      <th>6280</th>\n      <td>Nonmetropolitan</td>\n      <td>2017</td>\n      <td>Sweetwater</td>\n      <td>WY</td>\n      <td>8.738069</td>\n    </tr>\n    <tr>\n      <th>6281</th>\n      <td>Nonmetropolitan</td>\n      <td>2017</td>\n      <td>Teton</td>\n      <td>WY</td>\n      <td>4.850659</td>\n    </tr>\n    <tr>\n      <th>6282</th>\n      <td>Nonmetropolitan</td>\n      <td>2017</td>\n      <td>Uinta</td>\n      <td>WY</td>\n      <td>8.221606</td>\n    </tr>\n    <tr>\n      <th>6283</th>\n      <td>Nonmetropolitan</td>\n      <td>2017</td>\n      <td>Washakie</td>\n      <td>WY</td>\n      <td>11.463628</td>\n    </tr>\n    <tr>\n      <th>6284</th>\n      <td>Nonmetropolitan</td>\n      <td>2017</td>\n      <td>Weston</td>\n      <td>WY</td>\n      <td>8.080410</td>\n    </tr>\n  </tbody>\n</table>\n<p>6285 rows × 5 columns</p>\n</div>",
      "text/plain": "       metro_nonmetro  year           county_name state_abbr      value\n0        Metropolitan  2011             Anchorage         AK   7.900000\n1        Metropolitan  2011  Fairbanks North Star         AK   7.000000\n2        Metropolitan  2011     Matanuska-Susitna         AK   7.700000\n3        Metropolitan  2011               Autauga         AL  13.600000\n4        Metropolitan  2011               Baldwin         AL  12.200000\n...               ...   ...                   ...        ...        ...\n6280  Nonmetropolitan  2017            Sweetwater         WY   8.738069\n6281  Nonmetropolitan  2017                 Teton         WY   4.850659\n6282  Nonmetropolitan  2017                 Uinta         WY   8.221606\n6283  Nonmetropolitan  2017              Washakie         WY  11.463628\n6284  Nonmetropolitan  2017                Weston         WY   8.080410\n\n[6285 rows x 5 columns]"
     },
     "execution_count": 117,
     "metadata": {},
     "output_type": "execute_result"
    }
   ],
   "source": [
    "# load data\n",
    "# the higher the value, the more people do not have a high school degree\n",
    "education_total_df = loadIndicatorData('education', 'education')\n",
    "education_total_df['value'] = education_total_df['value'].apply(lambda x: x * 100)\n",
    "education_total_df"
   ]
  },
  {
   "cell_type": "code",
   "execution_count": 118,
   "metadata": {},
   "outputs": [
    {
     "data": {
      "text/html": "<div>\n<style scoped>\n    .dataframe tbody tr th:only-of-type {\n        vertical-align: middle;\n    }\n\n    .dataframe tbody tr th {\n        vertical-align: top;\n    }\n\n    .dataframe thead th {\n        text-align: right;\n    }\n</style>\n<table border=\"1\" class=\"dataframe\">\n  <thead>\n    <tr style=\"text-align: right;\">\n      <th></th>\n      <th>metro_nonmetro</th>\n      <th>year</th>\n      <th>value</th>\n    </tr>\n  </thead>\n  <tbody>\n    <tr>\n      <th>0</th>\n      <td>Metropolitan</td>\n      <td>2011</td>\n      <td>14.445330</td>\n    </tr>\n    <tr>\n      <th>1</th>\n      <td>Metropolitan</td>\n      <td>2017</td>\n      <td>12.161925</td>\n    </tr>\n    <tr>\n      <th>2</th>\n      <td>Nonmetropolitan</td>\n      <td>2011</td>\n      <td>17.423937</td>\n    </tr>\n    <tr>\n      <th>3</th>\n      <td>Nonmetropolitan</td>\n      <td>2017</td>\n      <td>14.782286</td>\n    </tr>\n  </tbody>\n</table>\n</div>",
      "text/plain": "    metro_nonmetro  year      value\n0     Metropolitan  2011  14.445330\n1     Metropolitan  2017  12.161925\n2  Nonmetropolitan  2011  17.423937\n3  Nonmetropolitan  2017  14.782286"
     },
     "execution_count": 118,
     "metadata": {},
     "output_type": "execute_result"
    }
   ],
   "source": [
    "education_total_grouped_df = education_total_df.groupby(['metro_nonmetro', 'year'], as_index = False).mean()\n",
    "education_total_grouped_df"
   ]
  },
  {
   "cell_type": "code",
   "execution_count": 119,
   "metadata": {},
   "outputs": [],
   "source": [
    "# per state\n",
    "genFoliumMap(title='Without high school degree (in %) per state (2017)', state_data=education_total_df[education_total_df.year == 2017], cols = ['state_abbr', 'value'], mapType='states', save = True)\n",
    "\n",
    "# per county\n",
    "genFoliumMap(title='Without high school degree (in %) per county (2017)', state_data=education_total_df[education_total_df.year == 2017], cols = ['county_name', 'value'], mapType='counties', save = True)\n",
    "\n",
    "# metro\n",
    "genFoliumMap(title='Without high school degree (in %) per county (2017)(Metro)', state_data=education_total_df[(education_total_df.year == 2017) & (education_total_df.metro_nonmetro == 'Metropolitan')], cols = ['county_name', 'value'], mapType='counties', save = True)\n",
    "\n",
    "# nonmetro\n",
    "genFoliumMap(title='Without high school degree per (in %) county (2017)(Nonmetro)', state_data=education_total_df[(education_total_df.year == 2017) & (education_total_df.metro_nonmetro == 'Nonmetropolitan')], cols = ['county_name', 'value'], mapType='counties', save = True)"
   ]
  },
  {
   "cell_type": "markdown",
   "execution_count": null,
   "metadata": {},
   "outputs": [],
   "source": [
    "## Uninsured"
   ]
  },
  {
   "cell_type": "code",
   "execution_count": 28,
   "metadata": {},
   "outputs": [
    {
     "data": {
      "text/html": "<div>\n<style scoped>\n    .dataframe tbody tr th:only-of-type {\n        vertical-align: middle;\n    }\n\n    .dataframe tbody tr th {\n        vertical-align: top;\n    }\n\n    .dataframe thead th {\n        text-align: right;\n    }\n</style>\n<table border=\"1\" class=\"dataframe\">\n  <thead>\n    <tr style=\"text-align: right;\">\n      <th></th>\n      <th>metro_nonmetro</th>\n      <th>year</th>\n      <th>county_name</th>\n      <th>state_abbr</th>\n      <th>value</th>\n    </tr>\n  </thead>\n  <tbody>\n    <tr>\n      <th>0</th>\n      <td>Metropolitan</td>\n      <td>2008</td>\n      <td>Anchorage</td>\n      <td>AK</td>\n      <td>19.966750</td>\n    </tr>\n    <tr>\n      <th>1</th>\n      <td>Metropolitan</td>\n      <td>2008</td>\n      <td>Fairbanks North Star</td>\n      <td>AK</td>\n      <td>20.761554</td>\n    </tr>\n    <tr>\n      <th>2</th>\n      <td>Metropolitan</td>\n      <td>2008</td>\n      <td>Matanuska-Susitna</td>\n      <td>AK</td>\n      <td>27.309337</td>\n    </tr>\n    <tr>\n      <th>3</th>\n      <td>Metropolitan</td>\n      <td>2008</td>\n      <td>Autauga</td>\n      <td>AL</td>\n      <td>15.760383</td>\n    </tr>\n    <tr>\n      <th>4</th>\n      <td>Metropolitan</td>\n      <td>2008</td>\n      <td>Baldwin</td>\n      <td>AL</td>\n      <td>19.541640</td>\n    </tr>\n    <tr>\n      <th>...</th>\n      <td>...</td>\n      <td>...</td>\n      <td>...</td>\n      <td>...</td>\n      <td>...</td>\n    </tr>\n    <tr>\n      <th>34420</th>\n      <td>Nonmetropolitan</td>\n      <td>2017</td>\n      <td>Sweetwater</td>\n      <td>WY</td>\n      <td>16.940096</td>\n    </tr>\n    <tr>\n      <th>34421</th>\n      <td>Nonmetropolitan</td>\n      <td>2017</td>\n      <td>Teton</td>\n      <td>WY</td>\n      <td>17.517730</td>\n    </tr>\n    <tr>\n      <th>34422</th>\n      <td>Nonmetropolitan</td>\n      <td>2017</td>\n      <td>Uinta</td>\n      <td>WY</td>\n      <td>16.598500</td>\n    </tr>\n    <tr>\n      <th>34423</th>\n      <td>Nonmetropolitan</td>\n      <td>2017</td>\n      <td>Washakie</td>\n      <td>WY</td>\n      <td>19.335280</td>\n    </tr>\n    <tr>\n      <th>34424</th>\n      <td>Nonmetropolitan</td>\n      <td>2017</td>\n      <td>Weston</td>\n      <td>WY</td>\n      <td>15.117177</td>\n    </tr>\n  </tbody>\n</table>\n<p>34425 rows × 5 columns</p>\n</div>",
      "text/plain": "        metro_nonmetro  year           county_name state_abbr      value\n0         Metropolitan  2008             Anchorage         AK  19.966750\n1         Metropolitan  2008  Fairbanks North Star         AK  20.761554\n2         Metropolitan  2008     Matanuska-Susitna         AK  27.309337\n3         Metropolitan  2008               Autauga         AL  15.760383\n4         Metropolitan  2008               Baldwin         AL  19.541640\n...                ...   ...                   ...        ...        ...\n34420  Nonmetropolitan  2017            Sweetwater         WY  16.940096\n34421  Nonmetropolitan  2017                 Teton         WY  17.517730\n34422  Nonmetropolitan  2017                 Uinta         WY  16.598500\n34423  Nonmetropolitan  2017              Washakie         WY  19.335280\n34424  Nonmetropolitan  2017                Weston         WY  15.117177\n\n[34425 rows x 5 columns]"
     },
     "execution_count": 28,
     "metadata": {},
     "output_type": "execute_result"
    }
   ],
   "source": [
    "# load data\n",
    "# the higher the value, the more people do not have a high school degree\n",
    "uninsured_total_df = loadIndicatorData('uninsured', 'uninsured')\n",
    "uninsured_total_df['value'] = uninsured_total_df['value'].apply(lambda x: x * 100)\n",
    "uninsured_total_df"
   ]
  },
  {
   "cell_type": "code",
   "execution_count": 27,
   "metadata": {},
   "outputs": [
    {
     "data": {
      "text/html": "<div>\n<style scoped>\n    .dataframe tbody tr th:only-of-type {\n        vertical-align: middle;\n    }\n\n    .dataframe tbody tr th {\n        vertical-align: top;\n    }\n\n    .dataframe thead th {\n        text-align: right;\n    }\n</style>\n<table border=\"1\" class=\"dataframe\">\n  <thead>\n    <tr style=\"text-align: right;\">\n      <th></th>\n      <th>metro_nonmetro</th>\n      <th>year</th>\n      <th>value</th>\n    </tr>\n  </thead>\n  <tbody>\n    <tr>\n      <th>0</th>\n      <td>Metropolitan</td>\n      <td>2011</td>\n      <td>14.445330</td>\n    </tr>\n    <tr>\n      <th>1</th>\n      <td>Metropolitan</td>\n      <td>2017</td>\n      <td>12.161925</td>\n    </tr>\n    <tr>\n      <th>2</th>\n      <td>Nonmetropolitan</td>\n      <td>2011</td>\n      <td>17.423937</td>\n    </tr>\n    <tr>\n      <th>3</th>\n      <td>Nonmetropolitan</td>\n      <td>2017</td>\n      <td>14.782286</td>\n    </tr>\n  </tbody>\n</table>\n</div>",
      "text/plain": "    metro_nonmetro  year      value\n0     Metropolitan  2011  14.445330\n1     Metropolitan  2017  12.161925\n2  Nonmetropolitan  2011  17.423937\n3  Nonmetropolitan  2017  14.782286"
     },
     "execution_count": 27,
     "metadata": {},
     "output_type": "execute_result"
    }
   ],
   "source": [
    "uninsured_total_grouped_df = uninsured_total_df.groupby(['metro_nonmetro', 'year'], as_index = False).mean()\n",
    "uninsured_total_grouped_df"
   ]
  },
  {
   "cell_type": "code",
   "execution_count": 29,
   "metadata": {},
   "outputs": [
    {
     "data": {
      "text/html": "<div>\n<style scoped>\n    .dataframe tbody tr th:only-of-type {\n        vertical-align: middle;\n    }\n\n    .dataframe tbody tr th {\n        vertical-align: top;\n    }\n\n    .dataframe thead th {\n        text-align: right;\n    }\n</style>\n<table border=\"1\" class=\"dataframe\">\n  <thead>\n    <tr style=\"text-align: right;\">\n      <th></th>\n      <th>metro_nonmetro</th>\n      <th>year</th>\n      <th>county_name</th>\n      <th>state_abbr</th>\n      <th>value</th>\n    </tr>\n  </thead>\n  <tbody>\n    <tr>\n      <th>7961</th>\n      <td>Metropolitan</td>\n      <td>2014</td>\n      <td>Hidalgo</td>\n      <td>TX</td>\n      <td>46.011224</td>\n    </tr>\n    <tr>\n      <th>7938</th>\n      <td>Metropolitan</td>\n      <td>2014</td>\n      <td>Cameron</td>\n      <td>TX</td>\n      <td>43.589030</td>\n    </tr>\n    <tr>\n      <th>26384</th>\n      <td>Nonmetropolitan</td>\n      <td>2014</td>\n      <td>Starr</td>\n      <td>TX</td>\n      <td>42.792949</td>\n    </tr>\n    <tr>\n      <th>8000</th>\n      <td>Metropolitan</td>\n      <td>2014</td>\n      <td>Webb</td>\n      <td>TX</td>\n      <td>41.529576</td>\n    </tr>\n    <tr>\n      <th>24639</th>\n      <td>Nonmetropolitan</td>\n      <td>2014</td>\n      <td>Aleutians East</td>\n      <td>AK</td>\n      <td>41.363145</td>\n    </tr>\n    <tr>\n      <th>26346</th>\n      <td>Nonmetropolitan</td>\n      <td>2014</td>\n      <td>Maverick</td>\n      <td>TX</td>\n      <td>39.866688</td>\n    </tr>\n    <tr>\n      <th>26258</th>\n      <td>Nonmetropolitan</td>\n      <td>2014</td>\n      <td>Castro</td>\n      <td>TX</td>\n      <td>39.476124</td>\n    </tr>\n    <tr>\n      <th>24664</th>\n      <td>Nonmetropolitan</td>\n      <td>2014</td>\n      <td>Yukon-Koyukuk Census Area</td>\n      <td>AK</td>\n      <td>39.400428</td>\n    </tr>\n    <tr>\n      <th>25032</th>\n      <td>Nonmetropolitan</td>\n      <td>2014</td>\n      <td>Clark</td>\n      <td>ID</td>\n      <td>39.344262</td>\n    </tr>\n    <tr>\n      <th>26366</th>\n      <td>Nonmetropolitan</td>\n      <td>2014</td>\n      <td>Presidio</td>\n      <td>TX</td>\n      <td>38.689674</td>\n    </tr>\n  </tbody>\n</table>\n</div>",
      "text/plain": "        metro_nonmetro  year                county_name state_abbr      value\n7961      Metropolitan  2014                    Hidalgo         TX  46.011224\n7938      Metropolitan  2014                    Cameron         TX  43.589030\n26384  Nonmetropolitan  2014                      Starr         TX  42.792949\n8000      Metropolitan  2014                       Webb         TX  41.529576\n24639  Nonmetropolitan  2014             Aleutians East         AK  41.363145\n26346  Nonmetropolitan  2014                   Maverick         TX  39.866688\n26258  Nonmetropolitan  2014                     Castro         TX  39.476124\n24664  Nonmetropolitan  2014  Yukon-Koyukuk Census Area         AK  39.400428\n25032  Nonmetropolitan  2014                      Clark         ID  39.344262\n26366  Nonmetropolitan  2014                   Presidio         TX  38.689674"
     },
     "execution_count": 29,
     "metadata": {},
     "output_type": "execute_result"
    }
   ],
   "source": [
    "# Worst 10 States per Obesity Prevalence\n",
    "uninsured_total_df[uninsured_total_df.year == 2014].sort_values(by=['value'], ascending=[0])[0:10]"
   ]
  },
  {
   "cell_type": "code",
   "execution_count": 30,
   "metadata": {},
   "outputs": [
    {
     "data": {
      "text/html": "<div>\n<style scoped>\n    .dataframe tbody tr th:only-of-type {\n        vertical-align: middle;\n    }\n\n    .dataframe tbody tr th {\n        vertical-align: top;\n    }\n\n    .dataframe thead th {\n        text-align: right;\n    }\n</style>\n<table border=\"1\" class=\"dataframe\">\n  <thead>\n    <tr style=\"text-align: right;\">\n      <th></th>\n      <th>metro_nonmetro</th>\n      <th>year</th>\n      <th>county_name</th>\n      <th>state_abbr</th>\n      <th>value</th>\n    </tr>\n  </thead>\n  <tbody>\n    <tr>\n      <th>7455</th>\n      <td>Metropolitan</td>\n      <td>2014</td>\n      <td>Berkshire</td>\n      <td>MA</td>\n      <td>4.701247</td>\n    </tr>\n    <tr>\n      <th>7454</th>\n      <td>Metropolitan</td>\n      <td>2014</td>\n      <td>Barnstable</td>\n      <td>MA</td>\n      <td>4.694378</td>\n    </tr>\n    <tr>\n      <th>25898</th>\n      <td>Nonmetropolitan</td>\n      <td>2014</td>\n      <td>Los Alamos</td>\n      <td>NM</td>\n      <td>4.605453</td>\n    </tr>\n    <tr>\n      <th>7459</th>\n      <td>Metropolitan</td>\n      <td>2014</td>\n      <td>Hampshire</td>\n      <td>MA</td>\n      <td>4.460905</td>\n    </tr>\n    <tr>\n      <th>7464</th>\n      <td>Metropolitan</td>\n      <td>2014</td>\n      <td>Worcester</td>\n      <td>MA</td>\n      <td>4.257100</td>\n    </tr>\n    <tr>\n      <th>7462</th>\n      <td>Metropolitan</td>\n      <td>2014</td>\n      <td>Plymouth</td>\n      <td>MA</td>\n      <td>4.160150</td>\n    </tr>\n    <tr>\n      <th>25365</th>\n      <td>Nonmetropolitan</td>\n      <td>2014</td>\n      <td>Franklin</td>\n      <td>MA</td>\n      <td>4.113288</td>\n    </tr>\n    <tr>\n      <th>7460</th>\n      <td>Metropolitan</td>\n      <td>2014</td>\n      <td>Middlesex</td>\n      <td>MA</td>\n      <td>3.812666</td>\n    </tr>\n    <tr>\n      <th>7461</th>\n      <td>Metropolitan</td>\n      <td>2014</td>\n      <td>Norfolk</td>\n      <td>MA</td>\n      <td>3.276437</td>\n    </tr>\n    <tr>\n      <th>7246</th>\n      <td>Metropolitan</td>\n      <td>2014</td>\n      <td>Kalawao</td>\n      <td>HI</td>\n      <td>0.000000</td>\n    </tr>\n  </tbody>\n</table>\n</div>",
      "text/plain": "        metro_nonmetro  year county_name state_abbr     value\n7455      Metropolitan  2014   Berkshire         MA  4.701247\n7454      Metropolitan  2014  Barnstable         MA  4.694378\n25898  Nonmetropolitan  2014  Los Alamos         NM  4.605453\n7459      Metropolitan  2014   Hampshire         MA  4.460905\n7464      Metropolitan  2014   Worcester         MA  4.257100\n7462      Metropolitan  2014    Plymouth         MA  4.160150\n25365  Nonmetropolitan  2014    Franklin         MA  4.113288\n7460      Metropolitan  2014   Middlesex         MA  3.812666\n7461      Metropolitan  2014     Norfolk         MA  3.276437\n7246      Metropolitan  2014     Kalawao         HI  0.000000"
     },
     "execution_count": 30,
     "metadata": {},
     "output_type": "execute_result"
    }
   ],
   "source": [
    "# Top 10 States per Obesity Prevalence\n",
    "uninsured_total_df[uninsured_total_df.year == 2014].sort_values(by=['value'], ascending=[0])[-10:]"
   ]
  },
  {
   "cell_type": "code",
   "execution_count": 34,
   "metadata": {},
   "outputs": [
    {
     "name": "stdout",
     "output_type": "stream",
     "text": "adding a second layer\n"
    }
   ],
   "source": [
    "# per state\n",
    "m = genFoliumMap(title='Uninsured (in %) per state (2014)', state_data=uninsured_total_df[uninsured_total_df.year == 2014], cols = ['state_abbr', 'value'], mapType='states', color = 'Blues')\n",
    "\n",
    "# per county\n",
    "m = genFoliumMap(title='Uninsured (in %) per county (2014)', state_data=uninsured_total_df[uninsured_total_df.year == 2014], cols = ['county_name', 'value'], mapType='counties', my_map = m, color = 'Blues')\n",
    "\n",
    "m = addLayerControl(m)\n",
    "saveFinalMap(m, 'Uninsured (in %) (2014)')"
   ]
  },
  {
   "cell_type": "code",
   "execution_count": 32,
   "metadata": {},
   "outputs": [
    {
     "name": "stdout",
     "output_type": "stream",
     "text": "adding a second layer\n"
    }
   ],
   "source": [
    "# metro\n",
    "m = genFoliumMap(title='Uninsured (in %) per county (2014)(Metro)', state_data=uninsured_total_df[(uninsured_total_df.year == 2014) & (uninsured_total_df.metro_nonmetro == 'Metropolitan')], cols = ['county_name', 'value'], mapType='counties', color = 'Purples')\n",
    "\n",
    "# nonmetro\n",
    "m = genFoliumMap(title='Uninsured per (in %) county (2014)(Nonmetro)', state_data=uninsured_total_df[(uninsured_total_df.year == 2014) & (uninsured_total_df.metro_nonmetro == 'Nonmetropolitan')], cols = ['county_name', 'value'], mapType='counties', my_map = m, color = 'RdPu')\n",
    "\n",
    "m = addLayerControl(m)\n",
    "saveFinalMap(m, 'Uninsured (in %) (2014) (Metro-Nonmetro)')"
   ]
  },
  {
   "cell_type": "markdown",
   "execution_count": null,
   "metadata": {},
   "outputs": [],
   "source": [
    "## Medical Infrastructure\n",
    "Divides into three categories: doctors per 10.000, physicians per 10.000 and the proportion of physicians under 35"
   ]
  },
  {
   "cell_type": "code",
   "execution_count": 5,
   "metadata": {},
   "outputs": [
    {
     "data": {
      "text/html": "<div>\n<style scoped>\n    .dataframe tbody tr th:only-of-type {\n        vertical-align: middle;\n    }\n\n    .dataframe tbody tr th {\n        vertical-align: top;\n    }\n\n    .dataframe thead th {\n        text-align: right;\n    }\n</style>\n<table border=\"1\" class=\"dataframe\">\n  <thead>\n    <tr style=\"text-align: right;\">\n      <th></th>\n      <th>metro_nonmetro</th>\n      <th>year</th>\n      <th>county_name</th>\n      <th>state_abbr</th>\n      <th>indicator</th>\n      <th>value</th>\n      <th>value_real</th>\n    </tr>\n  </thead>\n  <tbody>\n    <tr>\n      <th>0</th>\n      <td>Metropolitan</td>\n      <td>2017</td>\n      <td>Anchorage</td>\n      <td>AK</td>\n      <td>doctors-per-10000</td>\n      <td>0.003526</td>\n      <td>35.261270</td>\n    </tr>\n    <tr>\n      <th>1</th>\n      <td>Metropolitan</td>\n      <td>2017</td>\n      <td>Fairbanks North Star</td>\n      <td>AK</td>\n      <td>doctors-per-10000</td>\n      <td>0.001900</td>\n      <td>18.995463</td>\n    </tr>\n    <tr>\n      <th>2</th>\n      <td>Metropolitan</td>\n      <td>2017</td>\n      <td>Matanuska-Susitna</td>\n      <td>AK</td>\n      <td>doctors-per-10000</td>\n      <td>0.000948</td>\n      <td>9.478673</td>\n    </tr>\n    <tr>\n      <th>3</th>\n      <td>Metropolitan</td>\n      <td>2017</td>\n      <td>Autauga</td>\n      <td>AL</td>\n      <td>doctors-per-10000</td>\n      <td>0.000683</td>\n      <td>6.834409</td>\n    </tr>\n    <tr>\n      <th>4</th>\n      <td>Metropolitan</td>\n      <td>2017</td>\n      <td>Baldwin</td>\n      <td>AL</td>\n      <td>doctors-per-10000</td>\n      <td>0.001913</td>\n      <td>19.126510</td>\n    </tr>\n    <tr>\n      <th>...</th>\n      <td>...</td>\n      <td>...</td>\n      <td>...</td>\n      <td>...</td>\n      <td>...</td>\n      <td>...</td>\n      <td>...</td>\n    </tr>\n    <tr>\n      <th>9421</th>\n      <td>Nonmetropolitan</td>\n      <td>2017</td>\n      <td>Sweetwater</td>\n      <td>WY</td>\n      <td>physicians-per-10000</td>\n      <td>0.001324</td>\n      <td>13.240111</td>\n    </tr>\n    <tr>\n      <th>9422</th>\n      <td>Nonmetropolitan</td>\n      <td>2017</td>\n      <td>Teton</td>\n      <td>WY</td>\n      <td>physicians-per-10000</td>\n      <td>0.004982</td>\n      <td>49.824531</td>\n    </tr>\n    <tr>\n      <th>9423</th>\n      <td>Nonmetropolitan</td>\n      <td>2017</td>\n      <td>Uinta</td>\n      <td>WY</td>\n      <td>physicians-per-10000</td>\n      <td>0.001232</td>\n      <td>12.315878</td>\n    </tr>\n    <tr>\n      <th>9424</th>\n      <td>Nonmetropolitan</td>\n      <td>2017</td>\n      <td>Washakie</td>\n      <td>WY</td>\n      <td>physicians-per-10000</td>\n      <td>0.000888</td>\n      <td>8.877616</td>\n    </tr>\n    <tr>\n      <th>9425</th>\n      <td>Nonmetropolitan</td>\n      <td>2017</td>\n      <td>Weston</td>\n      <td>WY</td>\n      <td>physicians-per-10000</td>\n      <td>0.000574</td>\n      <td>5.741352</td>\n    </tr>\n  </tbody>\n</table>\n<p>8042 rows × 7 columns</p>\n</div>",
      "text/plain": "       metro_nonmetro  year           county_name state_abbr  \\\n0        Metropolitan  2017             Anchorage         AK   \n1        Metropolitan  2017  Fairbanks North Star         AK   \n2        Metropolitan  2017     Matanuska-Susitna         AK   \n3        Metropolitan  2017               Autauga         AL   \n4        Metropolitan  2017               Baldwin         AL   \n...               ...   ...                   ...        ...   \n9421  Nonmetropolitan  2017            Sweetwater         WY   \n9422  Nonmetropolitan  2017                 Teton         WY   \n9423  Nonmetropolitan  2017                 Uinta         WY   \n9424  Nonmetropolitan  2017              Washakie         WY   \n9425  Nonmetropolitan  2017                Weston         WY   \n\n                 indicator     value  value_real  \n0        doctors-per-10000  0.003526   35.261270  \n1        doctors-per-10000  0.001900   18.995463  \n2        doctors-per-10000  0.000948    9.478673  \n3        doctors-per-10000  0.000683    6.834409  \n4        doctors-per-10000  0.001913   19.126510  \n...                    ...       ...         ...  \n9421  physicians-per-10000  0.001324   13.240111  \n9422  physicians-per-10000  0.004982   49.824531  \n9423  physicians-per-10000  0.001232   12.315878  \n9424  physicians-per-10000  0.000888    8.877616  \n9425  physicians-per-10000  0.000574    5.741352  \n\n[8042 rows x 7 columns]"
     },
     "execution_count": 5,
     "metadata": {},
     "output_type": "execute_result"
    }
   ],
   "source": [
    "medical_df = loadIndicatorData('medical-infrastructure', 'medical-infrastructure')\n",
    "medical_df = medical_df[medical_df['value_real'] > .0] # to avoid problems with the means we remove counties with 0.0 values\n",
    "medical_df"
   ]
  },
  {
   "cell_type": "code",
   "execution_count": 6,
   "metadata": {},
   "outputs": [
    {
     "data": {
      "text/html": "<div>\n<style scoped>\n    .dataframe tbody tr th:only-of-type {\n        vertical-align: middle;\n    }\n\n    .dataframe tbody tr th {\n        vertical-align: top;\n    }\n\n    .dataframe thead th {\n        text-align: right;\n    }\n</style>\n<table border=\"1\" class=\"dataframe\">\n  <thead>\n    <tr style=\"text-align: right;\">\n      <th></th>\n      <th>state_abbr</th>\n      <th>metro_nonmetro</th>\n      <th>indicator</th>\n      <th>year</th>\n      <th>value</th>\n      <th>value_real</th>\n    </tr>\n  </thead>\n  <tbody>\n    <tr>\n      <th>0</th>\n      <td>AK</td>\n      <td>Metropolitan</td>\n      <td>doctors-per-10000</td>\n      <td>2017</td>\n      <td>0.002125</td>\n      <td>21.245135</td>\n    </tr>\n    <tr>\n      <th>1</th>\n      <td>AK</td>\n      <td>Metropolitan</td>\n      <td>physicians-per-10000</td>\n      <td>2017</td>\n      <td>0.002500</td>\n      <td>25.000498</td>\n    </tr>\n    <tr>\n      <th>2</th>\n      <td>AK</td>\n      <td>Metropolitan</td>\n      <td>physicians-under-35</td>\n      <td>2017</td>\n      <td>0.062366</td>\n      <td>6.236627</td>\n    </tr>\n    <tr>\n      <th>3</th>\n      <td>AK</td>\n      <td>Nonmetropolitan</td>\n      <td>doctors-per-10000</td>\n      <td>2017</td>\n      <td>0.001439</td>\n      <td>14.387542</td>\n    </tr>\n    <tr>\n      <th>4</th>\n      <td>AK</td>\n      <td>Nonmetropolitan</td>\n      <td>physicians-per-10000</td>\n      <td>2017</td>\n      <td>0.001553</td>\n      <td>15.529957</td>\n    </tr>\n    <tr>\n      <th>...</th>\n      <td>...</td>\n      <td>...</td>\n      <td>...</td>\n      <td>...</td>\n      <td>...</td>\n      <td>...</td>\n    </tr>\n    <tr>\n      <th>289</th>\n      <td>WY</td>\n      <td>Metropolitan</td>\n      <td>physicians-per-10000</td>\n      <td>2017</td>\n      <td>0.002612</td>\n      <td>26.116315</td>\n    </tr>\n    <tr>\n      <th>290</th>\n      <td>WY</td>\n      <td>Metropolitan</td>\n      <td>physicians-under-35</td>\n      <td>2017</td>\n      <td>0.068228</td>\n      <td>6.822778</td>\n    </tr>\n    <tr>\n      <th>291</th>\n      <td>WY</td>\n      <td>Nonmetropolitan</td>\n      <td>doctors-per-10000</td>\n      <td>2017</td>\n      <td>0.001268</td>\n      <td>12.682875</td>\n    </tr>\n    <tr>\n      <th>292</th>\n      <td>WY</td>\n      <td>Nonmetropolitan</td>\n      <td>physicians-per-10000</td>\n      <td>2017</td>\n      <td>0.001423</td>\n      <td>14.233232</td>\n    </tr>\n    <tr>\n      <th>293</th>\n      <td>WY</td>\n      <td>Nonmetropolitan</td>\n      <td>physicians-under-35</td>\n      <td>2017</td>\n      <td>0.047475</td>\n      <td>4.747525</td>\n    </tr>\n  </tbody>\n</table>\n<p>294 rows × 6 columns</p>\n</div>",
      "text/plain": "    state_abbr   metro_nonmetro             indicator  year     value  \\\n0           AK     Metropolitan     doctors-per-10000  2017  0.002125   \n1           AK     Metropolitan  physicians-per-10000  2017  0.002500   \n2           AK     Metropolitan   physicians-under-35  2017  0.062366   \n3           AK  Nonmetropolitan     doctors-per-10000  2017  0.001439   \n4           AK  Nonmetropolitan  physicians-per-10000  2017  0.001553   \n..         ...              ...                   ...   ...       ...   \n289         WY     Metropolitan  physicians-per-10000  2017  0.002612   \n290         WY     Metropolitan   physicians-under-35  2017  0.068228   \n291         WY  Nonmetropolitan     doctors-per-10000  2017  0.001268   \n292         WY  Nonmetropolitan  physicians-per-10000  2017  0.001423   \n293         WY  Nonmetropolitan   physicians-under-35  2017  0.047475   \n\n     value_real  \n0     21.245135  \n1     25.000498  \n2      6.236627  \n3     14.387542  \n4     15.529957  \n..          ...  \n289   26.116315  \n290    6.822778  \n291   12.682875  \n292   14.233232  \n293    4.747525  \n\n[294 rows x 6 columns]"
     },
     "execution_count": 6,
     "metadata": {},
     "output_type": "execute_result"
    }
   ],
   "source": [
    "medical_grouped_df = medical_df.groupby(['state_abbr', 'metro_nonmetro', 'indicator'], as_index = False).mean()\n",
    "medical_grouped_df"
   ]
  },
  {
   "cell_type": "code",
   "execution_count": 7,
   "metadata": {},
   "outputs": [
    {
     "name": "stdout",
     "output_type": "stream",
     "text": "adding a second layer\nadding a second layer\n"
    }
   ],
   "source": [
    "# per state\n",
    "my_map = genFoliumMap(title='Doctors per 10000 per state (2017)', state_data=medical_df[medical_df.indicator == 'doctors-per-10000'], cols = ['state_abbr', 'value_real'], mapType='states', save = False, color='BuGn')\n",
    "my_map = genFoliumMap(title='Physicians under 35 per 100 per state (2017)', state_data=medical_df[medical_df.indicator == 'physicians-under-35'], cols = ['state_abbr', 'value_real'], mapType='states', save = False, my_map=my_map, color='BuPu')\n",
    "my_map = genFoliumMap(title='Physicians per 10000 per state (2017)', state_data=medical_df[medical_df.indicator == 'physicians-per-10000'], cols = ['state_abbr', 'value_real'], mapType='states', save = False, my_map=my_map, color = 'OrRd')\n",
    "\n",
    "my_map = addLayerControl(my_map)\n",
    "saveFinalMap(my_map, 'Medical Access (2017)')"
   ]
  },
  {
   "cell_type": "code",
   "execution_count": 8,
   "metadata": {},
   "outputs": [
    {
     "name": "stdout",
     "output_type": "stream",
     "text": "adding a second layer\nadding a second layer\n"
    }
   ],
   "source": [
    "# per county\n",
    "my_map = genFoliumMap(title='Doctors per 10000 per state (2017)', state_data=medical_df[medical_df.indicator == 'doctors-per-10000'], cols = ['county_name', 'value_real'], mapType='counties', save = False, color='BuGn')\n",
    "my_map = genFoliumMap(title='Physicians under 35 per 100 per state (2017)', state_data=medical_df[medical_df.indicator == 'physicians-under-35'], cols = ['county_name', 'value_real'], mapType='counties', save = False, my_map=my_map, color='BuPu')\n",
    "my_map = genFoliumMap(title='Physicians per 10000 per state (2017)', state_data=medical_df[medical_df.indicator == 'physicians-per-10000'], cols = ['county_name', 'value_real'], mapType='counties', save = False, my_map=my_map, color = 'OrRd')\n",
    "\n",
    "my_map = addLayerControl(my_map)\n",
    "saveFinalMap(my_map, 'Medical Access (2017) (County)')"
   ]
  },
  {
   "cell_type": "code",
   "execution_count": 10,
   "metadata": {},
   "outputs": [
    {
     "name": "stdout",
     "output_type": "stream",
     "text": "adding a second layer\nadding a second layer\n"
    }
   ],
   "source": [
    "# metro\n",
    "m = genFoliumMap(title='Doctors per 10000 per County (2017) (Metro)', state_data=medical_df[(medical_df.indicator == 'doctors-per-10000') & (medical_df.metro_nonmetro == 'Metropolitan')], cols = ['county_name', 'value_real'], mapType='counties', color = 'BuGn')\n",
    "m = genFoliumMap(title='Physicians under 35 per 100 per County (2017) (Metro)', state_data=medical_df[(medical_df.indicator == 'physicians-under-35') & (medical_df.metro_nonmetro == 'Metropolitan')], cols = ['county_name', 'value_real'], mapType='counties', save = False, my_map=m, color='BuPu')\n",
    "m = genFoliumMap(title='Physicians per 10000 per County (2017) (Metro)', state_data=medical_df[(medical_df.indicator == 'physicians-per-10000') & (medical_df.metro_nonmetro == 'Metropolitan')], cols = ['county_name', 'value_real'], mapType='counties', save = False, my_map=m, color = 'OrRd')\n",
    "\n",
    "m = addLayerControl(m)\n",
    "saveFinalMap(m, 'Medical Access (2017) (County) (Metro)')\n",
    "\n",
    "# nonmetro\n",
    "#m = genFoliumMap(title='Without high school degree per (in %) county (2017)(Nonmetro)', state_data=education_total_df[(education_total_df.year == 2017) & (education_total_df.metro_nonmetro == 'Nonmetropolitan')], cols = ['county_name', 'value'], mapType='counties', save = True)"
   ]
  },
  {
   "cell_type": "code",
   "execution_count": 11,
   "metadata": {},
   "outputs": [
    {
     "name": "stdout",
     "output_type": "stream",
     "text": "adding a second layer\nadding a second layer\n"
    }
   ],
   "source": [
    "# metro\n",
    "m = genFoliumMap(title='Doctors per 10000 per County (2017) (Nonmetro)', state_data=medical_df[(medical_df.indicator == 'doctors-per-10000') & (medical_df.metro_nonmetro == 'Nonmetropolitan')], cols = ['county_name', 'value_real'], mapType='counties', color = 'BuGn')\n",
    "m = genFoliumMap(title='Physicians under 35 per 100 per County (2017) (Nonmetro)', state_data=medical_df[(medical_df.indicator == 'physicians-under-35') & (medical_df.metro_nonmetro == 'Nonmetropolitan')], cols = ['county_name', 'value_real'], mapType='counties', save = False, my_map=m, color='BuPu')\n",
    "m = genFoliumMap(title='Physicians per 10000 per County (2017) (Nonmetro)', state_data=medical_df[(medical_df.indicator == 'physicians-per-10000') & (medical_df.metro_nonmetro == 'Nonmetropolitan')], cols = ['county_name', 'value_real'], mapType='counties', save = False, my_map=m, color = 'OrRd')\n",
    "\n",
    "m = addLayerControl(m)\n",
    "saveFinalMap(m, 'Medical Access (2017) (County) (Nonmetro)')"
   ]
  },
  {
   "cell_type": "markdown",
   "execution_count": null,
   "metadata": {},
   "outputs": [],
   "source": [
    "### That's it!"
   ]
  }
 ]
}