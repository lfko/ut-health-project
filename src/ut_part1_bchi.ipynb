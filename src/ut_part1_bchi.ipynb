{
 "nbformat": 4,
 "nbformat_minor": 2,
 "metadata": {
  "language_info": {
   "name": "python",
   "codemirror_mode": {
    "name": "ipython",
    "version": 3
   },
   "version": "3.7.4"
  },
  "orig_nbformat": 2,
  "file_extension": ".py",
  "mimetype": "text/x-python",
  "name": "python",
  "npconvert_exporter": "python",
  "pygments_lexer": "ipython3",
  "version": 3
 },
 "cells": [
  {
   "cell_type": "code",
   "execution_count": 1,
   "metadata": {},
   "outputs": [
    {
     "data": {
      "text/plain": "'\\n    @date 12/02/19\\n    @author Florian \"lefko\" Becker\\n    @summary part I: exploratory data analysis\\n'"
     },
     "execution_count": 1,
     "metadata": {},
     "output_type": "execute_result"
    }
   ],
   "source": [
    "\"\"\"\n",
    "    @date 12/02/19\n",
    "    @author Florian \"lefko\" Becker\n",
    "    @summary part I: exploratory data analysis\n",
    "\"\"\""
   ]
  },
  {
   "cell_type": "code",
   "execution_count": 8,
   "metadata": {},
   "outputs": [],
   "source": [
    "# necessary imports\n",
    "import pandas as pd\n",
    "import os"
   ]
  },
  {
   "cell_type": "code",
   "execution_count": 9,
   "metadata": {},
   "outputs": [
    {
     "data": {
      "text/plain": "'/home/lefko/git'"
     },
     "execution_count": 9,
     "metadata": {},
     "output_type": "execute_result"
    }
   ],
   "source": [
    "# current working directory\n",
    "os.getcwd()"
   ]
  },
  {
   "cell_type": "code",
   "execution_count": 22,
   "metadata": {},
   "outputs": [
    {
     "name": "stdout",
     "output_type": "stream",
     "text": "34492\n"
    }
   ],
   "source": [
    "# load the bchi dataset; this is the complete dataset, ~ 16 MB of size\n",
    "bchi_df = pd.read_csv('./ut-health-project/data/BCHI-dataset_2019-03-04.csv')\n",
    "print(len(bchi_df))"
   ]
  },
  {
   "cell_type": "code",
   "execution_count": 11,
   "metadata": {},
   "outputs": [
    {
     "data": {
      "text/html": "<div>\n<style scoped>\n    .dataframe tbody tr th:only-of-type {\n        vertical-align: middle;\n    }\n\n    .dataframe tbody tr th {\n        vertical-align: top;\n    }\n\n    .dataframe thead th {\n        text-align: right;\n    }\n</style>\n<table border=\"1\" class=\"dataframe\">\n  <thead>\n    <tr style=\"text-align: right;\">\n      <th></th>\n      <th>Indicator Category</th>\n      <th>Indicator</th>\n      <th>Year</th>\n      <th>Sex</th>\n      <th>Race/Ethnicity</th>\n      <th>Value</th>\n      <th>Place</th>\n      <th>BCHC Requested Methodology</th>\n      <th>Source</th>\n      <th>Methods</th>\n      <th>Notes</th>\n      <th>90% Confidence Level - Low</th>\n      <th>90% Confidence Level - High</th>\n      <th>95% Confidence Level - Low</th>\n      <th>95% Confidence Level - High</th>\n    </tr>\n  </thead>\n  <tbody>\n    <tr>\n      <th>0</th>\n      <td>Behavioral Health/Substance Abuse</td>\n      <td>Opioid-Related Unintentional Drug Overdose Mor...</td>\n      <td>2010</td>\n      <td>Both</td>\n      <td>All</td>\n      <td>1.7</td>\n      <td>Washington, DC</td>\n      <td>Age-Adjusted rate of opioid-related mortality ...</td>\n      <td>D.C. Department of Health, Center for Policy, ...</td>\n      <td>NaN</td>\n      <td>This indicator is not exclusive of other drugs...</td>\n      <td>NaN</td>\n      <td>NaN</td>\n      <td>NaN</td>\n      <td>NaN</td>\n    </tr>\n    <tr>\n      <th>1</th>\n      <td>Behavioral Health/Substance Abuse</td>\n      <td>Opioid-Related Unintentional Drug Overdose Mor...</td>\n      <td>2010</td>\n      <td>Both</td>\n      <td>All</td>\n      <td>2.2</td>\n      <td>Fort Worth (Tarrant County), TX</td>\n      <td>Age-adjusted rate of opioid-related mortality ...</td>\n      <td>National Center for Health Statistics</td>\n      <td>NaN</td>\n      <td>This indicator is not exclusive of other drugs...</td>\n      <td>NaN</td>\n      <td>NaN</td>\n      <td>1.5</td>\n      <td>3.0</td>\n    </tr>\n    <tr>\n      <th>2</th>\n      <td>Behavioral Health/Substance Abuse</td>\n      <td>Opioid-Related Unintentional Drug Overdose Mor...</td>\n      <td>2010</td>\n      <td>Both</td>\n      <td>All</td>\n      <td>2.3</td>\n      <td>Oakland (Alameda County), CA</td>\n      <td>Age-adjusted rate of opioid-related mortality ...</td>\n      <td>CDC Wonder</td>\n      <td>Age-adjusted rate of opioid-related mortality ...</td>\n      <td>Data is for Alameda County. This indicator is ...</td>\n      <td>NaN</td>\n      <td>NaN</td>\n      <td>1.6</td>\n      <td>3.2</td>\n    </tr>\n    <tr>\n      <th>3</th>\n      <td>Behavioral Health/Substance Abuse</td>\n      <td>Opioid-Related Unintentional Drug Overdose Mor...</td>\n      <td>2010</td>\n      <td>Both</td>\n      <td>All</td>\n      <td>3.0</td>\n      <td>San Antonio, TX</td>\n      <td>Age-adjusted rate of opioid-related mortality ...</td>\n      <td>CDC Wonder</td>\n      <td>NaN</td>\n      <td>This indicator is not exclusive of other drugs...</td>\n      <td>NaN</td>\n      <td>NaN</td>\n      <td>2.2</td>\n      <td>3.9</td>\n    </tr>\n    <tr>\n      <th>4</th>\n      <td>Behavioral Health/Substance Abuse</td>\n      <td>Opioid-Related Unintentional Drug Overdose Mor...</td>\n      <td>2010</td>\n      <td>Both</td>\n      <td>All</td>\n      <td>4.4</td>\n      <td>U.S. Total, U.S. Total</td>\n      <td>Age-Adjusted rate of opioid-related mortality ...</td>\n      <td>CDC WONDER</td>\n      <td>NaN</td>\n      <td>This indicator is not exclusive of other drugs...</td>\n      <td>NaN</td>\n      <td>NaN</td>\n      <td>4.4</td>\n      <td>4.5</td>\n    </tr>\n    <tr>\n      <th>5</th>\n      <td>Behavioral Health/Substance Abuse</td>\n      <td>Opioid-Related Unintentional Drug Overdose Mor...</td>\n      <td>2010</td>\n      <td>Both</td>\n      <td>All</td>\n      <td>5.2</td>\n      <td>San Diego County, CA</td>\n      <td>Age-adjusted rate of opioid-related mortality ...</td>\n      <td>Centers for Disease Control and Prevention, Na...</td>\n      <td>All data was pulled using the CDC WONDER morta...</td>\n      <td>This indicator is not exclusive of other drugs...</td>\n      <td>NaN</td>\n      <td>NaN</td>\n      <td>4.4</td>\n      <td>6.0</td>\n    </tr>\n    <tr>\n      <th>6</th>\n      <td>Behavioral Health/Substance Abuse</td>\n      <td>Opioid-Related Unintentional Drug Overdose Mor...</td>\n      <td>2010</td>\n      <td>Both</td>\n      <td>All</td>\n      <td>5.4</td>\n      <td>Kansas City, MO</td>\n      <td>Age-adjusted rate of opioid-related mortality ...</td>\n      <td>NaN</td>\n      <td>NaN</td>\n      <td>This indicator is not exclusive of other drugs...</td>\n      <td>NaN</td>\n      <td>NaN</td>\n      <td>NaN</td>\n      <td>NaN</td>\n    </tr>\n    <tr>\n      <th>7</th>\n      <td>Behavioral Health/Substance Abuse</td>\n      <td>Opioid-Related Unintentional Drug Overdose Mor...</td>\n      <td>2010</td>\n      <td>Both</td>\n      <td>All</td>\n      <td>6.3</td>\n      <td>Denver, CO</td>\n      <td>Age-adjusted rate of opioid-related mortality ...</td>\n      <td>Mortality data from the Colorado Department of...</td>\n      <td>NaN</td>\n      <td>This indicator is not exclusive of other drugs...</td>\n      <td>NaN</td>\n      <td>NaN</td>\n      <td>NaN</td>\n      <td>NaN</td>\n    </tr>\n    <tr>\n      <th>8</th>\n      <td>Behavioral Health/Substance Abuse</td>\n      <td>Opioid-Related Unintentional Drug Overdose Mor...</td>\n      <td>2010</td>\n      <td>Both</td>\n      <td>All</td>\n      <td>11.3</td>\n      <td>Las Vegas (Clark County), NV</td>\n      <td>Age-adjusted rate of opioid-related mortality ...</td>\n      <td>Nevada Vital Records - Clark County Deaths</td>\n      <td>NaN</td>\n      <td>This indicator is not exclusive of other drugs...</td>\n      <td>NaN</td>\n      <td>NaN</td>\n      <td>9.8</td>\n      <td>12.8</td>\n    </tr>\n    <tr>\n      <th>9</th>\n      <td>Behavioral Health/Substance Abuse</td>\n      <td>Opioid-Related Unintentional Drug Overdose Mor...</td>\n      <td>2010</td>\n      <td>Both</td>\n      <td>All</td>\n      <td>11.8</td>\n      <td>Columbus, OH</td>\n      <td>Age-Adjusted rate of opioid-related mortality ...</td>\n      <td>Mortality data from Ohio Department of Health,...</td>\n      <td>NaN</td>\n      <td>This indicator is not exclusive of other drugs...</td>\n      <td>NaN</td>\n      <td>NaN</td>\n      <td>9.1</td>\n      <td>14.9</td>\n    </tr>\n  </tbody>\n</table>\n</div>",
      "text/plain": "                  Indicator Category  \\\n0  Behavioral Health/Substance Abuse   \n1  Behavioral Health/Substance Abuse   \n2  Behavioral Health/Substance Abuse   \n3  Behavioral Health/Substance Abuse   \n4  Behavioral Health/Substance Abuse   \n5  Behavioral Health/Substance Abuse   \n6  Behavioral Health/Substance Abuse   \n7  Behavioral Health/Substance Abuse   \n8  Behavioral Health/Substance Abuse   \n9  Behavioral Health/Substance Abuse   \n\n                                           Indicator  Year   Sex  \\\n0  Opioid-Related Unintentional Drug Overdose Mor...  2010  Both   \n1  Opioid-Related Unintentional Drug Overdose Mor...  2010  Both   \n2  Opioid-Related Unintentional Drug Overdose Mor...  2010  Both   \n3  Opioid-Related Unintentional Drug Overdose Mor...  2010  Both   \n4  Opioid-Related Unintentional Drug Overdose Mor...  2010  Both   \n5  Opioid-Related Unintentional Drug Overdose Mor...  2010  Both   \n6  Opioid-Related Unintentional Drug Overdose Mor...  2010  Both   \n7  Opioid-Related Unintentional Drug Overdose Mor...  2010  Both   \n8  Opioid-Related Unintentional Drug Overdose Mor...  2010  Both   \n9  Opioid-Related Unintentional Drug Overdose Mor...  2010  Both   \n\n  Race/Ethnicity  Value                            Place  \\\n0            All    1.7                   Washington, DC   \n1            All    2.2  Fort Worth (Tarrant County), TX   \n2            All    2.3     Oakland (Alameda County), CA   \n3            All    3.0                  San Antonio, TX   \n4            All    4.4           U.S. Total, U.S. Total   \n5            All    5.2             San Diego County, CA   \n6            All    5.4                  Kansas City, MO   \n7            All    6.3                       Denver, CO   \n8            All   11.3     Las Vegas (Clark County), NV   \n9            All   11.8                     Columbus, OH   \n\n                          BCHC Requested Methodology  \\\n0  Age-Adjusted rate of opioid-related mortality ...   \n1  Age-adjusted rate of opioid-related mortality ...   \n2  Age-adjusted rate of opioid-related mortality ...   \n3  Age-adjusted rate of opioid-related mortality ...   \n4  Age-Adjusted rate of opioid-related mortality ...   \n5  Age-adjusted rate of opioid-related mortality ...   \n6  Age-adjusted rate of opioid-related mortality ...   \n7  Age-adjusted rate of opioid-related mortality ...   \n8  Age-adjusted rate of opioid-related mortality ...   \n9  Age-Adjusted rate of opioid-related mortality ...   \n\n                                              Source  \\\n0  D.C. Department of Health, Center for Policy, ...   \n1              National Center for Health Statistics   \n2                                         CDC Wonder   \n3                                         CDC Wonder   \n4                                         CDC WONDER   \n5  Centers for Disease Control and Prevention, Na...   \n6                                                NaN   \n7  Mortality data from the Colorado Department of...   \n8         Nevada Vital Records - Clark County Deaths   \n9  Mortality data from Ohio Department of Health,...   \n\n                                             Methods  \\\n0                                                NaN   \n1                                                NaN   \n2  Age-adjusted rate of opioid-related mortality ...   \n3                                                NaN   \n4                                                NaN   \n5  All data was pulled using the CDC WONDER morta...   \n6                                                NaN   \n7                                                NaN   \n8                                                NaN   \n9                                                NaN   \n\n                                               Notes  \\\n0  This indicator is not exclusive of other drugs...   \n1  This indicator is not exclusive of other drugs...   \n2  Data is for Alameda County. This indicator is ...   \n3  This indicator is not exclusive of other drugs...   \n4  This indicator is not exclusive of other drugs...   \n5  This indicator is not exclusive of other drugs...   \n6  This indicator is not exclusive of other drugs...   \n7  This indicator is not exclusive of other drugs...   \n8  This indicator is not exclusive of other drugs...   \n9  This indicator is not exclusive of other drugs...   \n\n   90% Confidence Level - Low  90% Confidence Level - High  \\\n0                         NaN                          NaN   \n1                         NaN                          NaN   \n2                         NaN                          NaN   \n3                         NaN                          NaN   \n4                         NaN                          NaN   \n5                         NaN                          NaN   \n6                         NaN                          NaN   \n7                         NaN                          NaN   \n8                         NaN                          NaN   \n9                         NaN                          NaN   \n\n   95% Confidence Level - Low  95% Confidence Level - High  \n0                         NaN                          NaN  \n1                         1.5                          3.0  \n2                         1.6                          3.2  \n3                         2.2                          3.9  \n4                         4.4                          4.5  \n5                         4.4                          6.0  \n6                         NaN                          NaN  \n7                         NaN                          NaN  \n8                         9.8                         12.8  \n9                         9.1                         14.9  "
     },
     "execution_count": 11,
     "metadata": {},
     "output_type": "execute_result"
    }
   ],
   "source": [
    "bchi_df.head(10) # show first 10 rows"
   ]
  },
  {
   "cell_type": "code",
   "execution_count": 13,
   "metadata": {},
   "outputs": [
    {
     "name": "stdout",
     "output_type": "stream",
     "text": "[2010 2011 2012 2013 2014 2015 2016 2018 2017] ['Washington, DC' 'Fort Worth (Tarrant County), TX'\n 'Oakland (Alameda County), CA' 'San Antonio, TX' 'U.S. Total, U.S. Total'\n 'San Diego County, CA' 'Kansas City, MO' 'Denver, CO'\n 'Las Vegas (Clark County), NV' 'Columbus, OH' 'Phoenix, AZ' 'Boston, MA'\n 'Houston, TX' 'Minneapolis, MN' 'Los Angeles, CA'\n 'Miami (Miami-Dade County), FL' 'Portland (Multnomah County), OR'\n 'Charlotte, NC' 'Baltimore, MD' 'Philadelphia, PA' 'Seattle, WA'\n 'Detroit, MI' 'New York City, NY' 'Long Beach, CA' 'Chicago, Il'\n 'Indianapolis (Marion County), IN' 'San Jose, CA' 'San Francisco, CA'\n 'Cleveland, OH' 'Dallas, TX' 'Austin, TX']\n"
    }
   ],
   "source": [
    "# list unique values of 'Year' and 'Place'\n",
    "years = bchi_df.Year.unique()\n",
    "places = bchi_df.Place.unique()\n",
    "\n",
    "print(years, places)"
   ]
  },
  {
   "cell_type": "markdown",
   "execution_count": 15,
   "metadata": {},
   "outputs": [
    {
     "ename": "NameError",
     "evalue": "name 'aada' is not defined",
     "output_type": "error",
     "traceback": [
      "\u001b[0;31m---------------------------------------------------------------------------\u001b[0m",
      "\u001b[0;31mNameError\u001b[0m                                 Traceback (most recent call last)",
      "\u001b[0;32m<ipython-input-15-73325d7016ac>\u001b[0m in \u001b[0;36m<module>\u001b[0;34m\u001b[0m\n\u001b[0;32m----> 1\u001b[0;31m \u001b[0maada\u001b[0m\u001b[0;34m\u001b[0m\u001b[0;34m\u001b[0m\u001b[0m\n\u001b[0m",
      "\u001b[0;31mNameError\u001b[0m: name 'aada' is not defined"
     ]
    }
   ],
   "source": [
    "The problem is, that not for every year there is data available for every city, so now let's find those combinations of city/year, where both are found"
   ]
  },
  {
   "cell_type": "code",
   "execution_count": 42,
   "metadata": {},
   "outputs": [
    {
     "name": "stdout",
     "output_type": "stream",
     "text": "Place  count\n25          San Diego County, CA   1913\n8                     Denver, CO   1805\n14  Las Vegas (Clark County), NV   1780\n24               San Antonio, TX   1618\n2                     Boston, MA   1565\n"
    }
   ],
   "source": [
    "cities_grouped_per_rows = bchi_df.groupby('Place').Year.count().reset_index(name = 'count').sort_values(['count'], ascending = False)\n",
    "print(cities_grouped_per_rows[0:5])\n",
    "top5_cities = cities_grouped_per_rows[0:5].Place"
   ]
  },
  {
   "cell_type": "markdown",
   "execution_count": null,
   "metadata": {},
   "outputs": [],
   "source": [
    "So, we should focus only on the top 5 of the cities, since then we can assume, that there should be data available for all the years"
   ]
  },
  {
   "cell_type": "code",
   "execution_count": 52,
   "metadata": {},
   "outputs": [
    {
     "name": "stdout",
     "output_type": "stream",
     "text": "Indicator Category  \\\n3      Behavioral Health/Substance Abuse   \n5      Behavioral Health/Substance Abuse   \n7      Behavioral Health/Substance Abuse   \n8      Behavioral Health/Substance Abuse   \n12     Behavioral Health/Substance Abuse   \n...                                  ...   \n34467        Social and Economic Factors   \n34473        Social and Economic Factors   \n34477        Social and Economic Factors   \n34481        Social and Economic Factors   \n34485        Social and Economic Factors   \n\n                                               Indicator  Year   Sex  \\\n3      Opioid-Related Unintentional Drug Overdose Mor...  2010  Both   \n5      Opioid-Related Unintentional Drug Overdose Mor...  2010  Both   \n7      Opioid-Related Unintentional Drug Overdose Mor...  2010  Both   \n8      Opioid-Related Unintentional Drug Overdose Mor...  2010  Both   \n12     Opioid-Related Unintentional Drug Overdose Mor...  2010  Both   \n...                                                  ...   ...   ...   \n34467                                 Percent Unemployed  2014  Male   \n34473                                 Percent Unemployed  2014  Male   \n34477                                 Percent Unemployed  2014  Male   \n34481                                 Percent Unemployed  2014  Male   \n34485                                 Percent Unemployed  2014  Male   \n\n      Race/Ethnicity  Value                         Place  \\\n3                All    3.0               San Antonio, TX   \n5                All    5.2          San Diego County, CA   \n7                All    6.3                    Denver, CO   \n8                All   11.3  Las Vegas (Clark County), NV   \n12          Asian/PI    0.0                    Denver, CO   \n...              ...    ...                           ...   \n34467            All    4.4                    Denver, CO   \n34473            All    6.3               San Antonio, TX   \n34477            All    7.1          San Diego County, CA   \n34481            All    7.9                    Boston, MA   \n34485            All    8.7  Las Vegas (Clark County), NV   \n\n                              BCHC Requested Methodology  \\\n3      Age-adjusted rate of opioid-related mortality ...   \n5      Age-adjusted rate of opioid-related mortality ...   \n7      Age-adjusted rate of opioid-related mortality ...   \n8      Age-adjusted rate of opioid-related mortality ...   \n12     Age-adjusted rate of opioid-related mortality ...   \n...                                                  ...   \n34467  Percent of unemployment among population 16 an...   \n34473  Percent of unemployment among population 16 an...   \n34477  Percent of unemployment among population 16 an...   \n34481  Percent of unemployment among population 16 an...   \n34485  Percent of unemployment among population 16 an...   \n\n                                                  Source  \\\n3                                             CDC Wonder   \n5      Centers for Disease Control and Prevention, Na...   \n7      Mortality data from the Colorado Department of...   \n8             Nevada Vital Records - Clark County Deaths   \n12     Mortality data from the Colorado Department of...   \n...                                                  ...   \n34467  US Census Bureau, American Community Survey 1-...   \n34473  US Census Bureau, American Community Survey 1-...   \n34477  US Census Bureau, American Community Survey 1-...   \n34481  US Census Bureau, American Community Survey 1-...   \n34485  US Census Bureau, American Community Survey 1-...   \n\n                                                 Methods  \\\n3                                                    NaN   \n5      All data was pulled using the CDC WONDER morta...   \n7                                                    NaN   \n8                                                    NaN   \n12                                                   NaN   \n...                                                  ...   \n34467                                                NaN   \n34473                                                NaN   \n34477                                                NaN   \n34481                                                NaN   \n34485                                                NaN   \n\n                                                   Notes  \\\n3      This indicator is not exclusive of other drugs...   \n5      This indicator is not exclusive of other drugs...   \n7      This indicator is not exclusive of other drugs...   \n8      This indicator is not exclusive of other drugs...   \n12     This indicator is not exclusive of other drugs...   \n...                                                  ...   \n34467  Population 20 to 64 years; FIPS code 0820000 w...   \n34473  Population 20 to 64 years; FIPS code 4865000 w...   \n34477  Population 20 to 64 years; FIPS code 06073 was...   \n34481  Population 20 to 64 years; FIPS code 2507000 w...   \n34485  Population 20 to 64 years; FIPS code 32003 was...   \n\n       90% Confidence Level - Low  90% Confidence Level - High  \\\n3                             NaN                          NaN   \n5                             NaN                          NaN   \n7                             NaN                          NaN   \n8                             NaN                          NaN   \n12                            NaN                          NaN   \n...                           ...                          ...   \n34467                         3.7                          5.1   \n34473                         5.4                          7.2   \n34477                         6.7                          7.5   \n34481                         6.8                          9.0   \n34485                         8.0                          9.4   \n\n       95% Confidence Level - Low  95% Confidence Level - High  \n3                             2.2                          3.9  \n5                             4.4                          6.0  \n7                             NaN                          NaN  \n8                             9.8                         12.8  \n12                            NaN                          NaN  \n...                           ...                          ...  \n34467                         NaN                          NaN  \n34473                         NaN                          NaN  \n34477                         NaN                          NaN  \n34481                         NaN                          NaN  \n34485                         NaN                          NaN  \n\n[8681 rows x 15 columns]\n"
    }
   ],
   "source": [
    "bchi_df_filtered = bchi_df[(bchi_df.Year.isin(years) & bchi_df.Place.isin(top5_cities)) == True]\n",
    "len(bchi_df_filtered)\n",
    "print(bchi_df_filtered)"
   ]
  },
  {
   "cell_type": "markdown",
   "execution_count": null,
   "metadata": {},
   "outputs": [],
   "source": [
    "Now only 8681 rows remain. In the next step we'll check the columns to see if some are redundant or unecessary"
   ]
  },
  {
   "cell_type": "code",
   "execution_count": 53,
   "metadata": {},
   "outputs": [
    {
     "name": "stdout",
     "output_type": "stream",
     "text": "<class 'pandas.core.frame.DataFrame'>\nInt64Index: 8681 entries, 3 to 34485\nData columns (total 15 columns):\nIndicator Category             8681 non-null object\nIndicator                      8681 non-null object\nYear                           8681 non-null int64\nSex                            8681 non-null object\nRace/Ethnicity                 8681 non-null object\nValue                          7492 non-null float64\nPlace                          8681 non-null object\nBCHC Requested Methodology     8681 non-null object\nSource                         7579 non-null object\nMethods                        2678 non-null object\nNotes                          4378 non-null object\n90% Confidence Level - Low     638 non-null float64\n90% Confidence Level - High    638 non-null float64\n95% Confidence Level - Low     2744 non-null float64\n95% Confidence Level - High    2744 non-null float64\ndtypes: float64(5), int64(1), object(9)\nmemory usage: 1.1+ MB\n"
    }
   ],
   "source": [
    "bchi_df_filtered.info()"
   ]
  },
  {
   "cell_type": "markdown",
   "execution_count": null,
   "metadata": {},
   "outputs": [],
   "source": [
    "Let's drop the following columns: 'BCHC Requested Methodology, Source, Methods, Notes' and these 'Confidence Level' columns"
   ]
  },
  {
   "cell_type": "code",
   "execution_count": 54,
   "metadata": {},
   "outputs": [],
   "source": [
    "bchi_df_filtered = bchi_df_filtered.drop(columns = ['BCHC Requested Methodology', 'Source', 'Methods', 'Notes', '90% Confidence Level - Low', '90% Confidence Level - High', '95% Confidence Level - Low', '95% Confidence Level - High'], axis = 1)"
   ]
  },
  {
   "cell_type": "code",
   "execution_count": 55,
   "metadata": {},
   "outputs": [
    {
     "name": "stdout",
     "output_type": "stream",
     "text": "<class 'pandas.core.frame.DataFrame'>\nInt64Index: 8681 entries, 3 to 34485\nData columns (total 7 columns):\nIndicator Category    8681 non-null object\nIndicator             8681 non-null object\nYear                  8681 non-null int64\nSex                   8681 non-null object\nRace/Ethnicity        8681 non-null object\nValue                 7492 non-null float64\nPlace                 8681 non-null object\ndtypes: float64(1), int64(1), object(5)\nmemory usage: 862.6+ KB\n"
    }
   ],
   "source": [
    "bchi_df_filtered.info()"
   ]
  },
  {
   "cell_type": "code",
   "execution_count": 56,
   "metadata": {},
   "outputs": [
    {
     "data": {
      "text/plain": "Indicator Category       0\nIndicator                0\nYear                     0\nSex                      0\nRace/Ethnicity           0\nValue                 1189\nPlace                    0\ndtype: int64"
     },
     "execution_count": 56,
     "metadata": {},
     "output_type": "execute_result"
    }
   ],
   "source": [
    "# check for NaNs\n",
    "bchi_df_filtered.isna().sum()"
   ]
  },
  {
   "cell_type": "markdown",
   "execution_count": null,
   "metadata": {},
   "outputs": [],
   "source": [
    "1189 missing values in the 'Value' column. Since there are of no use for us we'll remove these rows."
   ]
  },
  {
   "cell_type": "code",
   "execution_count": 64,
   "metadata": {},
   "outputs": [
    {
     "data": {
      "text/html": "<div>\n<style scoped>\n    .dataframe tbody tr th:only-of-type {\n        vertical-align: middle;\n    }\n\n    .dataframe tbody tr th {\n        vertical-align: top;\n    }\n\n    .dataframe thead th {\n        text-align: right;\n    }\n</style>\n<table border=\"1\" class=\"dataframe\">\n  <thead>\n    <tr style=\"text-align: right;\">\n      <th></th>\n      <th>Indicator Category</th>\n      <th>Indicator</th>\n      <th>Year</th>\n      <th>Sex</th>\n      <th>Race/Ethnicity</th>\n      <th>Value</th>\n      <th>Place</th>\n    </tr>\n  </thead>\n  <tbody>\n    <tr>\n      <th>3</th>\n      <td>Behavioral Health/Substance Abuse</td>\n      <td>Opioid-Related Unintentional Drug Overdose Mor...</td>\n      <td>2010</td>\n      <td>Both</td>\n      <td>All</td>\n      <td>3.0</td>\n      <td>San Antonio, TX</td>\n    </tr>\n    <tr>\n      <th>5</th>\n      <td>Behavioral Health/Substance Abuse</td>\n      <td>Opioid-Related Unintentional Drug Overdose Mor...</td>\n      <td>2010</td>\n      <td>Both</td>\n      <td>All</td>\n      <td>5.2</td>\n      <td>San Diego County, CA</td>\n    </tr>\n    <tr>\n      <th>7</th>\n      <td>Behavioral Health/Substance Abuse</td>\n      <td>Opioid-Related Unintentional Drug Overdose Mor...</td>\n      <td>2010</td>\n      <td>Both</td>\n      <td>All</td>\n      <td>6.3</td>\n      <td>Denver, CO</td>\n    </tr>\n    <tr>\n      <th>8</th>\n      <td>Behavioral Health/Substance Abuse</td>\n      <td>Opioid-Related Unintentional Drug Overdose Mor...</td>\n      <td>2010</td>\n      <td>Both</td>\n      <td>All</td>\n      <td>11.3</td>\n      <td>Las Vegas (Clark County), NV</td>\n    </tr>\n    <tr>\n      <th>12</th>\n      <td>Behavioral Health/Substance Abuse</td>\n      <td>Opioid-Related Unintentional Drug Overdose Mor...</td>\n      <td>2010</td>\n      <td>Both</td>\n      <td>Asian/PI</td>\n      <td>0.0</td>\n      <td>Denver, CO</td>\n    </tr>\n    <tr>\n      <th>...</th>\n      <td>...</td>\n      <td>...</td>\n      <td>...</td>\n      <td>...</td>\n      <td>...</td>\n      <td>...</td>\n      <td>...</td>\n    </tr>\n    <tr>\n      <th>34467</th>\n      <td>Social and Economic Factors</td>\n      <td>Percent Unemployed</td>\n      <td>2014</td>\n      <td>Male</td>\n      <td>All</td>\n      <td>4.4</td>\n      <td>Denver, CO</td>\n    </tr>\n    <tr>\n      <th>34473</th>\n      <td>Social and Economic Factors</td>\n      <td>Percent Unemployed</td>\n      <td>2014</td>\n      <td>Male</td>\n      <td>All</td>\n      <td>6.3</td>\n      <td>San Antonio, TX</td>\n    </tr>\n    <tr>\n      <th>34477</th>\n      <td>Social and Economic Factors</td>\n      <td>Percent Unemployed</td>\n      <td>2014</td>\n      <td>Male</td>\n      <td>All</td>\n      <td>7.1</td>\n      <td>San Diego County, CA</td>\n    </tr>\n    <tr>\n      <th>34481</th>\n      <td>Social and Economic Factors</td>\n      <td>Percent Unemployed</td>\n      <td>2014</td>\n      <td>Male</td>\n      <td>All</td>\n      <td>7.9</td>\n      <td>Boston, MA</td>\n    </tr>\n    <tr>\n      <th>34485</th>\n      <td>Social and Economic Factors</td>\n      <td>Percent Unemployed</td>\n      <td>2014</td>\n      <td>Male</td>\n      <td>All</td>\n      <td>8.7</td>\n      <td>Las Vegas (Clark County), NV</td>\n    </tr>\n  </tbody>\n</table>\n<p>7492 rows × 7 columns</p>\n</div>",
      "text/plain": "                      Indicator Category  \\\n3      Behavioral Health/Substance Abuse   \n5      Behavioral Health/Substance Abuse   \n7      Behavioral Health/Substance Abuse   \n8      Behavioral Health/Substance Abuse   \n12     Behavioral Health/Substance Abuse   \n...                                  ...   \n34467        Social and Economic Factors   \n34473        Social and Economic Factors   \n34477        Social and Economic Factors   \n34481        Social and Economic Factors   \n34485        Social and Economic Factors   \n\n                                               Indicator  Year   Sex  \\\n3      Opioid-Related Unintentional Drug Overdose Mor...  2010  Both   \n5      Opioid-Related Unintentional Drug Overdose Mor...  2010  Both   \n7      Opioid-Related Unintentional Drug Overdose Mor...  2010  Both   \n8      Opioid-Related Unintentional Drug Overdose Mor...  2010  Both   \n12     Opioid-Related Unintentional Drug Overdose Mor...  2010  Both   \n...                                                  ...   ...   ...   \n34467                                 Percent Unemployed  2014  Male   \n34473                                 Percent Unemployed  2014  Male   \n34477                                 Percent Unemployed  2014  Male   \n34481                                 Percent Unemployed  2014  Male   \n34485                                 Percent Unemployed  2014  Male   \n\n      Race/Ethnicity  Value                         Place  \n3                All    3.0               San Antonio, TX  \n5                All    5.2          San Diego County, CA  \n7                All    6.3                    Denver, CO  \n8                All   11.3  Las Vegas (Clark County), NV  \n12          Asian/PI    0.0                    Denver, CO  \n...              ...    ...                           ...  \n34467            All    4.4                    Denver, CO  \n34473            All    6.3               San Antonio, TX  \n34477            All    7.1          San Diego County, CA  \n34481            All    7.9                    Boston, MA  \n34485            All    8.7  Las Vegas (Clark County), NV  \n\n[7492 rows x 7 columns]"
     },
     "execution_count": 64,
     "metadata": {},
     "output_type": "execute_result"
    }
   ],
   "source": [
    "bchi_df_filtered.dropna() # 7492 rows remain"
   ]
  },
  {
   "cell_type": "code",
   "execution_count": 65,
   "metadata": {},
   "outputs": [
    {
     "data": {
      "text/plain": "array(['Opioid-Related Unintentional Drug Overdose Mortality Rate (Age-Adjusted; Per 100,000 people)',\n       'Percent of Adults Who Binge Drank',\n       'Percent of High School Students Who Binge Drank',\n       'All Types of Cancer Mortality Rate (Age-Adjusted; Per 100,000 people)',\n       'Female Breast Cancer Mortality Rate (Age-Adjusted; Per 100,000 people)',\n       'Lung Cancer Mortality Rate (Age-Adjusted; Per 100,000 people)',\n       'Asthma Emergency Department Visit Rate (Age-Adjusted; Per 10,000)',\n       'Diabetes Mortality Rate (Age-Adjusted; Per 100,000 people)',\n       'Heart Disease Mortality Rate (Age-Adjusted; Per 100,000 people)',\n       'Percent of Adults Who Are Obese',\n       'Percent of Adults Who Currently Smoke',\n       'Percent of Adults Who Meet CDC-Recommended Physical Activity Levels',\n       'Percent of High School Students Who Are Obese',\n       'Percent of High School Students Who Currently Smoke',\n       'Percent of High School Students Who Meet CDC-Recommended Physical Activity Levels',\n       'Percent Foreign Born', 'Percent of Population 65 and Over',\n       'Percent of Population Under 18',\n       'Percent of Population with a Disability',\n       'Percent Who Only Speak English at Home',\n       'Percent Who Speak Spanish at Home', 'Race/Ethnicity (Percent)',\n       'Sex (Percent)', 'Total Population (People)', 'Bike Score',\n       'Percent of Children (Tested) Under Age 6 with Elevated Blood Lead Levels',\n       'Transit Score', 'Walkability',\n       'Rate of Laboratory Confirmed Infections Caused by Salmonella (Per 100,000 people)',\n       'Rate of Laboratory Confirmed Infections Caused by Shiga Toxin-Producing E-Coli (Per 100,000 people)',\n       'AIDS Diagnoses Rate (Per 100,000 people)',\n       'HIV Diagnoses Rate (Per 100,000 people)',\n       'HIV-Related Mortality Rate (Age-Adjusted; Per 100,000 people)',\n       'Persons Living with HIV/AIDS Rate (Per 100,000 people)',\n       'Percent of Adults 65 and Over Who Received Pneumonia Vaccine',\n       'Percent of Adults Who Received Seasonal Flu Shot',\n       'Percent of Children Who Received Seasonal Flu Shot',\n       'Pneumonia and Influenza Mortality Rate (Age-Adjusted; Per 100,000 people)',\n       'Tuberculosis Incidence Rate (Per 100,000 people)',\n       'Firearm-Related Emergency Department Visit Rate (Age-Adjusted; Per 10,000 people)',\n       'Firearm-Related Mortality Rate (Age-Adjusted; Per 100,000 people)',\n       'Homicide Rate (Age-Adjusted; Per 100,000 people)',\n       'Motor Vehicle Mortality Rate (Age-Adjusted; Per 100,000 people)',\n       'Suicide Rate (Age-Adjusted; Per 100,000 people)',\n       'All-Cause Mortality Rate (Age-Adjusted; Per 100,000 people)',\n       'Life Expectancy at Birth (Years)',\n       'Infant Mortality Rate (Per 1,000 live births)',\n       'Percent of Low Birth Weight Babies Born',\n       'Percent of Mothers Under Age 20',\n       'Chlamydia Rate (Per 100,000 People)',\n       'Congenital Syphilis Rate (Per 100,000 Live Births)',\n       'Gonorrhea Rate (Per 100,000 People)',\n       'Primary and Secondary Syphilis Rate (Per 100,000 People)',\n       'Median Household Income (Dollars)',\n       'Percent Living Below 200% Poverty Level',\n       'Percent of 3 and 4 Year Olds Currently Enrolled in Preschool',\n       'Percent of Children Living in Poverty',\n       'Percent of High School Graduates (Over Age 18)',\n       'Percent of Households Whose Housing Costs Exceed 35% of Income',\n       'Percent of Population Uninsured', 'Percent Unemployed'],\n      dtype=object)"
     },
     "execution_count": 65,
     "metadata": {},
     "output_type": "execute_result"
    }
   ],
   "source": [
    "bchi_df_filtered.Indicator.unique() # pick useful indicators; they should be comparable with a "
   ]
  },
  {
   "cell_type": "code",
   "execution_count": null,
   "metadata": {},
   "outputs": [],
   "source": []
  }
 ]
}